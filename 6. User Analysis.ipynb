{
    "metadata": {
        "kernelspec": {
            "name": "SQL",
            "display_name": "SQL",
            "language": "sql"
        },
        "language_info": {
            "name": "sql",
            "version": ""
        }
    },
    "nbformat_minor": 2,
    "nbformat": 4,
    "cells": [
        {
            "cell_type": "code",
            "source": [
                "use mavenfuzzyfactory"
            ],
            "metadata": {
                "azdata_cell_guid": "4c150110-3e43-4ec5-8e76-b206381aa92c",
                "language": "sql"
            },
            "outputs": [
                {
                    "output_type": "display_data",
                    "data": {
                        "text/html": "Commands completed successfully"
                    },
                    "metadata": {}
                },
                {
                    "output_type": "display_data",
                    "data": {
                        "text/html": "Total execution time: 00:00:00"
                    },
                    "metadata": {}
                }
            ],
            "execution_count": 2
        },
        {
            "cell_type": "markdown",
            "source": [
                "**Subject: Repeat Visitors**\n",
                "\n",
                "<span style=\"font-family: -apple-system, BlinkMacSystemFont, sans-serif; color: var(--vscode-foreground);\">We've been thinking about customer value based solely on&nbsp;</span> <span style=\"font-family: -apple-system, BlinkMacSystemFont, sans-serif; color: var(--vscode-foreground);\">their first session conversion and revenue. But if customers&nbsp;</span> <span style=\"font-family: -apple-system, BlinkMacSystemFont, sans-serif; color: var(--vscode-foreground);\">have repeat sessions, they may be more valuable than we&nbsp;</span> <span style=\"font-family: -apple-system, BlinkMacSystemFont, sans-serif; color: var(--vscode-foreground);\">thought. If that's the case, we might be able to spend a bit&nbsp;</span> <span style=\"font-family: -apple-system, BlinkMacSystemFont, sans-serif; color: var(--vscode-foreground);\">more to acquire them.&nbsp;</span> <span style=\"font-family: -apple-system, BlinkMacSystemFont, sans-serif; color: var(--vscode-foreground);\">Could you please pull data on how many of our website&nbsp;</span> <span style=\"font-family: -apple-system, BlinkMacSystemFont, sans-serif; color: var(--vscode-foreground);\">visitors come back for another session? 2014 to date is good.</span>"
            ],
            "metadata": {
                "language": "sql",
                "azdata_cell_guid": "3d14492b-9e2b-4d12-856e-047003724c9e"
            },
            "attachments": {}
        },
        {
            "cell_type": "code",
            "source": [
                "select * from website_sessions limit 3"
            ],
            "metadata": {
                "azdata_cell_guid": "fce386c9-d3b8-4f0b-abdf-9ece24394292",
                "language": "sql"
            },
            "outputs": [
                {
                    "output_type": "display_data",
                    "data": {
                        "text/html": "(3 row(s) affected)"
                    },
                    "metadata": {}
                },
                {
                    "output_type": "display_data",
                    "data": {
                        "text/html": "Total execution time: 00:00:01.008"
                    },
                    "metadata": {}
                },
                {
                    "output_type": "execute_result",
                    "metadata": {},
                    "execution_count": 3,
                    "data": {
                        "application/vnd.dataresource+json": {
                            "schema": {
                                "fields": [
                                    {
                                        "name": "website_session_id"
                                    },
                                    {
                                        "name": "created_at"
                                    },
                                    {
                                        "name": "user_id"
                                    },
                                    {
                                        "name": "is_repeat_session"
                                    },
                                    {
                                        "name": "utm_source"
                                    },
                                    {
                                        "name": "utm_campaign"
                                    },
                                    {
                                        "name": "utm_content"
                                    },
                                    {
                                        "name": "device_type"
                                    },
                                    {
                                        "name": "http_referer"
                                    }
                                ]
                            },
                            "data": [
                                {
                                    "website_session_id": "1",
                                    "created_at": "2012-03-19 08:04:16",
                                    "user_id": "1",
                                    "is_repeat_session": "0",
                                    "utm_source": "gsearch",
                                    "utm_campaign": "nonbrand",
                                    "utm_content": "g_ad_1",
                                    "device_type": "mobile",
                                    "http_referer": "https://www.gsearch.com"
                                },
                                {
                                    "website_session_id": "2",
                                    "created_at": "2012-03-19 08:16:49",
                                    "user_id": "2",
                                    "is_repeat_session": "0",
                                    "utm_source": "gsearch",
                                    "utm_campaign": "nonbrand",
                                    "utm_content": "g_ad_1",
                                    "device_type": "desktop",
                                    "http_referer": "https://www.gsearch.com"
                                },
                                {
                                    "website_session_id": "3",
                                    "created_at": "2012-03-19 08:26:55",
                                    "user_id": "3",
                                    "is_repeat_session": "0",
                                    "utm_source": "gsearch",
                                    "utm_campaign": "nonbrand",
                                    "utm_content": "g_ad_1",
                                    "device_type": "desktop",
                                    "http_referer": "https://www.gsearch.com"
                                }
                            ]
                        },
                        "text/html": [
                            "<table>",
                            "<tr><th>website_session_id</th><th>created_at</th><th>user_id</th><th>is_repeat_session</th><th>utm_source</th><th>utm_campaign</th><th>utm_content</th><th>device_type</th><th>http_referer</th></tr>",
                            "<tr><td>1</td><td>2012-03-19 08:04:16</td><td>1</td><td>0</td><td>gsearch</td><td>nonbrand</td><td>g_ad_1</td><td>mobile</td><td>https://www.gsearch.com</td></tr>",
                            "<tr><td>2</td><td>2012-03-19 08:16:49</td><td>2</td><td>0</td><td>gsearch</td><td>nonbrand</td><td>g_ad_1</td><td>desktop</td><td>https://www.gsearch.com</td></tr>",
                            "<tr><td>3</td><td>2012-03-19 08:26:55</td><td>3</td><td>0</td><td>gsearch</td><td>nonbrand</td><td>g_ad_1</td><td>desktop</td><td>https://www.gsearch.com</td></tr>",
                            "</table>"
                        ]
                    }
                }
            ],
            "execution_count": 3
        },
        {
            "cell_type": "code",
            "source": [
                "select visits - 1 as repeated_session, count(user_id) as users\n",
                "from\n",
                "(select user_id, count(is_repeat_session) as visits from website_sessions \n",
                "where website_sessions.created_at < '2014-11-01'\n",
                "AND website_sessions.created_at >= '2014-01-01'\n",
                "GROUP BY user_id \n",
                "having min(is_repeat_session)=0\n",
                "order by 2 desc) as a\n",
                "group by visits\n",
                "order by 1"
            ],
            "metadata": {
                "azdata_cell_guid": "d75aebb8-147e-4b3f-a8ed-a1504ad9dbac",
                "language": "sql"
            },
            "outputs": [
                {
                    "output_type": "display_data",
                    "data": {
                        "text/html": "(4 row(s) affected)"
                    },
                    "metadata": {}
                },
                {
                    "output_type": "display_data",
                    "data": {
                        "text/html": "Total execution time: 00:00:01.761"
                    },
                    "metadata": {}
                },
                {
                    "output_type": "execute_result",
                    "metadata": {},
                    "execution_count": 4,
                    "data": {
                        "application/vnd.dataresource+json": {
                            "schema": {
                                "fields": [
                                    {
                                        "name": "repeated_session"
                                    },
                                    {
                                        "name": "users"
                                    }
                                ]
                            },
                            "data": [
                                {
                                    "repeated_session": "0",
                                    "users": "126813"
                                },
                                {
                                    "repeated_session": "1",
                                    "users": "14086"
                                },
                                {
                                    "repeated_session": "2",
                                    "users": "315"
                                },
                                {
                                    "repeated_session": "3",
                                    "users": "4686"
                                }
                            ]
                        },
                        "text/html": [
                            "<table>",
                            "<tr><th>repeated_session</th><th>users</th></tr>",
                            "<tr><td>0</td><td>126813</td></tr>",
                            "<tr><td>1</td><td>14086</td></tr>",
                            "<tr><td>2</td><td>315</td></tr>",
                            "<tr><td>3</td><td>4686</td></tr>",
                            "</table>"
                        ]
                    }
                }
            ],
            "execution_count": 4
        },
        {
            "cell_type": "markdown",
            "source": [
                "**Subject: Deeper Dive on Repeat**\n",
                "\n",
                "Ok, so the repeat session data was really interesting to see. <span style=\"font-family: -apple-system, BlinkMacSystemFont, sans-serif; color: var(--vscode-foreground);\">Now you've got me curious to better understand the behavior&nbsp;</span> <span style=\"font-family: -apple-system, BlinkMacSystemFont, sans-serif; color: var(--vscode-foreground);\">of these repeat customers.&nbsp;</span> <span style=\"font-family: -apple-system, BlinkMacSystemFont, sans-serif; color: var(--vscode-foreground);\">Could you help me understand the minimum, maximum, and&nbsp;</span> <span style=\"font-family: -apple-system, BlinkMacSystemFont, sans-serif; color: var(--vscode-foreground);\">average time between the first and second session for&nbsp;</span> <span style=\"font-family: -apple-system, BlinkMacSystemFont, sans-serif; color: var(--vscode-foreground);\">customers who do come back? Again, analyzing 2014 to date&nbsp;</span> <span style=\"font-family: -apple-system, BlinkMacSystemFont, sans-serif; color: var(--vscode-foreground);\">is probably the right time period.</span>"
            ],
            "metadata": {
                "language": "sql",
                "azdata_cell_guid": "3ef9279d-f31a-4591-998c-d16ea51e4673"
            },
            "attachments": {}
        },
        {
            "cell_type": "code",
            "source": [
                "select avg(diff), min(diff), max(diff)\n",
                "from (select user_id, count(is_repeat_session) as visits, min(created_at), max(created_at), datediff(max(created_at), min(created_at)) as diff from website_sessions \n",
                "where website_sessions.created_at < '2014-11-03'\n",
                "AND website_sessions.created_at >= '2014-01-01'\n",
                "GROUP BY user_id \n",
                "having min(is_repeat_session) = 0\n",
                "and count(is_repeat_session) = 2\n",
                "order by 2 desc ) as a"
            ],
            "metadata": {
                "azdata_cell_guid": "5d22aadc-6f7f-42bb-bfef-a2a304bc8552",
                "language": "sql"
            },
            "outputs": [
                {
                    "output_type": "display_data",
                    "data": {
                        "text/html": "(1 row(s) affected)"
                    },
                    "metadata": {}
                },
                {
                    "output_type": "display_data",
                    "data": {
                        "text/html": "Total execution time: 00:00:01.734"
                    },
                    "metadata": {}
                },
                {
                    "output_type": "execute_result",
                    "metadata": {},
                    "execution_count": 5,
                    "data": {
                        "application/vnd.dataresource+json": {
                            "schema": {
                                "fields": [
                                    {
                                        "name": "avg(diff)"
                                    },
                                    {
                                        "name": "min(diff)"
                                    },
                                    {
                                        "name": "max(diff)"
                                    }
                                ]
                            },
                            "data": [
                                {
                                    "avg(diff)": "33.2437",
                                    "min(diff)": "1",
                                    "max(diff)": "69"
                                }
                            ]
                        },
                        "text/html": [
                            "<table>",
                            "<tr><th>avg(diff)</th><th>min(diff)</th><th>max(diff)</th></tr>",
                            "<tr><td>33.2437</td><td>1</td><td>69</td></tr>",
                            "</table>"
                        ]
                    }
                }
            ],
            "execution_count": 5
        },
        {
            "cell_type": "markdown",
            "source": [
                "**Subject: Repeat Channel Mix**\n",
                "\n",
                "<span style=\"font-family: -apple-system, BlinkMacSystemFont, sans-serif; color: var(--vscode-foreground);\">Let's do a bit more digging into our repeat customers.&nbsp;</span> <span style=\"font-family: -apple-system, BlinkMacSystemFont, sans-serif; color: var(--vscode-foreground);\">Can you help me understand the channels they come back&nbsp;</span> <span style=\"font-family: -apple-system, BlinkMacSystemFont, sans-serif; color: var(--vscode-foreground);\">through? Curious if it's all direct type-in, or if we're paying for&nbsp;</span> <span style=\"font-family: -apple-system, BlinkMacSystemFont, sans-serif; color: var(--vscode-foreground);\">these customers with paid search ads multiple times.&nbsp;</span> <span style=\"font-family: -apple-system, BlinkMacSystemFont, sans-serif; color: var(--vscode-foreground);\">Comparing new vs. repeat sessions by channel would be&nbsp;</span> <span style=\"font-family: -apple-system, BlinkMacSystemFont, sans-serif; color: var(--vscode-foreground);\">really valuable, if you're able to pull it! 2014 to date is great.</span>"
            ],
            "metadata": {
                "language": "sql",
                "azdata_cell_guid": "452422d7-dbc5-4b47-bfc2-3ba937400759"
            },
            "attachments": {}
        },
        {
            "cell_type": "code",
            "source": [
                "select \n",
                "CASE\n",
                "WHEN utm_source IS NULL AND http_referer IN ('https://www.gsearch.com', 'https://www.bsearch.com') THEN 'organic_search'\n",
                "WHEN utm_campaign = 'nonbrand' THEN 'paid_nonbrand'\n",
                "WHEN utm_campaign = 'brand' THEN 'paid_brand'\n",
                "WHEN utm_source IS NULL AND http_referer IS NULL THEN 'direct_type_in'\n",
                "WHEN\n",
                "utm_source = 'socialbook' THEN 'paid_social'\n",
                "END AS channel_group,\n",
                "count(distinct case when is_repeat_session = 0 then website_session_id else null end) as first_session,\n",
                "count(distinct case when is_repeat_session = 1 then website_session_id else null end) as repeat_session\n",
                "from website_sessions\n",
                "where website_sessions.created_at < '2014-11-05'\n",
                "AND website_sessions.created_at >= '2014-01-01'\n",
                "GROUP BY 1"
            ],
            "metadata": {
                "azdata_cell_guid": "891f8119-55fd-46fa-af7c-d4cfd5ef3446",
                "language": "sql"
            },
            "outputs": [
                {
                    "output_type": "display_data",
                    "data": {
                        "text/html": "(5 row(s) affected)"
                    },
                    "metadata": {}
                },
                {
                    "output_type": "display_data",
                    "data": {
                        "text/html": "Total execution time: 00:00:01.479"
                    },
                    "metadata": {}
                },
                {
                    "output_type": "execute_result",
                    "metadata": {},
                    "execution_count": 32,
                    "data": {
                        "application/vnd.dataresource+json": {
                            "schema": {
                                "fields": [
                                    {
                                        "name": "channel_group"
                                    },
                                    {
                                        "name": "first_session"
                                    },
                                    {
                                        "name": "repeat_session"
                                    }
                                ]
                            },
                            "data": [
                                {
                                    "channel_group": "direct_type_in",
                                    "first_session": "6591",
                                    "repeat_session": "10564"
                                },
                                {
                                    "channel_group": "organic_search",
                                    "first_session": "7139",
                                    "repeat_session": "11507"
                                },
                                {
                                    "channel_group": "paid_brand",
                                    "first_session": "6432",
                                    "repeat_session": "11027"
                                },
                                {
                                    "channel_group": "paid_nonbrand",
                                    "first_session": "119950",
                                    "repeat_session": "0"
                                },
                                {
                                    "channel_group": "paid_social",
                                    "first_session": "7652",
                                    "repeat_session": "0"
                                }
                            ]
                        },
                        "text/html": [
                            "<table>",
                            "<tr><th>channel_group</th><th>first_session</th><th>repeat_session</th></tr>",
                            "<tr><td>direct_type_in</td><td>6591</td><td>10564</td></tr>",
                            "<tr><td>organic_search</td><td>7139</td><td>11507</td></tr>",
                            "<tr><td>paid_brand</td><td>6432</td><td>11027</td></tr>",
                            "<tr><td>paid_nonbrand</td><td>119950</td><td>0</td></tr>",
                            "<tr><td>paid_social</td><td>7652</td><td>0</td></tr>",
                            "</table>"
                        ]
                    }
                }
            ],
            "execution_count": 32
        },
        {
            "cell_type": "markdown",
            "source": [
                "**Subject: Top Website Pages**\n",
                "\n",
                "<span style=\"font-family: -apple-system, BlinkMacSystemFont, sans-serif; color: var(--vscode-foreground);\">Sounds like you and Tom have learned a lot about our repeat&nbsp;</span> <span style=\"font-family: -apple-system, BlinkMacSystemFont, sans-serif; color: var(--vscode-foreground);\">customers. Can I trouble you for one more thing?&nbsp;</span> <span style=\"font-family: -apple-system, BlinkMacSystemFont, sans-serif; color: var(--vscode-foreground);\">I'd love to do a comparison of conversion rates and revenue per&nbsp;</span> <span style=\"font-family: -apple-system, BlinkMacSystemFont, sans-serif; color: var(--vscode-foreground);\">session for repeat sessions vs new sessions.&nbsp;</span> <span style=\"font-family: -apple-system, BlinkMacSystemFont, sans-serif; color: var(--vscode-foreground);\">Let's continue using data from 2014, year to date.</span>"
            ],
            "metadata": {
                "language": "sql",
                "azdata_cell_guid": "676db420-da3f-48be-b57d-a399ea21e2c8"
            },
            "attachments": {}
        },
        {
            "cell_type": "code",
            "source": [
                "select is_repeat_session, count(DISTINCT website_sessions.website_session_id) as sessions, \n",
                "count(DISTINCT order_id)/count(DISTINCT website_sessions.website_session_id) as conv_rate,\n",
                "sum(price_usd)/count(DISTINCT website_sessions.website_session_id) as rev_per_sesion\n",
                "from website_sessions\n",
                "left join orders\n",
                "on website_sessions.website_session_id = orders.website_session_id\n",
                "where website_sessions.created_at < '2014-11-08'\n",
                "AND website_sessions.created_at >= '2014-01-01'\n",
                "group by 1"
            ],
            "metadata": {
                "azdata_cell_guid": "17d3e3ca-b849-4835-ac32-bfcd67ae2890",
                "language": "sql"
            },
            "outputs": [
                {
                    "output_type": "display_data",
                    "data": {
                        "text/html": "(2 row(s) affected)"
                    },
                    "metadata": {}
                },
                {
                    "output_type": "display_data",
                    "data": {
                        "text/html": "Total execution time: 00:00:01.634"
                    },
                    "metadata": {}
                },
                {
                    "output_type": "execute_result",
                    "metadata": {},
                    "execution_count": 46,
                    "data": {
                        "application/vnd.dataresource+json": {
                            "schema": {
                                "fields": [
                                    {
                                        "name": "is_repeat_session"
                                    },
                                    {
                                        "name": "sessions"
                                    },
                                    {
                                        "name": "conv_rate"
                                    },
                                    {
                                        "name": "rev_per_sesion"
                                    }
                                ]
                            },
                            "data": [
                                {
                                    "is_repeat_session": "0",
                                    "sessions": "149787",
                                    "conv_rate": "0.0680",
                                    "rev_per_sesion": "4.343754"
                                },
                                {
                                    "is_repeat_session": "1",
                                    "sessions": "33577",
                                    "conv_rate": "0.0811",
                                    "rev_per_sesion": "5.168828"
                                }
                            ]
                        },
                        "text/html": [
                            "<table>",
                            "<tr><th>is_repeat_session</th><th>sessions</th><th>conv_rate</th><th>rev_per_sesion</th></tr>",
                            "<tr><td>0</td><td>149787</td><td>0.0680</td><td>4.343754</td></tr>",
                            "<tr><td>1</td><td>33577</td><td>0.0811</td><td>5.168828</td></tr>",
                            "</table>"
                        ]
                    }
                }
            ],
            "execution_count": 46
        }
    ]
}