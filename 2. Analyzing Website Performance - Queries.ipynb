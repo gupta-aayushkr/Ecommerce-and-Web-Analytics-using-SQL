{
    "metadata": {
        "kernelspec": {
            "name": "SQL",
            "display_name": "SQL",
            "language": "sql"
        },
        "language_info": {
            "name": "sql",
            "version": ""
        }
    },
    "nbformat_minor": 2,
    "nbformat": 4,
    "cells": [
        {
            "cell_type": "code",
            "source": [
                "use mavenfuzzyfactory"
            ],
            "metadata": {
                "azdata_cell_guid": "fef7cff1-6275-497e-80f1-8ba5771511a7",
                "language": "sql"
            },
            "outputs": [
                {
                    "output_type": "display_data",
                    "data": {
                        "text/html": "Commands completed successfully"
                    },
                    "metadata": {}
                },
                {
                    "output_type": "display_data",
                    "data": {
                        "text/html": "Total execution time: 00:00:00"
                    },
                    "metadata": {}
                }
            ],
            "execution_count": 1
        },
        {
            "cell_type": "code",
            "source": [
                "select * from website_pageviews limit 10"
            ],
            "metadata": {
                "azdata_cell_guid": "f2a641b8-4a17-40e9-a53e-914a505cb6c9",
                "language": "sql"
            },
            "outputs": [
                {
                    "output_type": "display_data",
                    "data": {
                        "text/html": "(10 row(s) affected)"
                    },
                    "metadata": {}
                },
                {
                    "output_type": "display_data",
                    "data": {
                        "text/html": "Total execution time: 00:00:01.005"
                    },
                    "metadata": {}
                },
                {
                    "output_type": "execute_result",
                    "metadata": {},
                    "execution_count": 3,
                    "data": {
                        "application/vnd.dataresource+json": {
                            "schema": {
                                "fields": [
                                    {
                                        "name": "website_pageview_id"
                                    },
                                    {
                                        "name": "created_at"
                                    },
                                    {
                                        "name": "website_session_id"
                                    },
                                    {
                                        "name": "pageview_url"
                                    }
                                ]
                            },
                            "data": [
                                {
                                    "website_pageview_id": "1",
                                    "created_at": "2012-03-19 08:04:16",
                                    "website_session_id": "1",
                                    "pageview_url": "/home"
                                },
                                {
                                    "website_pageview_id": "2",
                                    "created_at": "2012-03-19 08:16:49",
                                    "website_session_id": "2",
                                    "pageview_url": "/home"
                                },
                                {
                                    "website_pageview_id": "3",
                                    "created_at": "2012-03-19 08:26:55",
                                    "website_session_id": "3",
                                    "pageview_url": "/home"
                                },
                                {
                                    "website_pageview_id": "4",
                                    "created_at": "2012-03-19 08:37:33",
                                    "website_session_id": "4",
                                    "pageview_url": "/home"
                                },
                                {
                                    "website_pageview_id": "5",
                                    "created_at": "2012-03-19 09:00:55",
                                    "website_session_id": "5",
                                    "pageview_url": "/home"
                                },
                                {
                                    "website_pageview_id": "6",
                                    "created_at": "2012-03-19 09:05:46",
                                    "website_session_id": "6",
                                    "pageview_url": "/home"
                                },
                                {
                                    "website_pageview_id": "7",
                                    "created_at": "2012-03-19 09:06:27",
                                    "website_session_id": "7",
                                    "pageview_url": "/home"
                                },
                                {
                                    "website_pageview_id": "8",
                                    "created_at": "2012-03-19 09:10:08",
                                    "website_session_id": "6",
                                    "pageview_url": "/products"
                                },
                                {
                                    "website_pageview_id": "9",
                                    "created_at": "2012-03-19 09:10:52",
                                    "website_session_id": "6",
                                    "pageview_url": "/the-original-mr-fuzzy"
                                },
                                {
                                    "website_pageview_id": "10",
                                    "created_at": "2012-03-19 09:14:02",
                                    "website_session_id": "6",
                                    "pageview_url": "/cart"
                                }
                            ]
                        },
                        "text/html": [
                            "<table>",
                            "<tr><th>website_pageview_id</th><th>created_at</th><th>website_session_id</th><th>pageview_url</th></tr>",
                            "<tr><td>1</td><td>2012-03-19 08:04:16</td><td>1</td><td>/home</td></tr>",
                            "<tr><td>2</td><td>2012-03-19 08:16:49</td><td>2</td><td>/home</td></tr>",
                            "<tr><td>3</td><td>2012-03-19 08:26:55</td><td>3</td><td>/home</td></tr>",
                            "<tr><td>4</td><td>2012-03-19 08:37:33</td><td>4</td><td>/home</td></tr>",
                            "<tr><td>5</td><td>2012-03-19 09:00:55</td><td>5</td><td>/home</td></tr>",
                            "<tr><td>6</td><td>2012-03-19 09:05:46</td><td>6</td><td>/home</td></tr>",
                            "<tr><td>7</td><td>2012-03-19 09:06:27</td><td>7</td><td>/home</td></tr>",
                            "<tr><td>8</td><td>2012-03-19 09:10:08</td><td>6</td><td>/products</td></tr>",
                            "<tr><td>9</td><td>2012-03-19 09:10:52</td><td>6</td><td>/the-original-mr-fuzzy</td></tr>",
                            "<tr><td>10</td><td>2012-03-19 09:14:02</td><td>6</td><td>/cart</td></tr>",
                            "</table>"
                        ]
                    }
                }
            ],
            "execution_count": 3
        },
        {
            "cell_type": "markdown",
            "source": [
                "**Subject: Top Website Pages:** Could you help me get my head around the site by pulling <span style=\"font-family: -apple-system, BlinkMacSystemFont, sans-serif; color: var(--vscode-foreground);\">the most-viewed website pages, ranked by session volume?</span>"
            ],
            "metadata": {
                "language": "sql",
                "azdata_cell_guid": "d5463f1a-89c5-4ab9-9997-bef5c7c2ba03"
            },
            "attachments": {}
        },
        {
            "cell_type": "code",
            "source": [
                "select pageview_url, count(DISTINCT website_session_id) as session\n",
                "from website_pageviews\n",
                "where created_at < '2012-06-09'\n",
                "GROUP BY pageview_url\n",
                "ORDER BY session desc\n",
                "limit 10"
            ],
            "metadata": {
                "azdata_cell_guid": "efba9e85-fe77-489d-acd3-1a3cd30156ae",
                "language": "sql"
            },
            "outputs": [
                {
                    "output_type": "display_data",
                    "data": {
                        "text/html": "(7 row(s) affected)"
                    },
                    "metadata": {}
                },
                {
                    "output_type": "display_data",
                    "data": {
                        "text/html": "Total execution time: 00:00:01.417"
                    },
                    "metadata": {}
                },
                {
                    "output_type": "execute_result",
                    "metadata": {},
                    "execution_count": 10,
                    "data": {
                        "application/vnd.dataresource+json": {
                            "schema": {
                                "fields": [
                                    {
                                        "name": "pageview_url"
                                    },
                                    {
                                        "name": "session"
                                    }
                                ]
                            },
                            "data": [
                                {
                                    "pageview_url": "/home",
                                    "session": "10403"
                                },
                                {
                                    "pageview_url": "/products",
                                    "session": "4239"
                                },
                                {
                                    "pageview_url": "/the-original-mr-fuzzy",
                                    "session": "3037"
                                },
                                {
                                    "pageview_url": "/cart",
                                    "session": "1306"
                                },
                                {
                                    "pageview_url": "/shipping",
                                    "session": "869"
                                },
                                {
                                    "pageview_url": "/billing",
                                    "session": "716"
                                },
                                {
                                    "pageview_url": "/thank-you-for-your-order",
                                    "session": "306"
                                }
                            ]
                        },
                        "text/html": [
                            "<table>",
                            "<tr><th>pageview_url</th><th>session</th></tr>",
                            "<tr><td>/home</td><td>10403</td></tr>",
                            "<tr><td>/products</td><td>4239</td></tr>",
                            "<tr><td>/the-original-mr-fuzzy</td><td>3037</td></tr>",
                            "<tr><td>/cart</td><td>1306</td></tr>",
                            "<tr><td>/shipping</td><td>869</td></tr>",
                            "<tr><td>/billing</td><td>716</td></tr>",
                            "<tr><td>/thank-you-for-your-order</td><td>306</td></tr>",
                            "</table>"
                        ]
                    }
                }
            ],
            "execution_count": 10
        },
        {
            "cell_type": "markdown",
            "source": [
                "**Subject: Top Entry Pages -** Would you be able to pull a list of the top entry pages? I <span style=\"font-family: -apple-system, BlinkMacSystemFont, sans-serif; color: var(--vscode-foreground);\">want to confirm where our users are hitting the site.&nbsp;</span>  <span style=\"font-family: -apple-system, BlinkMacSystemFont, sans-serif; color: var(--vscode-foreground);\">If you could pull all entry pages and rank them on entry&nbsp;</span>  <span style=\"font-family: -apple-system, BlinkMacSystemFont, sans-serif; color: var(--vscode-foreground);\">volume, that would be great.</span>"
            ],
            "metadata": {
                "language": "sql",
                "azdata_cell_guid": "ad089ff1-123a-4eff-9177-6913ea0ea81c"
            },
            "attachments": {}
        },
        {
            "cell_type": "code",
            "source": [
                "-- creating a temporary table for first_entry_page later to be used.\n",
                "CREATE TEMPORARY TABLE first_pageview\n",
                "SELECT website_session_id, min(website_pageview_id) as first_entry_page\n",
                "FROM website_pageviews\n",
                "where created_at < '2012-06-12'\n",
                "GROUP by website_session_id"
            ],
            "metadata": {
                "azdata_cell_guid": "52393fc7-9366-4c30-841b-79f147d99c3f",
                "language": "sql"
            },
            "outputs": [
                {
                    "output_type": "display_data",
                    "data": {
                        "text/html": "Commands completed successfully"
                    },
                    "metadata": {}
                },
                {
                    "output_type": "display_data",
                    "data": {
                        "text/html": "Total execution time: 00:00:04.031"
                    },
                    "metadata": {}
                }
            ],
            "execution_count": 41
        },
        {
            "cell_type": "code",
            "source": [
                "drop TEMPORARY table first_pageview"
            ],
            "metadata": {
                "language": "sql",
                "azdata_cell_guid": "ad025df6-62c8-4db0-9a98-a7b670c953c3"
            },
            "outputs": [
                {
                    "output_type": "display_data",
                    "data": {
                        "text/html": "Commands completed successfully"
                    },
                    "metadata": {}
                },
                {
                    "output_type": "display_data",
                    "data": {
                        "text/html": "Total execution time: 00:00:00.050"
                    },
                    "metadata": {}
                }
            ],
            "execution_count": 40
        },
        {
            "cell_type": "code",
            "source": [
                "select * from first_pageview limit 10"
            ],
            "metadata": {
                "azdata_cell_guid": "cc2e6f9a-052c-413c-ab1d-954152b848bf",
                "language": "sql"
            },
            "outputs": [
                {
                    "output_type": "display_data",
                    "data": {
                        "text/html": "(10 row(s) affected)"
                    },
                    "metadata": {}
                },
                {
                    "output_type": "display_data",
                    "data": {
                        "text/html": "Total execution time: 00:00:01.003"
                    },
                    "metadata": {}
                },
                {
                    "output_type": "execute_result",
                    "metadata": {},
                    "execution_count": 45,
                    "data": {
                        "application/vnd.dataresource+json": {
                            "schema": {
                                "fields": [
                                    {
                                        "name": "website_session_id"
                                    },
                                    {
                                        "name": "first_entry_page"
                                    }
                                ]
                            },
                            "data": [
                                {
                                    "website_session_id": "1",
                                    "first_entry_page": "1"
                                },
                                {
                                    "website_session_id": "2",
                                    "first_entry_page": "2"
                                },
                                {
                                    "website_session_id": "3",
                                    "first_entry_page": "3"
                                },
                                {
                                    "website_session_id": "4",
                                    "first_entry_page": "4"
                                },
                                {
                                    "website_session_id": "5",
                                    "first_entry_page": "5"
                                },
                                {
                                    "website_session_id": "6",
                                    "first_entry_page": "6"
                                },
                                {
                                    "website_session_id": "7",
                                    "first_entry_page": "7"
                                },
                                {
                                    "website_session_id": "8",
                                    "first_entry_page": "12"
                                },
                                {
                                    "website_session_id": "9",
                                    "first_entry_page": "14"
                                },
                                {
                                    "website_session_id": "10",
                                    "first_entry_page": "15"
                                }
                            ]
                        },
                        "text/html": [
                            "<table>",
                            "<tr><th>website_session_id</th><th>first_entry_page</th></tr>",
                            "<tr><td>1</td><td>1</td></tr>",
                            "<tr><td>2</td><td>2</td></tr>",
                            "<tr><td>3</td><td>3</td></tr>",
                            "<tr><td>4</td><td>4</td></tr>",
                            "<tr><td>5</td><td>5</td></tr>",
                            "<tr><td>6</td><td>6</td></tr>",
                            "<tr><td>7</td><td>7</td></tr>",
                            "<tr><td>8</td><td>12</td></tr>",
                            "<tr><td>9</td><td>14</td></tr>",
                            "<tr><td>10</td><td>15</td></tr>",
                            "</table>"
                        ]
                    }
                }
            ],
            "execution_count": 45
        },
        {
            "cell_type": "code",
            "source": [
                "-- IMPORTANT: \n",
                "-- LEFT TABLE will be the View we created it's logical to have info for these only\n",
                "-- We have to join on pageviews it will contain info about more pageview to count session\n",
                "select website_pageviews.pageview_url, count(DISTINCT first_pageview.website_session_id) as sessions_hitting_this_landing_page\n",
                "from first_pageview LEFT JOIN website_pageviews\n",
                "on website_pageviews.website_pageview_id = first_pageview.first_entry_page\n",
                "where created_at < '2012-06-12'\n",
                "GROUP BY pageview_url\n",
                "order by 2 desc"
            ],
            "metadata": {
                "azdata_cell_guid": "24d63d68-f1b5-4232-b1e9-add53b527d3a",
                "language": "sql"
            },
            "outputs": [
                {
                    "output_type": "display_data",
                    "data": {
                        "text/html": "(1 row(s) affected)"
                    },
                    "metadata": {}
                },
                {
                    "output_type": "display_data",
                    "data": {
                        "text/html": "Total execution time: 00:00:01.042"
                    },
                    "metadata": {}
                },
                {
                    "output_type": "execute_result",
                    "metadata": {},
                    "execution_count": 50,
                    "data": {
                        "application/vnd.dataresource+json": {
                            "schema": {
                                "fields": [
                                    {
                                        "name": "pageview_url"
                                    },
                                    {
                                        "name": "sessions_hitting_this_landing_page"
                                    }
                                ]
                            },
                            "data": [
                                {
                                    "pageview_url": "/home",
                                    "sessions_hitting_this_landing_page": "10714"
                                }
                            ]
                        },
                        "text/html": [
                            "<table>",
                            "<tr><th>pageview_url</th><th>sessions_hitting_this_landing_page</th></tr>",
                            "<tr><td>/home</td><td>10714</td></tr>",
                            "</table>"
                        ]
                    }
                }
            ],
            "execution_count": 50
        },
        {
            "cell_type": "code",
            "source": [
                "-- BUSINESS CONTEXT: we want to see landing page performance for a certain time period\n",
                "-- STEP 1: find the first website_pageview_id for relevant sessions\n",
                "-- STEP 2: identify the landing page of each session\n",
                "-- STEP 3: counting pageviews for each session, to identify \"bounces\"\n",
                "-- STEP 4: summarizing total sessions and bounced sessions, by LP"
            ],
            "metadata": {
                "azdata_cell_guid": "4db7af70-9140-434f-94cf-f9e579c6c920",
                "language": "sql"
            },
            "outputs": [],
            "execution_count": null
        },
        {
            "cell_type": "code",
            "source": [
                ""
            ],
            "metadata": {
                "azdata_cell_guid": "efeb0808-ec1b-499c-b5c2-0a12ae17b88f",
                "language": "sql"
            },
            "outputs": [],
            "execution_count": null
        }
    ]
}