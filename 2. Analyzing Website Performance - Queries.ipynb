{
    "metadata": {
        "kernelspec": {
            "name": "SQL",
            "display_name": "SQL",
            "language": "sql"
        },
        "language_info": {
            "name": "sql",
            "version": ""
        }
    },
    "nbformat_minor": 2,
    "nbformat": 4,
    "cells": [
        {
            "cell_type": "code",
            "source": [
                "use mavenfuzzyfactory"
            ],
            "metadata": {
                "azdata_cell_guid": "fef7cff1-6275-497e-80f1-8ba5771511a7",
                "language": "sql"
            },
            "outputs": [
                {
                    "output_type": "display_data",
                    "data": {
                        "text/html": "Commands completed successfully"
                    },
                    "metadata": {}
                },
                {
                    "output_type": "display_data",
                    "data": {
                        "text/html": "Total execution time: 00:00:00"
                    },
                    "metadata": {}
                }
            ],
            "execution_count": 1
        },
        {
            "cell_type": "code",
            "source": [
                "select * from website_pageviews limit 10"
            ],
            "metadata": {
                "azdata_cell_guid": "f2a641b8-4a17-40e9-a53e-914a505cb6c9",
                "language": "sql"
            },
            "outputs": [
                {
                    "output_type": "display_data",
                    "data": {
                        "text/html": "(10 row(s) affected)"
                    },
                    "metadata": {}
                },
                {
                    "output_type": "display_data",
                    "data": {
                        "text/html": "Total execution time: 00:00:01.005"
                    },
                    "metadata": {}
                },
                {
                    "output_type": "execute_result",
                    "metadata": {},
                    "execution_count": 3,
                    "data": {
                        "application/vnd.dataresource+json": {
                            "schema": {
                                "fields": [
                                    {
                                        "name": "website_pageview_id"
                                    },
                                    {
                                        "name": "created_at"
                                    },
                                    {
                                        "name": "website_session_id"
                                    },
                                    {
                                        "name": "pageview_url"
                                    }
                                ]
                            },
                            "data": [
                                {
                                    "website_pageview_id": "1",
                                    "created_at": "2012-03-19 08:04:16",
                                    "website_session_id": "1",
                                    "pageview_url": "/home"
                                },
                                {
                                    "website_pageview_id": "2",
                                    "created_at": "2012-03-19 08:16:49",
                                    "website_session_id": "2",
                                    "pageview_url": "/home"
                                },
                                {
                                    "website_pageview_id": "3",
                                    "created_at": "2012-03-19 08:26:55",
                                    "website_session_id": "3",
                                    "pageview_url": "/home"
                                },
                                {
                                    "website_pageview_id": "4",
                                    "created_at": "2012-03-19 08:37:33",
                                    "website_session_id": "4",
                                    "pageview_url": "/home"
                                },
                                {
                                    "website_pageview_id": "5",
                                    "created_at": "2012-03-19 09:00:55",
                                    "website_session_id": "5",
                                    "pageview_url": "/home"
                                },
                                {
                                    "website_pageview_id": "6",
                                    "created_at": "2012-03-19 09:05:46",
                                    "website_session_id": "6",
                                    "pageview_url": "/home"
                                },
                                {
                                    "website_pageview_id": "7",
                                    "created_at": "2012-03-19 09:06:27",
                                    "website_session_id": "7",
                                    "pageview_url": "/home"
                                },
                                {
                                    "website_pageview_id": "8",
                                    "created_at": "2012-03-19 09:10:08",
                                    "website_session_id": "6",
                                    "pageview_url": "/products"
                                },
                                {
                                    "website_pageview_id": "9",
                                    "created_at": "2012-03-19 09:10:52",
                                    "website_session_id": "6",
                                    "pageview_url": "/the-original-mr-fuzzy"
                                },
                                {
                                    "website_pageview_id": "10",
                                    "created_at": "2012-03-19 09:14:02",
                                    "website_session_id": "6",
                                    "pageview_url": "/cart"
                                }
                            ]
                        },
                        "text/html": [
                            "<table>",
                            "<tr><th>website_pageview_id</th><th>created_at</th><th>website_session_id</th><th>pageview_url</th></tr>",
                            "<tr><td>1</td><td>2012-03-19 08:04:16</td><td>1</td><td>/home</td></tr>",
                            "<tr><td>2</td><td>2012-03-19 08:16:49</td><td>2</td><td>/home</td></tr>",
                            "<tr><td>3</td><td>2012-03-19 08:26:55</td><td>3</td><td>/home</td></tr>",
                            "<tr><td>4</td><td>2012-03-19 08:37:33</td><td>4</td><td>/home</td></tr>",
                            "<tr><td>5</td><td>2012-03-19 09:00:55</td><td>5</td><td>/home</td></tr>",
                            "<tr><td>6</td><td>2012-03-19 09:05:46</td><td>6</td><td>/home</td></tr>",
                            "<tr><td>7</td><td>2012-03-19 09:06:27</td><td>7</td><td>/home</td></tr>",
                            "<tr><td>8</td><td>2012-03-19 09:10:08</td><td>6</td><td>/products</td></tr>",
                            "<tr><td>9</td><td>2012-03-19 09:10:52</td><td>6</td><td>/the-original-mr-fuzzy</td></tr>",
                            "<tr><td>10</td><td>2012-03-19 09:14:02</td><td>6</td><td>/cart</td></tr>",
                            "</table>"
                        ]
                    }
                }
            ],
            "execution_count": 3
        },
        {
            "cell_type": "code",
            "source": [
                ""
            ],
            "metadata": {
                "azdata_cell_guid": "efba9e85-fe77-489d-acd3-1a3cd30156ae",
                "language": "sql"
            },
            "outputs": [],
            "execution_count": null
        }
    ]
}