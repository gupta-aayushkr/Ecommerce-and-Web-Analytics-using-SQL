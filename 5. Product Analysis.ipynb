{
    "metadata": {
        "kernelspec": {
            "name": "SQL",
            "display_name": "SQL",
            "language": "sql"
        },
        "language_info": {
            "name": "sql",
            "version": ""
        }
    },
    "nbformat_minor": 2,
    "nbformat": 4,
    "cells": [
        {
            "cell_type": "code",
            "source": [
                "use mavenfuzzyfactory"
            ],
            "metadata": {
                "azdata_cell_guid": "045ed71a-7117-4a84-8db2-38f54d85c77c",
                "language": "sql"
            },
            "outputs": [
                {
                    "output_type": "display_data",
                    "data": {
                        "text/html": "Commands completed successfully"
                    },
                    "metadata": {}
                },
                {
                    "output_type": "display_data",
                    "data": {
                        "text/html": "Total execution time: 00:00:00"
                    },
                    "metadata": {}
                }
            ],
            "execution_count": 1
        },
        {
            "cell_type": "markdown",
            "source": [
                "**Subiect: Sales Trends**\n",
                "\n",
                "<span style=\"font-family: -apple-system, BlinkMacSystemFont, sans-serif; color: var(--vscode-foreground);\">We're about to launch a new product, and I'd like to do a&nbsp;</span> <span style=\"font-family: -apple-system, BlinkMacSystemFont, sans-serif; color: var(--vscode-foreground);\">deep dive on our current flagship product.&nbsp;</span> <span style=\"font-family: -apple-system, BlinkMacSystemFont, sans-serif; color: var(--vscode-foreground);\">Can you please pull monthly trends to date for number of&nbsp;</span> <span style=\"font-family: -apple-system, BlinkMacSystemFont, sans-serif; color: var(--vscode-foreground);\">sales, total revenue, and total margin generated for the&nbsp;</span> <span style=\"font-family: -apple-system, BlinkMacSystemFont, sans-serif; color: var(--vscode-foreground);\">business?</span>"
            ],
            "metadata": {
                "language": "sql",
                "azdata_cell_guid": "9f65e48d-9120-4d77-860c-df1d7fa0ebae"
            },
            "attachments": {}
        },
        {
            "cell_type": "code",
            "source": [
                "show tables"
            ],
            "metadata": {
                "azdata_cell_guid": "bb6ee489-84c7-4bd7-b44a-02259ab4d801",
                "language": "sql"
            },
            "outputs": [
                {
                    "output_type": "display_data",
                    "data": {
                        "text/html": "(6 row(s) affected)"
                    },
                    "metadata": {}
                },
                {
                    "output_type": "display_data",
                    "data": {
                        "text/html": "Total execution time: 00:00:01.010"
                    },
                    "metadata": {}
                },
                {
                    "output_type": "execute_result",
                    "metadata": {},
                    "execution_count": 2,
                    "data": {
                        "application/vnd.dataresource+json": {
                            "schema": {
                                "fields": [
                                    {
                                        "name": "Tables_in_mavenfuzzyfactory"
                                    }
                                ]
                            },
                            "data": [
                                {
                                    "Tables_in_mavenfuzzyfactory": "order_item_refunds"
                                },
                                {
                                    "Tables_in_mavenfuzzyfactory": "order_items"
                                },
                                {
                                    "Tables_in_mavenfuzzyfactory": "orders"
                                },
                                {
                                    "Tables_in_mavenfuzzyfactory": "products"
                                },
                                {
                                    "Tables_in_mavenfuzzyfactory": "website_pageviews"
                                },
                                {
                                    "Tables_in_mavenfuzzyfactory": "website_sessions"
                                }
                            ]
                        },
                        "text/html": [
                            "<table>",
                            "<tr><th>Tables_in_mavenfuzzyfactory</th></tr>",
                            "<tr><td>order_item_refunds</td></tr>",
                            "<tr><td>order_items</td></tr>",
                            "<tr><td>orders</td></tr>",
                            "<tr><td>products</td></tr>",
                            "<tr><td>website_pageviews</td></tr>",
                            "<tr><td>website_sessions</td></tr>",
                            "</table>"
                        ]
                    }
                }
            ],
            "execution_count": 2
        },
        {
            "cell_type": "code",
            "source": [
                "select * from orders limit 3"
            ],
            "metadata": {
                "azdata_cell_guid": "907112e4-fa45-4beb-8ffb-e7423ce904af",
                "language": "sql"
            },
            "outputs": [
                {
                    "output_type": "display_data",
                    "data": {
                        "text/html": "(3 row(s) affected)"
                    },
                    "metadata": {}
                },
                {
                    "output_type": "display_data",
                    "data": {
                        "text/html": "Total execution time: 00:00:01.012"
                    },
                    "metadata": {}
                },
                {
                    "output_type": "execute_result",
                    "metadata": {},
                    "execution_count": 3,
                    "data": {
                        "application/vnd.dataresource+json": {
                            "schema": {
                                "fields": [
                                    {
                                        "name": "order_id"
                                    },
                                    {
                                        "name": "created_at"
                                    },
                                    {
                                        "name": "website_session_id"
                                    },
                                    {
                                        "name": "user_id"
                                    },
                                    {
                                        "name": "primary_product_id"
                                    },
                                    {
                                        "name": "items_purchased"
                                    },
                                    {
                                        "name": "price_usd"
                                    },
                                    {
                                        "name": "cogs_usd"
                                    }
                                ]
                            },
                            "data": [
                                {
                                    "order_id": "1",
                                    "created_at": "2012-03-19 10:42:46",
                                    "website_session_id": "20",
                                    "user_id": "20",
                                    "primary_product_id": "1",
                                    "items_purchased": "1",
                                    "price_usd": "49.99",
                                    "cogs_usd": "19.49"
                                },
                                {
                                    "order_id": "2",
                                    "created_at": "2012-03-19 19:27:37",
                                    "website_session_id": "104",
                                    "user_id": "104",
                                    "primary_product_id": "1",
                                    "items_purchased": "1",
                                    "price_usd": "49.99",
                                    "cogs_usd": "19.49"
                                },
                                {
                                    "order_id": "3",
                                    "created_at": "2012-03-20 06:44:45",
                                    "website_session_id": "147",
                                    "user_id": "147",
                                    "primary_product_id": "1",
                                    "items_purchased": "1",
                                    "price_usd": "49.99",
                                    "cogs_usd": "19.49"
                                }
                            ]
                        },
                        "text/html": [
                            "<table>",
                            "<tr><th>order_id</th><th>created_at</th><th>website_session_id</th><th>user_id</th><th>primary_product_id</th><th>items_purchased</th><th>price_usd</th><th>cogs_usd</th></tr>",
                            "<tr><td>1</td><td>2012-03-19 10:42:46</td><td>20</td><td>20</td><td>1</td><td>1</td><td>49.99</td><td>19.49</td></tr>",
                            "<tr><td>2</td><td>2012-03-19 19:27:37</td><td>104</td><td>104</td><td>1</td><td>1</td><td>49.99</td><td>19.49</td></tr>",
                            "<tr><td>3</td><td>2012-03-20 06:44:45</td><td>147</td><td>147</td><td>1</td><td>1</td><td>49.99</td><td>19.49</td></tr>",
                            "</table>"
                        ]
                    }
                }
            ],
            "execution_count": 3
        },
        {
            "cell_type": "code",
            "source": [
                "select YEAR(date(created_at)) as yr, MONTH(DATE(created_at)) as mo,\n",
                "count(order_id) as sales, sum(price_usd) as revenue, \n",
                "sum(price_usd - cogs_usd) as margin\n",
                "from orders\n",
                "where created_at < '2013-01-04'\n",
                "GROUP by 1,2"
            ],
            "metadata": {
                "azdata_cell_guid": "14d39f6b-e633-465d-a702-49cb0f9990bb",
                "language": "sql"
            },
            "outputs": [
                {
                    "output_type": "display_data",
                    "data": {
                        "text/html": "(11 row(s) affected)"
                    },
                    "metadata": {}
                },
                {
                    "output_type": "display_data",
                    "data": {
                        "text/html": "Total execution time: 00:00:01.026"
                    },
                    "metadata": {}
                },
                {
                    "output_type": "execute_result",
                    "metadata": {},
                    "execution_count": 6,
                    "data": {
                        "application/vnd.dataresource+json": {
                            "schema": {
                                "fields": [
                                    {
                                        "name": "yr"
                                    },
                                    {
                                        "name": "mo"
                                    },
                                    {
                                        "name": "sales"
                                    },
                                    {
                                        "name": "revenue"
                                    },
                                    {
                                        "name": "margin"
                                    }
                                ]
                            },
                            "data": [
                                {
                                    "yr": "2012",
                                    "mo": "3",
                                    "sales": "60",
                                    "revenue": "2999.40",
                                    "margin": "1830.00"
                                },
                                {
                                    "yr": "2012",
                                    "mo": "4",
                                    "sales": "99",
                                    "revenue": "4949.01",
                                    "margin": "3019.50"
                                },
                                {
                                    "yr": "2012",
                                    "mo": "5",
                                    "sales": "108",
                                    "revenue": "5398.92",
                                    "margin": "3294.00"
                                },
                                {
                                    "yr": "2012",
                                    "mo": "6",
                                    "sales": "140",
                                    "revenue": "6998.60",
                                    "margin": "4270.00"
                                },
                                {
                                    "yr": "2012",
                                    "mo": "7",
                                    "sales": "169",
                                    "revenue": "8448.31",
                                    "margin": "5154.50"
                                },
                                {
                                    "yr": "2012",
                                    "mo": "8",
                                    "sales": "228",
                                    "revenue": "11397.72",
                                    "margin": "6954.00"
                                },
                                {
                                    "yr": "2012",
                                    "mo": "9",
                                    "sales": "287",
                                    "revenue": "14347.13",
                                    "margin": "8753.50"
                                },
                                {
                                    "yr": "2012",
                                    "mo": "10",
                                    "sales": "371",
                                    "revenue": "18546.29",
                                    "margin": "11315.50"
                                },
                                {
                                    "yr": "2012",
                                    "mo": "11",
                                    "sales": "618",
                                    "revenue": "30893.82",
                                    "margin": "18849.00"
                                },
                                {
                                    "yr": "2012",
                                    "mo": "12",
                                    "sales": "506",
                                    "revenue": "25294.94",
                                    "margin": "15433.00"
                                },
                                {
                                    "yr": "2013",
                                    "mo": "1",
                                    "sales": "42",
                                    "revenue": "2099.58",
                                    "margin": "1281.00"
                                }
                            ]
                        },
                        "text/html": [
                            "<table>",
                            "<tr><th>yr</th><th>mo</th><th>sales</th><th>revenue</th><th>margin</th></tr>",
                            "<tr><td>2012</td><td>3</td><td>60</td><td>2999.40</td><td>1830.00</td></tr>",
                            "<tr><td>2012</td><td>4</td><td>99</td><td>4949.01</td><td>3019.50</td></tr>",
                            "<tr><td>2012</td><td>5</td><td>108</td><td>5398.92</td><td>3294.00</td></tr>",
                            "<tr><td>2012</td><td>6</td><td>140</td><td>6998.60</td><td>4270.00</td></tr>",
                            "<tr><td>2012</td><td>7</td><td>169</td><td>8448.31</td><td>5154.50</td></tr>",
                            "<tr><td>2012</td><td>8</td><td>228</td><td>11397.72</td><td>6954.00</td></tr>",
                            "<tr><td>2012</td><td>9</td><td>287</td><td>14347.13</td><td>8753.50</td></tr>",
                            "<tr><td>2012</td><td>10</td><td>371</td><td>18546.29</td><td>11315.50</td></tr>",
                            "<tr><td>2012</td><td>11</td><td>618</td><td>30893.82</td><td>18849.00</td></tr>",
                            "<tr><td>2012</td><td>12</td><td>506</td><td>25294.94</td><td>15433.00</td></tr>",
                            "<tr><td>2013</td><td>1</td><td>42</td><td>2099.58</td><td>1281.00</td></tr>",
                            "</table>"
                        ]
                    }
                }
            ],
            "execution_count": 6
        },
        {
            "cell_type": "code",
            "source": [
                "select \n",
                "YEAR(date(website_sessions.created_at)) as yr,\n",
                "MONTH(date(website_sessions.created_at)) as mo,\n",
                "count(DISTINCT website_sessions.website_session_id) as sessions,\n",
                "count(DISTINCT orders.order_id) as orders,\n",
                "count(DISTINCT orders.order_id)/count(website_sessions.website_session_id) as conv_rate,\n",
                "sum(orders.price_usd)/count(website_sessions.website_session_id) as rev_per_session,\n",
                "count(DISTINCT case when orders.primary_product_id = 1 then orders.order_id else null end) as prod_1,\n",
                "count(DISTINCT case when orders.primary_product_id = 2 then orders.order_id else null end) as prod_2\n",
                "FROM website_sessions\n",
                "LEFT JOIN orders \n",
                "ON website_sessions.website_session_id = orders.website_session_id\n",
                "where website_sessions.created_at BETWEEN '2012-04-01' AND '2013-04-05'\n",
                "GROUP BY 1,2"
            ],
            "metadata": {
                "azdata_cell_guid": "bfbfdac1-53a7-4444-bdc9-e99ddfd2478c",
                "language": "sql"
            },
            "outputs": [
                {
                    "output_type": "display_data",
                    "data": {
                        "text/html": "(13 row(s) affected)"
                    },
                    "metadata": {}
                },
                {
                    "output_type": "display_data",
                    "data": {
                        "text/html": "Total execution time: 00:00:01.385"
                    },
                    "metadata": {}
                },
                {
                    "output_type": "execute_result",
                    "metadata": {},
                    "execution_count": 32,
                    "data": {
                        "application/vnd.dataresource+json": {
                            "schema": {
                                "fields": [
                                    {
                                        "name": "yr"
                                    },
                                    {
                                        "name": "mo"
                                    },
                                    {
                                        "name": "sessions"
                                    },
                                    {
                                        "name": "orders"
                                    },
                                    {
                                        "name": "conv_rate"
                                    },
                                    {
                                        "name": "rev_per_session"
                                    },
                                    {
                                        "name": "prod_1"
                                    },
                                    {
                                        "name": "prod_2"
                                    }
                                ]
                            },
                            "data": [
                                {
                                    "yr": "2012",
                                    "mo": "4",
                                    "sessions": "3734",
                                    "orders": "99",
                                    "conv_rate": "0.0265",
                                    "rev_per_session": "1.325391",
                                    "prod_1": "99",
                                    "prod_2": "0"
                                },
                                {
                                    "yr": "2012",
                                    "mo": "5",
                                    "sessions": "3736",
                                    "orders": "108",
                                    "conv_rate": "0.0289",
                                    "rev_per_session": "1.445107",
                                    "prod_1": "108",
                                    "prod_2": "0"
                                },
                                {
                                    "yr": "2012",
                                    "mo": "6",
                                    "sessions": "3963",
                                    "orders": "140",
                                    "conv_rate": "0.0353",
                                    "rev_per_session": "1.765985",
                                    "prod_1": "140",
                                    "prod_2": "0"
                                },
                                {
                                    "yr": "2012",
                                    "mo": "7",
                                    "sessions": "4249",
                                    "orders": "169",
                                    "conv_rate": "0.0398",
                                    "rev_per_session": "1.988305",
                                    "prod_1": "169",
                                    "prod_2": "0"
                                },
                                {
                                    "yr": "2012",
                                    "mo": "8",
                                    "sessions": "6097",
                                    "orders": "228",
                                    "conv_rate": "0.0374",
                                    "rev_per_session": "1.869398",
                                    "prod_1": "228",
                                    "prod_2": "0"
                                },
                                {
                                    "yr": "2012",
                                    "mo": "9",
                                    "sessions": "6546",
                                    "orders": "287",
                                    "conv_rate": "0.0438",
                                    "rev_per_session": "2.191740",
                                    "prod_1": "287",
                                    "prod_2": "0"
                                },
                                {
                                    "yr": "2012",
                                    "mo": "10",
                                    "sessions": "8183",
                                    "orders": "371",
                                    "conv_rate": "0.0453",
                                    "rev_per_session": "2.266441",
                                    "prod_1": "371",
                                    "prod_2": "0"
                                },
                                {
                                    "yr": "2012",
                                    "mo": "11",
                                    "sessions": "14011",
                                    "orders": "618",
                                    "conv_rate": "0.0441",
                                    "rev_per_session": "2.204969",
                                    "prod_1": "618",
                                    "prod_2": "0"
                                },
                                {
                                    "yr": "2012",
                                    "mo": "12",
                                    "sessions": "10072",
                                    "orders": "506",
                                    "conv_rate": "0.0502",
                                    "rev_per_session": "2.511412",
                                    "prod_1": "506",
                                    "prod_2": "0"
                                },
                                {
                                    "yr": "2013",
                                    "mo": "1",
                                    "sessions": "6401",
                                    "orders": "391",
                                    "conv_rate": "0.0611",
                                    "rev_per_session": "3.127025",
                                    "prod_1": "344",
                                    "prod_2": "47"
                                },
                                {
                                    "yr": "2013",
                                    "mo": "2",
                                    "sessions": "7168",
                                    "orders": "497",
                                    "conv_rate": "0.0693",
                                    "rev_per_session": "3.692108",
                                    "prod_1": "335",
                                    "prod_2": "162"
                                },
                                {
                                    "yr": "2013",
                                    "mo": "3",
                                    "sessions": "6264",
                                    "orders": "385",
                                    "conv_rate": "0.0615",
                                    "rev_per_session": "3.176269",
                                    "prod_1": "320",
                                    "prod_2": "65"
                                },
                                {
                                    "yr": "2013",
                                    "mo": "4",
                                    "sessions": "1209",
                                    "orders": "96",
                                    "conv_rate": "0.0794",
                                    "rev_per_session": "4.085227",
                                    "prod_1": "82",
                                    "prod_2": "14"
                                }
                            ]
                        },
                        "text/html": [
                            "<table>",
                            "<tr><th>yr</th><th>mo</th><th>sessions</th><th>orders</th><th>conv_rate</th><th>rev_per_session</th><th>prod_1</th><th>prod_2</th></tr>",
                            "<tr><td>2012</td><td>4</td><td>3734</td><td>99</td><td>0.0265</td><td>1.325391</td><td>99</td><td>0</td></tr>",
                            "<tr><td>2012</td><td>5</td><td>3736</td><td>108</td><td>0.0289</td><td>1.445107</td><td>108</td><td>0</td></tr>",
                            "<tr><td>2012</td><td>6</td><td>3963</td><td>140</td><td>0.0353</td><td>1.765985</td><td>140</td><td>0</td></tr>",
                            "<tr><td>2012</td><td>7</td><td>4249</td><td>169</td><td>0.0398</td><td>1.988305</td><td>169</td><td>0</td></tr>",
                            "<tr><td>2012</td><td>8</td><td>6097</td><td>228</td><td>0.0374</td><td>1.869398</td><td>228</td><td>0</td></tr>",
                            "<tr><td>2012</td><td>9</td><td>6546</td><td>287</td><td>0.0438</td><td>2.191740</td><td>287</td><td>0</td></tr>",
                            "<tr><td>2012</td><td>10</td><td>8183</td><td>371</td><td>0.0453</td><td>2.266441</td><td>371</td><td>0</td></tr>",
                            "<tr><td>2012</td><td>11</td><td>14011</td><td>618</td><td>0.0441</td><td>2.204969</td><td>618</td><td>0</td></tr>",
                            "<tr><td>2012</td><td>12</td><td>10072</td><td>506</td><td>0.0502</td><td>2.511412</td><td>506</td><td>0</td></tr>",
                            "<tr><td>2013</td><td>1</td><td>6401</td><td>391</td><td>0.0611</td><td>3.127025</td><td>344</td><td>47</td></tr>",
                            "<tr><td>2013</td><td>2</td><td>7168</td><td>497</td><td>0.0693</td><td>3.692108</td><td>335</td><td>162</td></tr>",
                            "<tr><td>2013</td><td>3</td><td>6264</td><td>385</td><td>0.0615</td><td>3.176269</td><td>320</td><td>65</td></tr>",
                            "<tr><td>2013</td><td>4</td><td>1209</td><td>96</td><td>0.0794</td><td>4.085227</td><td>82</td><td>14</td></tr>",
                            "</table>"
                        ]
                    }
                }
            ],
            "execution_count": 32
        },
        {
            "cell_type": "code",
            "source": [
                ""
            ],
            "metadata": {
                "azdata_cell_guid": "8ab56463-54bf-4606-9bc4-6a54e39dac58",
                "language": "sql"
            },
            "outputs": [],
            "execution_count": null
        }
    ]
}