{
    "metadata": {
        "kernelspec": {
            "name": "SQL",
            "display_name": "SQL",
            "language": "sql"
        },
        "language_info": {
            "name": "sql",
            "version": ""
        }
    },
    "nbformat_minor": 2,
    "nbformat": 4,
    "cells": [
        {
            "cell_type": "code",
            "source": [
                "use mavenfuzzyfactory"
            ],
            "metadata": {
                "azdata_cell_guid": "045ed71a-7117-4a84-8db2-38f54d85c77c",
                "language": "sql"
            },
            "outputs": [
                {
                    "output_type": "display_data",
                    "data": {
                        "text/html": "Commands completed successfully"
                    },
                    "metadata": {}
                },
                {
                    "output_type": "display_data",
                    "data": {
                        "text/html": "Total execution time: 00:00:00.005"
                    },
                    "metadata": {}
                }
            ],
            "execution_count": 91
        },
        {
            "cell_type": "markdown",
            "source": [
                "**Subiect: Sales Trends**\n",
                "\n",
                "<span style=\"font-family: -apple-system, BlinkMacSystemFont, sans-serif; color: var(--vscode-foreground);\">We're about to launch a new product, and I'd like to do a&nbsp;</span> <span style=\"font-family: -apple-system, BlinkMacSystemFont, sans-serif; color: var(--vscode-foreground);\">deep dive on our current flagship product.&nbsp;</span> <span style=\"font-family: -apple-system, BlinkMacSystemFont, sans-serif; color: var(--vscode-foreground);\">Can you please pull monthly trends to date for number of&nbsp;</span> <span style=\"font-family: -apple-system, BlinkMacSystemFont, sans-serif; color: var(--vscode-foreground);\">sales, total revenue, and total margin generated for the&nbsp;</span> <span style=\"font-family: -apple-system, BlinkMacSystemFont, sans-serif; color: var(--vscode-foreground);\">business?</span>"
            ],
            "metadata": {
                "language": "sql",
                "azdata_cell_guid": "9f65e48d-9120-4d77-860c-df1d7fa0ebae"
            },
            "attachments": {}
        },
        {
            "cell_type": "code",
            "source": [
                "show tables"
            ],
            "metadata": {
                "azdata_cell_guid": "bb6ee489-84c7-4bd7-b44a-02259ab4d801",
                "language": "sql"
            },
            "outputs": [
                {
                    "output_type": "display_data",
                    "data": {
                        "text/html": "(6 row(s) affected)"
                    },
                    "metadata": {}
                },
                {
                    "output_type": "display_data",
                    "data": {
                        "text/html": "Total execution time: 00:00:01.031"
                    },
                    "metadata": {}
                },
                {
                    "output_type": "execute_result",
                    "metadata": {},
                    "execution_count": 92,
                    "data": {
                        "application/vnd.dataresource+json": {
                            "schema": {
                                "fields": [
                                    {
                                        "name": "Tables_in_mavenfuzzyfactory"
                                    }
                                ]
                            },
                            "data": [
                                {
                                    "Tables_in_mavenfuzzyfactory": "order_item_refunds"
                                },
                                {
                                    "Tables_in_mavenfuzzyfactory": "order_items"
                                },
                                {
                                    "Tables_in_mavenfuzzyfactory": "orders"
                                },
                                {
                                    "Tables_in_mavenfuzzyfactory": "products"
                                },
                                {
                                    "Tables_in_mavenfuzzyfactory": "website_pageviews"
                                },
                                {
                                    "Tables_in_mavenfuzzyfactory": "website_sessions"
                                }
                            ]
                        },
                        "text/html": [
                            "<table>",
                            "<tr><th>Tables_in_mavenfuzzyfactory</th></tr>",
                            "<tr><td>order_item_refunds</td></tr>",
                            "<tr><td>order_items</td></tr>",
                            "<tr><td>orders</td></tr>",
                            "<tr><td>products</td></tr>",
                            "<tr><td>website_pageviews</td></tr>",
                            "<tr><td>website_sessions</td></tr>",
                            "</table>"
                        ]
                    }
                }
            ],
            "execution_count": 92
        },
        {
            "cell_type": "code",
            "source": [
                "select * from orders limit 3"
            ],
            "metadata": {
                "azdata_cell_guid": "907112e4-fa45-4beb-8ffb-e7423ce904af",
                "language": "sql"
            },
            "outputs": [
                {
                    "output_type": "display_data",
                    "data": {
                        "text/html": "(3 row(s) affected)"
                    },
                    "metadata": {}
                },
                {
                    "output_type": "display_data",
                    "data": {
                        "text/html": "Total execution time: 00:00:01.031"
                    },
                    "metadata": {}
                },
                {
                    "output_type": "execute_result",
                    "metadata": {},
                    "execution_count": 93,
                    "data": {
                        "application/vnd.dataresource+json": {
                            "schema": {
                                "fields": [
                                    {
                                        "name": "order_id"
                                    },
                                    {
                                        "name": "created_at"
                                    },
                                    {
                                        "name": "website_session_id"
                                    },
                                    {
                                        "name": "user_id"
                                    },
                                    {
                                        "name": "primary_product_id"
                                    },
                                    {
                                        "name": "items_purchased"
                                    },
                                    {
                                        "name": "price_usd"
                                    },
                                    {
                                        "name": "cogs_usd"
                                    }
                                ]
                            },
                            "data": [
                                {
                                    "order_id": "1",
                                    "created_at": "2012-03-19 10:42:46",
                                    "website_session_id": "20",
                                    "user_id": "20",
                                    "primary_product_id": "1",
                                    "items_purchased": "1",
                                    "price_usd": "49.99",
                                    "cogs_usd": "19.49"
                                },
                                {
                                    "order_id": "2",
                                    "created_at": "2012-03-19 19:27:37",
                                    "website_session_id": "104",
                                    "user_id": "104",
                                    "primary_product_id": "1",
                                    "items_purchased": "1",
                                    "price_usd": "49.99",
                                    "cogs_usd": "19.49"
                                },
                                {
                                    "order_id": "3",
                                    "created_at": "2012-03-20 06:44:45",
                                    "website_session_id": "147",
                                    "user_id": "147",
                                    "primary_product_id": "1",
                                    "items_purchased": "1",
                                    "price_usd": "49.99",
                                    "cogs_usd": "19.49"
                                }
                            ]
                        },
                        "text/html": [
                            "<table>",
                            "<tr><th>order_id</th><th>created_at</th><th>website_session_id</th><th>user_id</th><th>primary_product_id</th><th>items_purchased</th><th>price_usd</th><th>cogs_usd</th></tr>",
                            "<tr><td>1</td><td>2012-03-19 10:42:46</td><td>20</td><td>20</td><td>1</td><td>1</td><td>49.99</td><td>19.49</td></tr>",
                            "<tr><td>2</td><td>2012-03-19 19:27:37</td><td>104</td><td>104</td><td>1</td><td>1</td><td>49.99</td><td>19.49</td></tr>",
                            "<tr><td>3</td><td>2012-03-20 06:44:45</td><td>147</td><td>147</td><td>1</td><td>1</td><td>49.99</td><td>19.49</td></tr>",
                            "</table>"
                        ]
                    }
                }
            ],
            "execution_count": 93
        },
        {
            "cell_type": "code",
            "source": [
                "select YEAR(date(created_at)) as yr, MONTH(DATE(created_at)) as mo,\n",
                "count(order_id) as sales, sum(price_usd) as revenue, \n",
                "sum(price_usd - cogs_usd) as margin\n",
                "from orders\n",
                "where created_at < '2013-01-04'\n",
                "GROUP by 1,2"
            ],
            "metadata": {
                "azdata_cell_guid": "14d39f6b-e633-465d-a702-49cb0f9990bb",
                "language": "sql"
            },
            "outputs": [
                {
                    "output_type": "display_data",
                    "data": {
                        "text/html": "(11 row(s) affected)"
                    },
                    "metadata": {}
                },
                {
                    "output_type": "display_data",
                    "data": {
                        "text/html": "Total execution time: 00:00:01.035"
                    },
                    "metadata": {}
                },
                {
                    "output_type": "execute_result",
                    "metadata": {},
                    "execution_count": 94,
                    "data": {
                        "application/vnd.dataresource+json": {
                            "schema": {
                                "fields": [
                                    {
                                        "name": "yr"
                                    },
                                    {
                                        "name": "mo"
                                    },
                                    {
                                        "name": "sales"
                                    },
                                    {
                                        "name": "revenue"
                                    },
                                    {
                                        "name": "margin"
                                    }
                                ]
                            },
                            "data": [
                                {
                                    "yr": "2012",
                                    "mo": "3",
                                    "sales": "60",
                                    "revenue": "2999.40",
                                    "margin": "1830.00"
                                },
                                {
                                    "yr": "2012",
                                    "mo": "4",
                                    "sales": "99",
                                    "revenue": "4949.01",
                                    "margin": "3019.50"
                                },
                                {
                                    "yr": "2012",
                                    "mo": "5",
                                    "sales": "108",
                                    "revenue": "5398.92",
                                    "margin": "3294.00"
                                },
                                {
                                    "yr": "2012",
                                    "mo": "6",
                                    "sales": "140",
                                    "revenue": "6998.60",
                                    "margin": "4270.00"
                                },
                                {
                                    "yr": "2012",
                                    "mo": "7",
                                    "sales": "169",
                                    "revenue": "8448.31",
                                    "margin": "5154.50"
                                },
                                {
                                    "yr": "2012",
                                    "mo": "8",
                                    "sales": "228",
                                    "revenue": "11397.72",
                                    "margin": "6954.00"
                                },
                                {
                                    "yr": "2012",
                                    "mo": "9",
                                    "sales": "287",
                                    "revenue": "14347.13",
                                    "margin": "8753.50"
                                },
                                {
                                    "yr": "2012",
                                    "mo": "10",
                                    "sales": "371",
                                    "revenue": "18546.29",
                                    "margin": "11315.50"
                                },
                                {
                                    "yr": "2012",
                                    "mo": "11",
                                    "sales": "618",
                                    "revenue": "30893.82",
                                    "margin": "18849.00"
                                },
                                {
                                    "yr": "2012",
                                    "mo": "12",
                                    "sales": "506",
                                    "revenue": "25294.94",
                                    "margin": "15433.00"
                                },
                                {
                                    "yr": "2013",
                                    "mo": "1",
                                    "sales": "42",
                                    "revenue": "2099.58",
                                    "margin": "1281.00"
                                }
                            ]
                        },
                        "text/html": [
                            "<table>",
                            "<tr><th>yr</th><th>mo</th><th>sales</th><th>revenue</th><th>margin</th></tr>",
                            "<tr><td>2012</td><td>3</td><td>60</td><td>2999.40</td><td>1830.00</td></tr>",
                            "<tr><td>2012</td><td>4</td><td>99</td><td>4949.01</td><td>3019.50</td></tr>",
                            "<tr><td>2012</td><td>5</td><td>108</td><td>5398.92</td><td>3294.00</td></tr>",
                            "<tr><td>2012</td><td>6</td><td>140</td><td>6998.60</td><td>4270.00</td></tr>",
                            "<tr><td>2012</td><td>7</td><td>169</td><td>8448.31</td><td>5154.50</td></tr>",
                            "<tr><td>2012</td><td>8</td><td>228</td><td>11397.72</td><td>6954.00</td></tr>",
                            "<tr><td>2012</td><td>9</td><td>287</td><td>14347.13</td><td>8753.50</td></tr>",
                            "<tr><td>2012</td><td>10</td><td>371</td><td>18546.29</td><td>11315.50</td></tr>",
                            "<tr><td>2012</td><td>11</td><td>618</td><td>30893.82</td><td>18849.00</td></tr>",
                            "<tr><td>2012</td><td>12</td><td>506</td><td>25294.94</td><td>15433.00</td></tr>",
                            "<tr><td>2013</td><td>1</td><td>42</td><td>2099.58</td><td>1281.00</td></tr>",
                            "</table>"
                        ]
                    }
                }
            ],
            "execution_count": 94
        },
        {
            "cell_type": "markdown",
            "source": [
                "**Subject: Impact of New Product Launch**\n",
                "\n",
                "We launched our second product back on January 6th. Can <span style=\"font-family: -apple-system, BlinkMacSystemFont, sans-serif; color: var(--vscode-foreground);\">you pull together some trended analysis?&nbsp;</span> <span style=\"font-family: -apple-system, BlinkMacSystemFont, sans-serif; color: var(--vscode-foreground);\">I'd like to see monthly order volume, overall conversion&nbsp;</span> <span style=\"font-family: -apple-system, BlinkMacSystemFont, sans-serif; color: var(--vscode-foreground);\">rates, revenue per session, and a breakdown of sales by&nbsp;</span> <span style=\"font-family: -apple-system, BlinkMacSystemFont, sans-serif; color: var(--vscode-foreground);\">product, all for the time period since April 1, 2012.</span>"
            ],
            "metadata": {
                "language": "sql",
                "azdata_cell_guid": "b87a3cec-362f-404a-9ce9-b80d5b120b67"
            },
            "attachments": {}
        },
        {
            "cell_type": "code",
            "source": [
                "select \n",
                "YEAR(date(website_sessions.created_at)) as yr,\n",
                "MONTH(date(website_sessions.created_at)) as mo,\n",
                "count(DISTINCT website_sessions.website_session_id) as sessions,\n",
                "count(DISTINCT orders.order_id) as orders,\n",
                "count(DISTINCT orders.order_id)/count(website_sessions.website_session_id) as conv_rate,\n",
                "sum(orders.price_usd)/count(website_sessions.website_session_id) as rev_per_session,\n",
                "count(DISTINCT case when orders.primary_product_id = 1 then orders.order_id else null end) as prod_1,\n",
                "count(DISTINCT case when orders.primary_product_id = 2 then orders.order_id else null end) as prod_2\n",
                "FROM website_sessions\n",
                "LEFT JOIN orders \n",
                "ON website_sessions.website_session_id = orders.website_session_id\n",
                "where website_sessions.created_at BETWEEN '2012-04-01' AND '2013-04-05'\n",
                "GROUP BY 1,2"
            ],
            "metadata": {
                "azdata_cell_guid": "bfbfdac1-53a7-4444-bdc9-e99ddfd2478c",
                "language": "sql"
            },
            "outputs": [
                {
                    "output_type": "display_data",
                    "data": {
                        "text/html": "(13 row(s) affected)"
                    },
                    "metadata": {}
                },
                {
                    "output_type": "display_data",
                    "data": {
                        "text/html": "Total execution time: 00:00:01.787"
                    },
                    "metadata": {}
                },
                {
                    "output_type": "execute_result",
                    "metadata": {},
                    "execution_count": 95,
                    "data": {
                        "application/vnd.dataresource+json": {
                            "schema": {
                                "fields": [
                                    {
                                        "name": "yr"
                                    },
                                    {
                                        "name": "mo"
                                    },
                                    {
                                        "name": "sessions"
                                    },
                                    {
                                        "name": "orders"
                                    },
                                    {
                                        "name": "conv_rate"
                                    },
                                    {
                                        "name": "rev_per_session"
                                    },
                                    {
                                        "name": "prod_1"
                                    },
                                    {
                                        "name": "prod_2"
                                    }
                                ]
                            },
                            "data": [
                                {
                                    "yr": "2012",
                                    "mo": "4",
                                    "sessions": "3734",
                                    "orders": "99",
                                    "conv_rate": "0.0265",
                                    "rev_per_session": "1.325391",
                                    "prod_1": "99",
                                    "prod_2": "0"
                                },
                                {
                                    "yr": "2012",
                                    "mo": "5",
                                    "sessions": "3736",
                                    "orders": "108",
                                    "conv_rate": "0.0289",
                                    "rev_per_session": "1.445107",
                                    "prod_1": "108",
                                    "prod_2": "0"
                                },
                                {
                                    "yr": "2012",
                                    "mo": "6",
                                    "sessions": "3963",
                                    "orders": "140",
                                    "conv_rate": "0.0353",
                                    "rev_per_session": "1.765985",
                                    "prod_1": "140",
                                    "prod_2": "0"
                                },
                                {
                                    "yr": "2012",
                                    "mo": "7",
                                    "sessions": "4249",
                                    "orders": "169",
                                    "conv_rate": "0.0398",
                                    "rev_per_session": "1.988305",
                                    "prod_1": "169",
                                    "prod_2": "0"
                                },
                                {
                                    "yr": "2012",
                                    "mo": "8",
                                    "sessions": "6097",
                                    "orders": "228",
                                    "conv_rate": "0.0374",
                                    "rev_per_session": "1.869398",
                                    "prod_1": "228",
                                    "prod_2": "0"
                                },
                                {
                                    "yr": "2012",
                                    "mo": "9",
                                    "sessions": "6546",
                                    "orders": "287",
                                    "conv_rate": "0.0438",
                                    "rev_per_session": "2.191740",
                                    "prod_1": "287",
                                    "prod_2": "0"
                                },
                                {
                                    "yr": "2012",
                                    "mo": "10",
                                    "sessions": "8183",
                                    "orders": "371",
                                    "conv_rate": "0.0453",
                                    "rev_per_session": "2.266441",
                                    "prod_1": "371",
                                    "prod_2": "0"
                                },
                                {
                                    "yr": "2012",
                                    "mo": "11",
                                    "sessions": "14011",
                                    "orders": "618",
                                    "conv_rate": "0.0441",
                                    "rev_per_session": "2.204969",
                                    "prod_1": "618",
                                    "prod_2": "0"
                                },
                                {
                                    "yr": "2012",
                                    "mo": "12",
                                    "sessions": "10072",
                                    "orders": "506",
                                    "conv_rate": "0.0502",
                                    "rev_per_session": "2.511412",
                                    "prod_1": "506",
                                    "prod_2": "0"
                                },
                                {
                                    "yr": "2013",
                                    "mo": "1",
                                    "sessions": "6401",
                                    "orders": "391",
                                    "conv_rate": "0.0611",
                                    "rev_per_session": "3.127025",
                                    "prod_1": "344",
                                    "prod_2": "47"
                                },
                                {
                                    "yr": "2013",
                                    "mo": "2",
                                    "sessions": "7168",
                                    "orders": "497",
                                    "conv_rate": "0.0693",
                                    "rev_per_session": "3.692108",
                                    "prod_1": "335",
                                    "prod_2": "162"
                                },
                                {
                                    "yr": "2013",
                                    "mo": "3",
                                    "sessions": "6264",
                                    "orders": "385",
                                    "conv_rate": "0.0615",
                                    "rev_per_session": "3.176269",
                                    "prod_1": "320",
                                    "prod_2": "65"
                                },
                                {
                                    "yr": "2013",
                                    "mo": "4",
                                    "sessions": "1209",
                                    "orders": "96",
                                    "conv_rate": "0.0794",
                                    "rev_per_session": "4.085227",
                                    "prod_1": "82",
                                    "prod_2": "14"
                                }
                            ]
                        },
                        "text/html": [
                            "<table>",
                            "<tr><th>yr</th><th>mo</th><th>sessions</th><th>orders</th><th>conv_rate</th><th>rev_per_session</th><th>prod_1</th><th>prod_2</th></tr>",
                            "<tr><td>2012</td><td>4</td><td>3734</td><td>99</td><td>0.0265</td><td>1.325391</td><td>99</td><td>0</td></tr>",
                            "<tr><td>2012</td><td>5</td><td>3736</td><td>108</td><td>0.0289</td><td>1.445107</td><td>108</td><td>0</td></tr>",
                            "<tr><td>2012</td><td>6</td><td>3963</td><td>140</td><td>0.0353</td><td>1.765985</td><td>140</td><td>0</td></tr>",
                            "<tr><td>2012</td><td>7</td><td>4249</td><td>169</td><td>0.0398</td><td>1.988305</td><td>169</td><td>0</td></tr>",
                            "<tr><td>2012</td><td>8</td><td>6097</td><td>228</td><td>0.0374</td><td>1.869398</td><td>228</td><td>0</td></tr>",
                            "<tr><td>2012</td><td>9</td><td>6546</td><td>287</td><td>0.0438</td><td>2.191740</td><td>287</td><td>0</td></tr>",
                            "<tr><td>2012</td><td>10</td><td>8183</td><td>371</td><td>0.0453</td><td>2.266441</td><td>371</td><td>0</td></tr>",
                            "<tr><td>2012</td><td>11</td><td>14011</td><td>618</td><td>0.0441</td><td>2.204969</td><td>618</td><td>0</td></tr>",
                            "<tr><td>2012</td><td>12</td><td>10072</td><td>506</td><td>0.0502</td><td>2.511412</td><td>506</td><td>0</td></tr>",
                            "<tr><td>2013</td><td>1</td><td>6401</td><td>391</td><td>0.0611</td><td>3.127025</td><td>344</td><td>47</td></tr>",
                            "<tr><td>2013</td><td>2</td><td>7168</td><td>497</td><td>0.0693</td><td>3.692108</td><td>335</td><td>162</td></tr>",
                            "<tr><td>2013</td><td>3</td><td>6264</td><td>385</td><td>0.0615</td><td>3.176269</td><td>320</td><td>65</td></tr>",
                            "<tr><td>2013</td><td>4</td><td>1209</td><td>96</td><td>0.0794</td><td>4.085227</td><td>82</td><td>14</td></tr>",
                            "</table>"
                        ]
                    }
                }
            ],
            "execution_count": 95
        },
        {
            "cell_type": "markdown",
            "source": [
                "**Subject: Help w/ User Pathing**\n",
                "\n",
                "Now that we have a new product, I'm thinking about our <span style=\"font-family: -apple-system, BlinkMacSystemFont, sans-serif; color: var(--vscode-foreground);\">user path and conversion funnel. Let's look at sessions which&nbsp;</span> <span style=\"font-family: -apple-system, BlinkMacSystemFont, sans-serif; color: var(--vscode-foreground);\">hit the /products page and see where they went next.&nbsp;</span> <span style=\"font-family: -apple-system, BlinkMacSystemFont, sans-serif; color: var(--vscode-foreground);\">Could you please pull clickthrough rates from /products&nbsp;</span> <span style=\"font-family: -apple-system, BlinkMacSystemFont, sans-serif; color: var(--vscode-foreground);\">since the new product launch on January 6th 2013, by&nbsp;</span> <span style=\"font-family: -apple-system, BlinkMacSystemFont, sans-serif; color: var(--vscode-foreground);\">product, and compare to the 3 months leading up to launch&nbsp;</span> <span style=\"font-family: -apple-system, BlinkMacSystemFont, sans-serif; color: var(--vscode-foreground);\">as a baseline?</span>"
            ],
            "metadata": {
                "language": "sql",
                "azdata_cell_guid": "2e4c8c46-52d0-4c71-8417-09e089a43601"
            },
            "attachments": {}
        },
        {
            "cell_type": "code",
            "source": [
                "-- Step 1: finding the /products pageviews we care about\n",
                "CREATE TEMPORARY TABLE products_pageviews\n",
                "SELECT\n",
                "website_session_id,\n",
                "website_pageview_id,\n",
                "created_at,\n",
                "CASE\n",
                "WHEN created_at < '2013-01-06' THEN 'A. Pre_Product_2'\n",
                "WHEN created_at >= '2013-01-06' THEN 'B. Post_Product_2'\n",
                "ELSE 'uh oh...check logic'\n",
                "END AS time_period\n",
                "FROM website_pageviews\n",
                "WHERE created_at < '2013-04-06'\n",
                "AND created_at > '2012-10-06'\n",
                "AND pageview_url = '/products' ;"
            ],
            "metadata": {
                "azdata_cell_guid": "240c07d7-9a08-44e1-9995-5e8b9cdeb8d8",
                "language": "sql"
            },
            "outputs": [
                {
                    "output_type": "display_data",
                    "data": {
                        "text/html": "Total execution time: 00:00:00.014"
                    },
                    "metadata": {}
                }
            ],
            "execution_count": 96
        },
        {
            "cell_type": "code",
            "source": [
                "-- Step 2: find the next pageview id that occurs AFTER the product pageview\n",
                "CREATE TEMPORARY TABLE sessions_w_next_pageview_id\n",
                "SELECT\n",
                "products_pageviews. time_period,\n",
                "products_pageviews. website_session_id,\n",
                "MIN(website_pageviews.website_pageview_id) AS min_next_pageview_id\n",
                "FROM products_pageviews\n",
                "LEFT JOIN website_pageviews\n",
                "ON website_pageviews.website_session_id = products_pageviews.website_session_id\n",
                "AND website_pageviews.website_pageview_id > products_pageviews.website_pageview_id\n",
                "GROUP BY 1,2;"
            ],
            "metadata": {
                "azdata_cell_guid": "99ff7595-a6c5-4634-ad67-31c37b4b38f1",
                "language": "sql"
            },
            "outputs": [
                {
                    "output_type": "error",
                    "evalue": "1050 (42S01): Table 'products_pageviews' already exists",
                    "ename": "",
                    "traceback": []
                },
                {
                    "output_type": "display_data",
                    "data": {
                        "text/html": "Total execution time: 00:00:00"
                    },
                    "metadata": {}
                },
                {
                    "output_type": "error",
                    "evalue": "1050 (42S01): Table 'sessions_w_next_pageview_id' already exists",
                    "ename": "",
                    "traceback": []
                }
            ],
            "execution_count": 97
        },
        {
            "cell_type": "code",
            "source": [
                "select * from sessions_w_next_pageview_id limit 2"
            ],
            "metadata": {
                "azdata_cell_guid": "3d3ed57c-13a7-41f5-aadf-7e0bb8a885f7",
                "language": "sql"
            },
            "outputs": [
                {
                    "output_type": "display_data",
                    "data": {
                        "text/html": "(2 row(s) affected)"
                    },
                    "metadata": {}
                },
                {
                    "output_type": "display_data",
                    "data": {
                        "text/html": "Total execution time: 00:00:01.007"
                    },
                    "metadata": {}
                },
                {
                    "output_type": "execute_result",
                    "metadata": {},
                    "execution_count": 15,
                    "data": {
                        "application/vnd.dataresource+json": {
                            "schema": {
                                "fields": [
                                    {
                                        "name": "time_period"
                                    },
                                    {
                                        "name": "website_session_id"
                                    },
                                    {
                                        "name": "min_next_pageview_id"
                                    }
                                ]
                            },
                            "data": [
                                {
                                    "time_period": "A. Pre_Product_2",
                                    "website_session_id": "31517",
                                    "min_next_pageview_id": "67217"
                                },
                                {
                                    "time_period": "A. Pre_Product_2",
                                    "website_session_id": "31518",
                                    "min_next_pageview_id": "67221"
                                }
                            ]
                        },
                        "text/html": [
                            "<table>",
                            "<tr><th>time_period</th><th>website_session_id</th><th>min_next_pageview_id</th></tr>",
                            "<tr><td>A. Pre_Product_2</td><td>31517</td><td>67217</td></tr>",
                            "<tr><td>A. Pre_Product_2</td><td>31518</td><td>67221</td></tr>",
                            "</table>"
                        ]
                    }
                }
            ],
            "execution_count": 15
        },
        {
            "cell_type": "code",
            "source": [
                "create temporary table sessions_w_next_pageview_url\n",
                "select sessions_w_next_pageview_id.time_period, \n",
                "sessions_w_next_pageview_id.website_session_id,\n",
                "website_pageviews.pageview_url as next_pageview_url\n",
                "from sessions_w_next_pageview_id\n",
                "join website_pageviews\n",
                "ON sessions_w_next_pageview_id.min_next_pageview_id = website_pageviews.website_pageview_id"
            ],
            "metadata": {
                "azdata_cell_guid": "9a062e75-853f-4582-8d64-bbddd36242af",
                "language": "sql"
            },
            "outputs": [
                {
                    "output_type": "display_data",
                    "data": {
                        "text/html": "Commands completed successfully"
                    },
                    "metadata": {}
                },
                {
                    "output_type": "display_data",
                    "data": {
                        "text/html": "Total execution time: 00:00:00.131"
                    },
                    "metadata": {}
                }
            ],
            "execution_count": 29
        },
        {
            "cell_type": "code",
            "source": [
                "SELECT time_period,\n",
                "COUNT(DISTINCT website_session_id) AS sessions,\n",
                "COUNT(DISTINCT CASE WHEN next_pageview_url IS NOT NULL THEN website_session_id ELSE NULL END) AS w_next_pg,\n",
                "COUNT(DISTINCT CASE WHEN next_pageview_url IS NOT NULL THEN website_session_id ELSE NULL END)/COUNT(DISTINCT website_session_id) AS pct_w_next_pg,\n",
                "COUNT(DISTINCT CASE WHEN next_pageview_url = '/the-original-mr-fuzzy' THEN website_session_id ELSE NULL END) AS to_mrfuzzy,\n",
                "COUNT(DISTINCT CASE WHEN next_pageview_url = '/the-original-mr-fuzzy' THEN website_session_id ELSE NULL END) /COUNT(DISTINCT website_session_id) AS pct_to_mrfuzzy,\n",
                "COUNT(DISTINCT CASE WHEN next_pageview_url = '/the-forever-love-bear' THEN website_session_id ELSE NULL END) AS to_lovebear,\n",
                "COUNT(DISTINCT CASE WHEN next_pageview_url = '/the-forever-love-bear' THEN website_session_id ELSE NULL END)/COUNT(DISTINCT website_session_id) AS pct_to_lovebear\n",
                "FROM sessions_w_next_pageview_url\n",
                "GROUP BY time_period"
            ],
            "metadata": {
                "azdata_cell_guid": "30121101-1221-4876-a263-bde085b727af",
                "language": "sql"
            },
            "outputs": [
                {
                    "output_type": "display_data",
                    "data": {
                        "text/html": "(2 row(s) affected)"
                    },
                    "metadata": {}
                },
                {
                    "output_type": "display_data",
                    "data": {
                        "text/html": "Total execution time: 00:00:01.089"
                    },
                    "metadata": {}
                },
                {
                    "output_type": "execute_result",
                    "metadata": {},
                    "execution_count": 30,
                    "data": {
                        "application/vnd.dataresource+json": {
                            "schema": {
                                "fields": [
                                    {
                                        "name": "time_period"
                                    },
                                    {
                                        "name": "sessions"
                                    },
                                    {
                                        "name": "w_next_pg"
                                    },
                                    {
                                        "name": "pct_w_next_pg"
                                    },
                                    {
                                        "name": "to_mrfuzzy"
                                    },
                                    {
                                        "name": "pct_to_mrfuzzy"
                                    },
                                    {
                                        "name": "to_lovebear"
                                    },
                                    {
                                        "name": "pct_to_lovebear"
                                    }
                                ]
                            },
                            "data": [
                                {
                                    "time_period": "A. Pre_Product_2",
                                    "sessions": "11347",
                                    "w_next_pg": "11347",
                                    "pct_w_next_pg": "1.0000",
                                    "to_mrfuzzy": "11347",
                                    "pct_to_mrfuzzy": "1.0000",
                                    "to_lovebear": "0",
                                    "pct_to_lovebear": "0.0000"
                                },
                                {
                                    "time_period": "B. Post_Product_2",
                                    "sessions": "8200",
                                    "w_next_pg": "8200",
                                    "pct_w_next_pg": "1.0000",
                                    "to_mrfuzzy": "6654",
                                    "pct_to_mrfuzzy": "0.8115",
                                    "to_lovebear": "1546",
                                    "pct_to_lovebear": "0.1885"
                                }
                            ]
                        },
                        "text/html": [
                            "<table>",
                            "<tr><th>time_period</th><th>sessions</th><th>w_next_pg</th><th>pct_w_next_pg</th><th>to_mrfuzzy</th><th>pct_to_mrfuzzy</th><th>to_lovebear</th><th>pct_to_lovebear</th></tr>",
                            "<tr><td>A. Pre_Product_2</td><td>11347</td><td>11347</td><td>1.0000</td><td>11347</td><td>1.0000</td><td>0</td><td>0.0000</td></tr>",
                            "<tr><td>B. Post_Product_2</td><td>8200</td><td>8200</td><td>1.0000</td><td>6654</td><td>0.8115</td><td>1546</td><td>0.1885</td></tr>",
                            "</table>"
                        ]
                    }
                }
            ],
            "execution_count": 30
        },
        {
            "cell_type": "markdown",
            "source": [
                "**Subject: Product Conversion Funnels**\n",
                "\n",
                "I'd like to look at our two products since January 6th and <span style=\"font-family: -apple-system, BlinkMacSystemFont, sans-serif; color: var(--vscode-foreground);\">analyze the conversion funnels from each product page to&nbsp;</span> <span style=\"font-family: -apple-system, BlinkMacSystemFont, sans-serif; color: var(--vscode-foreground);\">conversion.&nbsp;</span> <span style=\"font-family: -apple-system, BlinkMacSystemFont, sans-serif; color: var(--vscode-foreground);\">It would be great if you could produce a comparison between&nbsp;</span> <span style=\"font-family: -apple-system, BlinkMacSystemFont, sans-serif; color: var(--vscode-foreground);\">the two conversion funnels, for all website traffic.</span>"
            ],
            "metadata": {
                "language": "sql",
                "azdata_cell_guid": "975c224f-f070-4984-92a9-462ba577c19a"
            },
            "attachments": {}
        },
        {
            "cell_type": "code",
            "source": [
                "select DISTINCT pageview_url from website_pageviews"
            ],
            "metadata": {
                "azdata_cell_guid": "51778f4f-daed-4659-af3d-4fbbb86aa816",
                "language": "sql"
            },
            "outputs": [
                {
                    "output_type": "display_data",
                    "data": {
                        "text/html": "(16 row(s) affected)"
                    },
                    "metadata": {}
                },
                {
                    "output_type": "display_data",
                    "data": {
                        "text/html": "Total execution time: 00:00:01.665"
                    },
                    "metadata": {}
                },
                {
                    "output_type": "execute_result",
                    "metadata": {},
                    "execution_count": 37,
                    "data": {
                        "application/vnd.dataresource+json": {
                            "schema": {
                                "fields": [
                                    {
                                        "name": "pageview_url"
                                    }
                                ]
                            },
                            "data": [
                                {
                                    "pageview_url": "/home"
                                },
                                {
                                    "pageview_url": "/products"
                                },
                                {
                                    "pageview_url": "/the-original-mr-fuzzy"
                                },
                                {
                                    "pageview_url": "/cart"
                                },
                                {
                                    "pageview_url": "/shipping"
                                },
                                {
                                    "pageview_url": "/billing"
                                },
                                {
                                    "pageview_url": "/thank-you-for-your-order"
                                },
                                {
                                    "pageview_url": "/lander-1"
                                },
                                {
                                    "pageview_url": "/billing-2"
                                },
                                {
                                    "pageview_url": "/the-forever-love-bear"
                                },
                                {
                                    "pageview_url": "/lander-2"
                                },
                                {
                                    "pageview_url": "/lander-3"
                                },
                                {
                                    "pageview_url": "/the-birthday-sugar-panda"
                                },
                                {
                                    "pageview_url": "/lander-4"
                                },
                                {
                                    "pageview_url": "/lander-5"
                                },
                                {
                                    "pageview_url": "/the-hudson-river-mini-bear"
                                }
                            ]
                        },
                        "text/html": [
                            "<table>",
                            "<tr><th>pageview_url</th></tr>",
                            "<tr><td>/home</td></tr>",
                            "<tr><td>/products</td></tr>",
                            "<tr><td>/the-original-mr-fuzzy</td></tr>",
                            "<tr><td>/cart</td></tr>",
                            "<tr><td>/shipping</td></tr>",
                            "<tr><td>/billing</td></tr>",
                            "<tr><td>/thank-you-for-your-order</td></tr>",
                            "<tr><td>/lander-1</td></tr>",
                            "<tr><td>/billing-2</td></tr>",
                            "<tr><td>/the-forever-love-bear</td></tr>",
                            "<tr><td>/lander-2</td></tr>",
                            "<tr><td>/lander-3</td></tr>",
                            "<tr><td>/the-birthday-sugar-panda</td></tr>",
                            "<tr><td>/lander-4</td></tr>",
                            "<tr><td>/lander-5</td></tr>",
                            "<tr><td>/the-hudson-river-mini-bear</td></tr>",
                            "</table>"
                        ]
                    }
                }
            ],
            "execution_count": 37
        },
        {
            "cell_type": "code",
            "source": [
                "-- drop TEMPORARY table sessions_to_product;\n",
                "create TEMPORARY table sessions_to_product\n",
                "select website_session_id, website_pageview_id, pageview_url\n",
                "from website_pageviews\n",
                "where pageview_url in ('/the-original-mr-fuzzy', '/the-forever-love-bear')\n",
                "and website_pageviews.created_at > '2013-01-06'\n",
                "and website_pageviews.created_at < '2013-04-10'"
            ],
            "metadata": {
                "azdata_cell_guid": "bd9480c4-b86d-497e-8aa0-b118543b424c",
                "language": "sql"
            },
            "outputs": [
                {
                    "output_type": "display_data",
                    "data": {
                        "text/html": "Commands completed successfully"
                    },
                    "metadata": {}
                },
                {
                    "output_type": "display_data",
                    "data": {
                        "text/html": "Commands completed successfully"
                    },
                    "metadata": {}
                },
                {
                    "output_type": "display_data",
                    "data": {
                        "text/html": "Total execution time: 00:00:00.763"
                    },
                    "metadata": {}
                }
            ],
            "execution_count": 65
        },
        {
            "cell_type": "code",
            "source": [
                "select * from sessions_to_product limit 10"
            ],
            "metadata": {
                "azdata_cell_guid": "2610de86-a91b-464e-a869-479749e8c5a3",
                "language": "sql"
            },
            "outputs": [
                {
                    "output_type": "display_data",
                    "data": {
                        "text/html": "(10 row(s) affected)"
                    },
                    "metadata": {}
                },
                {
                    "output_type": "display_data",
                    "data": {
                        "text/html": "Total execution time: 00:00:01.004"
                    },
                    "metadata": {}
                },
                {
                    "output_type": "execute_result",
                    "metadata": {},
                    "execution_count": 69,
                    "data": {
                        "application/vnd.dataresource+json": {
                            "schema": {
                                "fields": [
                                    {
                                        "name": "website_session_id"
                                    },
                                    {
                                        "name": "website_pageview_id"
                                    },
                                    {
                                        "name": "pageview_url"
                                    }
                                ]
                            },
                            "data": [
                                {
                                    "website_session_id": "63513",
                                    "website_pageview_id": "138944",
                                    "pageview_url": "/the-original-mr-fuzzy"
                                },
                                {
                                    "website_session_id": "63515",
                                    "website_pageview_id": "138952",
                                    "pageview_url": "/the-original-mr-fuzzy"
                                },
                                {
                                    "website_session_id": "63516",
                                    "website_pageview_id": "138956",
                                    "pageview_url": "/the-original-mr-fuzzy"
                                },
                                {
                                    "website_session_id": "63517",
                                    "website_pageview_id": "138959",
                                    "pageview_url": "/the-original-mr-fuzzy"
                                },
                                {
                                    "website_session_id": "63518",
                                    "website_pageview_id": "138962",
                                    "pageview_url": "/the-original-mr-fuzzy"
                                },
                                {
                                    "website_session_id": "63519",
                                    "website_pageview_id": "138966",
                                    "pageview_url": "/the-original-mr-fuzzy"
                                },
                                {
                                    "website_session_id": "63520",
                                    "website_pageview_id": "138969",
                                    "pageview_url": "/the-original-mr-fuzzy"
                                },
                                {
                                    "website_session_id": "63521",
                                    "website_pageview_id": "138972",
                                    "pageview_url": "/the-original-mr-fuzzy"
                                },
                                {
                                    "website_session_id": "63526",
                                    "website_pageview_id": "138986",
                                    "pageview_url": "/the-original-mr-fuzzy"
                                },
                                {
                                    "website_session_id": "63527",
                                    "website_pageview_id": "138989",
                                    "pageview_url": "/the-original-mr-fuzzy"
                                }
                            ]
                        },
                        "text/html": [
                            "<table>",
                            "<tr><th>website_session_id</th><th>website_pageview_id</th><th>pageview_url</th></tr>",
                            "<tr><td>63513</td><td>138944</td><td>/the-original-mr-fuzzy</td></tr>",
                            "<tr><td>63515</td><td>138952</td><td>/the-original-mr-fuzzy</td></tr>",
                            "<tr><td>63516</td><td>138956</td><td>/the-original-mr-fuzzy</td></tr>",
                            "<tr><td>63517</td><td>138959</td><td>/the-original-mr-fuzzy</td></tr>",
                            "<tr><td>63518</td><td>138962</td><td>/the-original-mr-fuzzy</td></tr>",
                            "<tr><td>63519</td><td>138966</td><td>/the-original-mr-fuzzy</td></tr>",
                            "<tr><td>63520</td><td>138969</td><td>/the-original-mr-fuzzy</td></tr>",
                            "<tr><td>63521</td><td>138972</td><td>/the-original-mr-fuzzy</td></tr>",
                            "<tr><td>63526</td><td>138986</td><td>/the-original-mr-fuzzy</td></tr>",
                            "<tr><td>63527</td><td>138989</td><td>/the-original-mr-fuzzy</td></tr>",
                            "</table>"
                        ]
                    }
                }
            ],
            "execution_count": 69
        },
        {
            "cell_type": "code",
            "source": [
                "-- drop temporary table user_journey;\n",
                "create temporary table user_journey\n",
                "select sessions_to_product.pageview_url,\n",
                "sessions_to_product.website_session_id,\n",
                "case when  website_pageviews.pageview_url = '/cart' then 1 else 0 end as to_cart,\n",
                "case when  website_pageviews.pageview_url = '/shipping' then 1 else 0 end as to_shipping,\n",
                "case when  website_pageviews.pageview_url = '/billing-2' then 1 else 0 end as to_billing,\n",
                "case when  website_pageviews.pageview_url = '/thank-you-for-your-order' then 1 else 0 end as to_thankyou\n",
                "from sessions_to_product \n",
                "left join website_pageviews \n",
                "on website_pageviews.website_session_id = sessions_to_product.website_session_id\n",
                "and website_pageviews.website_pageview_id > sessions_to_product.website_pageview_id -- other pages rather than products"
            ],
            "metadata": {
                "azdata_cell_guid": "bb7390af-2bf4-4c9c-b217-3d8486627b50",
                "language": "sql",
                "tags": []
            },
            "outputs": [
                {
                    "output_type": "display_data",
                    "data": {
                        "text/html": "Commands completed successfully"
                    },
                    "metadata": {}
                },
                {
                    "output_type": "display_data",
                    "data": {
                        "text/html": "Commands completed successfully"
                    },
                    "metadata": {}
                },
                {
                    "output_type": "display_data",
                    "data": {
                        "text/html": "Total execution time: 00:00:00.236"
                    },
                    "metadata": {}
                }
            ],
            "execution_count": 98
        },
        {
            "cell_type": "code",
            "source": [
                "select * from user_journey limit 10"
            ],
            "metadata": {
                "azdata_cell_guid": "03a1c121-d09e-4ef3-9279-212321518c69",
                "language": "sql"
            },
            "outputs": [
                {
                    "output_type": "display_data",
                    "data": {
                        "text/html": "(10 row(s) affected)"
                    },
                    "metadata": {}
                },
                {
                    "output_type": "display_data",
                    "data": {
                        "text/html": "Total execution time: 00:00:01.006"
                    },
                    "metadata": {}
                },
                {
                    "output_type": "execute_result",
                    "metadata": {},
                    "execution_count": 99,
                    "data": {
                        "application/vnd.dataresource+json": {
                            "schema": {
                                "fields": [
                                    {
                                        "name": "pageview_url"
                                    },
                                    {
                                        "name": "website_session_id"
                                    },
                                    {
                                        "name": "to_cart"
                                    },
                                    {
                                        "name": "to_shipping"
                                    },
                                    {
                                        "name": "to_billing"
                                    },
                                    {
                                        "name": "to_thankyou"
                                    }
                                ]
                            },
                            "data": [
                                {
                                    "pageview_url": "/the-original-mr-fuzzy",
                                    "website_session_id": "63513",
                                    "to_cart": "1",
                                    "to_shipping": "0",
                                    "to_billing": "0",
                                    "to_thankyou": "0"
                                },
                                {
                                    "pageview_url": "/the-original-mr-fuzzy",
                                    "website_session_id": "63513",
                                    "to_cart": "0",
                                    "to_shipping": "1",
                                    "to_billing": "0",
                                    "to_thankyou": "0"
                                },
                                {
                                    "pageview_url": "/the-original-mr-fuzzy",
                                    "website_session_id": "63513",
                                    "to_cart": "0",
                                    "to_shipping": "0",
                                    "to_billing": "1",
                                    "to_thankyou": "0"
                                },
                                {
                                    "pageview_url": "/the-original-mr-fuzzy",
                                    "website_session_id": "63513",
                                    "to_cart": "0",
                                    "to_shipping": "0",
                                    "to_billing": "0",
                                    "to_thankyou": "1"
                                },
                                {
                                    "pageview_url": "/the-original-mr-fuzzy",
                                    "website_session_id": "63515",
                                    "to_cart": "1",
                                    "to_shipping": "0",
                                    "to_billing": "0",
                                    "to_thankyou": "0"
                                },
                                {
                                    "pageview_url": "/the-original-mr-fuzzy",
                                    "website_session_id": "63516",
                                    "to_cart": "0",
                                    "to_shipping": "0",
                                    "to_billing": "0",
                                    "to_thankyou": "0"
                                },
                                {
                                    "pageview_url": "/the-original-mr-fuzzy",
                                    "website_session_id": "63517",
                                    "to_cart": "0",
                                    "to_shipping": "0",
                                    "to_billing": "0",
                                    "to_thankyou": "0"
                                },
                                {
                                    "pageview_url": "/the-original-mr-fuzzy",
                                    "website_session_id": "63518",
                                    "to_cart": "1",
                                    "to_shipping": "0",
                                    "to_billing": "0",
                                    "to_thankyou": "0"
                                },
                                {
                                    "pageview_url": "/the-original-mr-fuzzy",
                                    "website_session_id": "63519",
                                    "to_cart": "0",
                                    "to_shipping": "0",
                                    "to_billing": "0",
                                    "to_thankyou": "0"
                                },
                                {
                                    "pageview_url": "/the-original-mr-fuzzy",
                                    "website_session_id": "63520",
                                    "to_cart": "0",
                                    "to_shipping": "0",
                                    "to_billing": "0",
                                    "to_thankyou": "0"
                                }
                            ]
                        },
                        "text/html": [
                            "<table>",
                            "<tr><th>pageview_url</th><th>website_session_id</th><th>to_cart</th><th>to_shipping</th><th>to_billing</th><th>to_thankyou</th></tr>",
                            "<tr><td>/the-original-mr-fuzzy</td><td>63513</td><td>1</td><td>0</td><td>0</td><td>0</td></tr>",
                            "<tr><td>/the-original-mr-fuzzy</td><td>63513</td><td>0</td><td>1</td><td>0</td><td>0</td></tr>",
                            "<tr><td>/the-original-mr-fuzzy</td><td>63513</td><td>0</td><td>0</td><td>1</td><td>0</td></tr>",
                            "<tr><td>/the-original-mr-fuzzy</td><td>63513</td><td>0</td><td>0</td><td>0</td><td>1</td></tr>",
                            "<tr><td>/the-original-mr-fuzzy</td><td>63515</td><td>1</td><td>0</td><td>0</td><td>0</td></tr>",
                            "<tr><td>/the-original-mr-fuzzy</td><td>63516</td><td>0</td><td>0</td><td>0</td><td>0</td></tr>",
                            "<tr><td>/the-original-mr-fuzzy</td><td>63517</td><td>0</td><td>0</td><td>0</td><td>0</td></tr>",
                            "<tr><td>/the-original-mr-fuzzy</td><td>63518</td><td>1</td><td>0</td><td>0</td><td>0</td></tr>",
                            "<tr><td>/the-original-mr-fuzzy</td><td>63519</td><td>0</td><td>0</td><td>0</td><td>0</td></tr>",
                            "<tr><td>/the-original-mr-fuzzy</td><td>63520</td><td>0</td><td>0</td><td>0</td><td>0</td></tr>",
                            "</table>"
                        ]
                    }
                }
            ],
            "execution_count": 99
        },
        {
            "cell_type": "code",
            "source": [
                "select pageview_url,\n",
                "count(DISTINCT website_session_id) as session,\n",
                "count(DISTINCT case when to_cart = 1 then website_session_id else null end) as to_cart,\n",
                "count(DISTINCT case when to_shipping = 1 then website_session_id else null end) as to_shipping,\n",
                "count(DISTINCT case when to_billing = 1 then website_session_id else null end) as to_billing,\n",
                "count(DISTINCT case when to_thankyou = 1 then website_session_id else null end) as to_thankyou\n",
                "from user_journey\n",
                "GROUP by 1"
            ],
            "metadata": {
                "azdata_cell_guid": "549d4127-89e0-41a7-aa0b-1e4f4d9b18c2",
                "language": "sql"
            },
            "outputs": [
                {
                    "output_type": "display_data",
                    "data": {
                        "text/html": "(2 row(s) affected)"
                    },
                    "metadata": {}
                },
                {
                    "output_type": "display_data",
                    "data": {
                        "text/html": "Total execution time: 00:00:01.043"
                    },
                    "metadata": {}
                },
                {
                    "output_type": "execute_result",
                    "metadata": {},
                    "execution_count": 103,
                    "data": {
                        "application/vnd.dataresource+json": {
                            "schema": {
                                "fields": [
                                    {
                                        "name": "pageview_url"
                                    },
                                    {
                                        "name": "session"
                                    },
                                    {
                                        "name": "to_cart"
                                    },
                                    {
                                        "name": "to_shipping"
                                    },
                                    {
                                        "name": "to_billing"
                                    },
                                    {
                                        "name": "to_thankyou"
                                    }
                                ]
                            },
                            "data": [
                                {
                                    "pageview_url": "/the-forever-love-bear",
                                    "session": "1599",
                                    "to_cart": "877",
                                    "to_shipping": "603",
                                    "to_billing": "488",
                                    "to_thankyou": "301"
                                },
                                {
                                    "pageview_url": "/the-original-mr-fuzzy",
                                    "session": "6985",
                                    "to_cart": "3038",
                                    "to_shipping": "2084",
                                    "to_billing": "1710",
                                    "to_thankyou": "1088"
                                }
                            ]
                        },
                        "text/html": [
                            "<table>",
                            "<tr><th>pageview_url</th><th>session</th><th>to_cart</th><th>to_shipping</th><th>to_billing</th><th>to_thankyou</th></tr>",
                            "<tr><td>/the-forever-love-bear</td><td>1599</td><td>877</td><td>603</td><td>488</td><td>301</td></tr>",
                            "<tr><td>/the-original-mr-fuzzy</td><td>6985</td><td>3038</td><td>2084</td><td>1710</td><td>1088</td></tr>",
                            "</table>"
                        ]
                    }
                }
            ],
            "execution_count": 103
        },
        {
            "cell_type": "markdown",
            "source": [
                "**Subject: Recent Product Launch**\n",
                "\n",
                "<span style=\"font-family: -apple-system, BlinkMacSystemFont, sans-serif; color: var(--vscode-foreground);\">On December 12th 2013, we launched a third product&nbsp;</span> <span style=\"font-family: -apple-system, BlinkMacSystemFont, sans-serif; color: var(--vscode-foreground);\">targeting the birthday gift market (Birthday Bear).&nbsp;</span> <span style=\"font-family: -apple-system, BlinkMacSystemFont, sans-serif; color: var(--vscode-foreground);\">Could you please run a pre-post analysis comparing the&nbsp;</span> <span style=\"font-family: -apple-system, BlinkMacSystemFont, sans-serif; color: var(--vscode-foreground);\">month before vs. the month after, in terms of session-to-</span><span style=\"font-family: -apple-system, BlinkMacSystemFont, sans-serif; color: var(--vscode-foreground);\">order conversion rate, AOV, products per order, and&nbsp;</span> <span style=\"font-family: -apple-system, BlinkMacSystemFont, sans-serif; color: var(--vscode-foreground);\">revenue per session?</span>"
            ],
            "metadata": {
                "language": "sql",
                "azdata_cell_guid": "f5538a67-7751-425a-98aa-e5d437bc5a12"
            },
            "attachments": {}
        },
        {
            "cell_type": "code",
            "source": [
                "select * from website_pageviews limit 2"
            ],
            "metadata": {
                "azdata_cell_guid": "f6962bdd-0a8d-4f05-a72f-140d3e2d8582",
                "language": "sql"
            },
            "outputs": [
                {
                    "output_type": "display_data",
                    "data": {
                        "text/html": "(2 row(s) affected)"
                    },
                    "metadata": {}
                },
                {
                    "output_type": "display_data",
                    "data": {
                        "text/html": "Total execution time: 00:00:01.009"
                    },
                    "metadata": {}
                },
                {
                    "output_type": "execute_result",
                    "metadata": {},
                    "execution_count": 105,
                    "data": {
                        "application/vnd.dataresource+json": {
                            "schema": {
                                "fields": [
                                    {
                                        "name": "website_pageview_id"
                                    },
                                    {
                                        "name": "created_at"
                                    },
                                    {
                                        "name": "website_session_id"
                                    },
                                    {
                                        "name": "pageview_url"
                                    }
                                ]
                            },
                            "data": [
                                {
                                    "website_pageview_id": "1",
                                    "created_at": "2012-03-19 08:04:16",
                                    "website_session_id": "1",
                                    "pageview_url": "/home"
                                },
                                {
                                    "website_pageview_id": "2",
                                    "created_at": "2012-03-19 08:16:49",
                                    "website_session_id": "2",
                                    "pageview_url": "/home"
                                }
                            ]
                        },
                        "text/html": [
                            "<table>",
                            "<tr><th>website_pageview_id</th><th>created_at</th><th>website_session_id</th><th>pageview_url</th></tr>",
                            "<tr><td>1</td><td>2012-03-19 08:04:16</td><td>1</td><td>/home</td></tr>",
                            "<tr><td>2</td><td>2012-03-19 08:16:49</td><td>2</td><td>/home</td></tr>",
                            "</table>"
                        ]
                    }
                }
            ],
            "execution_count": 105
        },
        {
            "cell_type": "code",
            "source": [
                "select * from orders limit 2"
            ],
            "metadata": {
                "language": "sql",
                "azdata_cell_guid": "7d9169ee-c4c1-4ab9-a5e8-368f6a47d50b"
            },
            "outputs": [
                {
                    "output_type": "display_data",
                    "data": {
                        "text/html": "(2 row(s) affected)"
                    },
                    "metadata": {}
                },
                {
                    "output_type": "display_data",
                    "data": {
                        "text/html": "Total execution time: 00:00:01.006"
                    },
                    "metadata": {}
                },
                {
                    "output_type": "execute_result",
                    "metadata": {},
                    "execution_count": 109,
                    "data": {
                        "application/vnd.dataresource+json": {
                            "schema": {
                                "fields": [
                                    {
                                        "name": "order_id"
                                    },
                                    {
                                        "name": "created_at"
                                    },
                                    {
                                        "name": "website_session_id"
                                    },
                                    {
                                        "name": "user_id"
                                    },
                                    {
                                        "name": "primary_product_id"
                                    },
                                    {
                                        "name": "items_purchased"
                                    },
                                    {
                                        "name": "price_usd"
                                    },
                                    {
                                        "name": "cogs_usd"
                                    }
                                ]
                            },
                            "data": [
                                {
                                    "order_id": "1",
                                    "created_at": "2012-03-19 10:42:46",
                                    "website_session_id": "20",
                                    "user_id": "20",
                                    "primary_product_id": "1",
                                    "items_purchased": "1",
                                    "price_usd": "49.99",
                                    "cogs_usd": "19.49"
                                },
                                {
                                    "order_id": "2",
                                    "created_at": "2012-03-19 19:27:37",
                                    "website_session_id": "104",
                                    "user_id": "104",
                                    "primary_product_id": "1",
                                    "items_purchased": "1",
                                    "price_usd": "49.99",
                                    "cogs_usd": "19.49"
                                }
                            ]
                        },
                        "text/html": [
                            "<table>",
                            "<tr><th>order_id</th><th>created_at</th><th>website_session_id</th><th>user_id</th><th>primary_product_id</th><th>items_purchased</th><th>price_usd</th><th>cogs_usd</th></tr>",
                            "<tr><td>1</td><td>2012-03-19 10:42:46</td><td>20</td><td>20</td><td>1</td><td>1</td><td>49.99</td><td>19.49</td></tr>",
                            "<tr><td>2</td><td>2012-03-19 19:27:37</td><td>104</td><td>104</td><td>1</td><td>1</td><td>49.99</td><td>19.49</td></tr>",
                            "</table>"
                        ]
                    }
                }
            ],
            "execution_count": 109
        },
        {
            "cell_type": "code",
            "source": [
                "select time_period,\n",
                "count(DISTINCT a.website_session_id) as sessions,\n",
                "count(DISTINCT order_id) as orders,\n",
                "count(DISTINCT order_id)/count(DISTINCT a.website_session_id) as conv_rate,\n",
                "avg(price_usd) as aov,\n",
                "sum(price_usd)/count(DISTINCT a.website_session_id) as revenue_per_session\n",
                "\n",
                "from \n",
                "\n",
                "(select *,\n",
                "case\n",
                "when created_at < '2013-12-12' then 'Post_Birthday_Bear'\n",
                "when created_at >= '2013-12-12' then 'Pre_Birthday_Bear'\n",
                "end as time_period\n",
                "from website_sessions\n",
                "where created_at > '2013-11-12'\n",
                "and created_at < '2014-01-12') as a\n",
                "\n",
                "left join orders\n",
                "on a.website_session_id = orders.website_session_id\n",
                "\n",
                "GROUP BY 1"
            ],
            "metadata": {
                "azdata_cell_guid": "98fb2ab5-ac38-49ce-a5a5-0d82d49c2b80",
                "language": "sql"
            },
            "outputs": [
                {
                    "output_type": "display_data",
                    "data": {
                        "text/html": "(2 row(s) affected)"
                    },
                    "metadata": {}
                },
                {
                    "output_type": "display_data",
                    "data": {
                        "text/html": "Total execution time: 00:00:01.249"
                    },
                    "metadata": {}
                },
                {
                    "output_type": "execute_result",
                    "metadata": {},
                    "execution_count": 117,
                    "data": {
                        "application/vnd.dataresource+json": {
                            "schema": {
                                "fields": [
                                    {
                                        "name": "time_period"
                                    },
                                    {
                                        "name": "sessions"
                                    },
                                    {
                                        "name": "orders"
                                    },
                                    {
                                        "name": "conv_rate"
                                    },
                                    {
                                        "name": "aov"
                                    },
                                    {
                                        "name": "revenue_per_session"
                                    }
                                ]
                            },
                            "data": [
                                {
                                    "time_period": "Post_Birthday_Bear",
                                    "sessions": "17343",
                                    "orders": "1055",
                                    "conv_rate": "0.0608",
                                    "aov": "54.226502",
                                    "revenue_per_session": "3.298677"
                                },
                                {
                                    "time_period": "Pre_Birthday_Bear",
                                    "sessions": "13383",
                                    "orders": "940",
                                    "conv_rate": "0.0702",
                                    "aov": "56.931319",
                                    "revenue_per_session": "3.998763"
                                }
                            ]
                        },
                        "text/html": [
                            "<table>",
                            "<tr><th>time_period</th><th>sessions</th><th>orders</th><th>conv_rate</th><th>aov</th><th>revenue_per_session</th></tr>",
                            "<tr><td>Post_Birthday_Bear</td><td>17343</td><td>1055</td><td>0.0608</td><td>54.226502</td><td>3.298677</td></tr>",
                            "<tr><td>Pre_Birthday_Bear</td><td>13383</td><td>940</td><td>0.0702</td><td>56.931319</td><td>3.998763</td></tr>",
                            "</table>"
                        ]
                    }
                }
            ],
            "execution_count": 117
        },
        {
            "cell_type": "markdown",
            "source": [
                "**Subject: Quality Issues & Refunds**\n",
                "\n",
                "<span style=\"font-family: -apple-system, BlinkMacSystemFont, sans-serif; color: var(--vscode-foreground);\">Our Mr. Fuzzy supplier had some quality issues which&nbsp;</span> <span style=\"font-family: -apple-system, BlinkMacSystemFont, sans-serif; color: var(--vscode-foreground);\">weren't corrected until September 2013. Then they had a&nbsp;</span> <span style=\"font-family: -apple-system, BlinkMacSystemFont, sans-serif; color: var(--vscode-foreground);\">major problem where the bears' arms were falling off in&nbsp;</span> <span style=\"font-family: -apple-system, BlinkMacSystemFont, sans-serif; color: var(--vscode-foreground);\">Aug/Sep 2014. As a result, we replaced them with a new&nbsp;</span> <span style=\"font-family: -apple-system, BlinkMacSystemFont, sans-serif; color: var(--vscode-foreground);\">supplier on September 16, 2014.&nbsp;</span> <span style=\"font-family: -apple-system, BlinkMacSystemFont, sans-serif; color: var(--vscode-foreground);\">Can you please pull monthly product refund rates, by&nbsp;</span> <span style=\"font-family: -apple-system, BlinkMacSystemFont, sans-serif; color: var(--vscode-foreground);\">product, and confirm our quality issues are now fixed?</span>"
            ],
            "metadata": {
                "language": "sql",
                "azdata_cell_guid": "3f17b5da-0fbf-48d9-ba30-ea4c777ad7d6"
            },
            "attachments": {}
        },
        {
            "cell_type": "code",
            "source": [
                "select * from order_item_refunds limit 2"
            ],
            "metadata": {
                "azdata_cell_guid": "aa0e936f-ea0f-4940-9ab8-4a51f73b6427",
                "language": "sql"
            },
            "outputs": [
                {
                    "output_type": "display_data",
                    "data": {
                        "text/html": "(2 row(s) affected)"
                    },
                    "metadata": {}
                },
                {
                    "output_type": "display_data",
                    "data": {
                        "text/html": "Total execution time: 00:00:01.008"
                    },
                    "metadata": {}
                },
                {
                    "output_type": "execute_result",
                    "metadata": {},
                    "execution_count": 119,
                    "data": {
                        "application/vnd.dataresource+json": {
                            "schema": {
                                "fields": [
                                    {
                                        "name": "order_item_refund_id"
                                    },
                                    {
                                        "name": "created_at"
                                    },
                                    {
                                        "name": "order_item_id"
                                    },
                                    {
                                        "name": "order_id"
                                    },
                                    {
                                        "name": "refund_amount_usd"
                                    }
                                ]
                            },
                            "data": [
                                {
                                    "order_item_refund_id": "1",
                                    "created_at": "2012-04-06 11:32:43",
                                    "order_item_id": "57",
                                    "order_id": "57",
                                    "refund_amount_usd": "49.99"
                                },
                                {
                                    "order_item_refund_id": "2",
                                    "created_at": "2012-04-13 01:09:43",
                                    "order_item_id": "74",
                                    "order_id": "74",
                                    "refund_amount_usd": "49.99"
                                }
                            ]
                        },
                        "text/html": [
                            "<table>",
                            "<tr><th>order_item_refund_id</th><th>created_at</th><th>order_item_id</th><th>order_id</th><th>refund_amount_usd</th></tr>",
                            "<tr><td>1</td><td>2012-04-06 11:32:43</td><td>57</td><td>57</td><td>49.99</td></tr>",
                            "<tr><td>2</td><td>2012-04-13 01:09:43</td><td>74</td><td>74</td><td>49.99</td></tr>",
                            "</table>"
                        ]
                    }
                }
            ],
            "execution_count": 119
        },
        {
            "cell_type": "code",
            "source": [
                "select * from order_items limit 2"
            ],
            "metadata": {
                "azdata_cell_guid": "cb214598-61cf-4a24-88ce-9aef9ed8b38f",
                "language": "sql"
            },
            "outputs": [
                {
                    "output_type": "display_data",
                    "data": {
                        "text/html": "(2 row(s) affected)"
                    },
                    "metadata": {}
                },
                {
                    "output_type": "display_data",
                    "data": {
                        "text/html": "Total execution time: 00:00:01.006"
                    },
                    "metadata": {}
                },
                {
                    "output_type": "execute_result",
                    "metadata": {},
                    "execution_count": 124,
                    "data": {
                        "application/vnd.dataresource+json": {
                            "schema": {
                                "fields": [
                                    {
                                        "name": "order_item_id"
                                    },
                                    {
                                        "name": "created_at"
                                    },
                                    {
                                        "name": "order_id"
                                    },
                                    {
                                        "name": "product_id"
                                    },
                                    {
                                        "name": "is_primary_item"
                                    },
                                    {
                                        "name": "price_usd"
                                    },
                                    {
                                        "name": "cogs_usd"
                                    }
                                ]
                            },
                            "data": [
                                {
                                    "order_item_id": "1",
                                    "created_at": "2012-03-19 10:42:46",
                                    "order_id": "1",
                                    "product_id": "1",
                                    "is_primary_item": "1",
                                    "price_usd": "49.99",
                                    "cogs_usd": "19.49"
                                },
                                {
                                    "order_item_id": "2",
                                    "created_at": "2012-03-19 19:27:37",
                                    "order_id": "2",
                                    "product_id": "1",
                                    "is_primary_item": "1",
                                    "price_usd": "49.99",
                                    "cogs_usd": "19.49"
                                }
                            ]
                        },
                        "text/html": [
                            "<table>",
                            "<tr><th>order_item_id</th><th>created_at</th><th>order_id</th><th>product_id</th><th>is_primary_item</th><th>price_usd</th><th>cogs_usd</th></tr>",
                            "<tr><td>1</td><td>2012-03-19 10:42:46</td><td>1</td><td>1</td><td>1</td><td>49.99</td><td>19.49</td></tr>",
                            "<tr><td>2</td><td>2012-03-19 19:27:37</td><td>2</td><td>1</td><td>1</td><td>49.99</td><td>19.49</td></tr>",
                            "</table>"
                        ]
                    }
                }
            ],
            "execution_count": 124
        },
        {
            "cell_type": "code",
            "source": [
                "select YEAR(order_items.created_at) as yo, \n",
                "MONTH(order_items.created_at) as mo,\n",
                "count(distinct case when product_id=1 then order_items.order_id else null end)\n",
                "from order_items\n",
                "left join order_item_refunds\n",
                "on order_items.order_id = order_item_refunds.order_id\n",
                "where order_items.created_at <= '2014-10-15'\n",
                "GROUP BY 1,2 limit 10"
            ],
            "metadata": {
                "azdata_cell_guid": "9425eedb-2729-4002-8cc4-55286b1a3f75",
                "language": "sql"
            },
            "outputs": [
{
    "output_type": "display_data",
    "data": {
        "text/html": "(10 row(s) affected)"
    },
    "metadata": {}
}, {
    "output_type": "display_data",
    "data": {
        "text/html": "Total execution time: 00:00:01.047"
    },
    "metadata": {}
}, {
    "output_type": "execute_result",
    "metadata": {},
    "execution_count": 138,
    "data": {
        "application/vnd.dataresource+json": {
            "schema": {
                "fields": [
                    {
                        "name": "yo"
                    },
                    {
                        "name": "mo"
                    },
                    {
                        "name": "count(distinct case when product_id=1 then order_items.order_id else null end)"
                    }
                ]
            },
            "data": [
                {
                    "yo": "2012",
                    "mo": "3",
                    "count(distinct case when product_id=1 then order_items.order_id else null end)": "60"
                },
                {
                    "yo": "2012",
                    "mo": "4",
                    "count(distinct case when product_id=1 then order_items.order_id else null end)": "99"
                },
                {
                    "yo": "2012",
                    "mo": "5",
                    "count(distinct case when product_id=1 then order_items.order_id else null end)": "108"
                },
                {
                    "yo": "2012",
                    "mo": "6",
                    "count(distinct case when product_id=1 then order_items.order_id else null end)": "140"
                },
                {
                    "yo": "2012",
                    "mo": "7",
                    "count(distinct case when product_id=1 then order_items.order_id else null end)": "169"
                },
                {
                    "yo": "2012",
                    "mo": "8",
                    "count(distinct case when product_id=1 then order_items.order_id else null end)": "228"
                },
                {
                    "yo": "2012",
                    "mo": "9",
                    "count(distinct case when product_id=1 then order_items.order_id else null end)": "287"
                },
                {
                    "yo": "2012",
                    "mo": "10",
                    "count(distinct case when product_id=1 then order_items.order_id else null end)": "371"
                },
                {
                    "yo": "2012",
                    "mo": "11",
                    "count(distinct case when product_id=1 then order_items.order_id else null end)": "618"
                },
                {
                    "yo": "2012",
                    "mo": "12",
                    "count(distinct case when product_id=1 then order_items.order_id else null end)": "506"
                }
            ]
        },
        "text/html": [
            "<table>",
            "<tr><th>yo</th><th>mo</th><th>count(distinct case when product_id=1 then order_items.order_id else null end)</th></tr>",
            "<tr><td>2012</td><td>3</td><td>60</td></tr>",
            "<tr><td>2012</td><td>4</td><td>99</td></tr>",
            "<tr><td>2012</td><td>5</td><td>108</td></tr>",
            "<tr><td>2012</td><td>6</td><td>140</td></tr>",
            "<tr><td>2012</td><td>7</td><td>169</td></tr>",
            "<tr><td>2012</td><td>8</td><td>228</td></tr>",
            "<tr><td>2012</td><td>9</td><td>287</td></tr>",
            "<tr><td>2012</td><td>10</td><td>371</td></tr>",
            "<tr><td>2012</td><td>11</td><td>618</td></tr>",
            "<tr><td>2012</td><td>12</td><td>506</td></tr>",
            "</table>"
        ]
    }
}
],
            "execution_count": 138
        },
        {
            "cell_type": "code",
            "source": [
                "select YEAR(order_items.created_at) as yo, \n",
                "MONTH(order_items.created_at) as mo,\n",
                "count(distinct case when product_id=1 then order_items.order_id else null end) as prod_1,\n",
                "count(distinct case when product_id=1 then order_item_refunds.order_item_refund_id else null end)\n",
                "/count(distinct case when product_id=1 then order_items.order_id else null end) as r_prod_1,\n",
                "count(distinct case when product_id=2 then order_items.order_id else null end) as prod_2,\n",
                "count(distinct case when product_id=2 then order_item_refunds.order_item_refund_id else null end)/\n",
                "count(distinct case when product_id=2 then order_items.order_id else null end) as r_prod_2,\n",
                "count(distinct case when product_id=3 then order_items.order_id else null end) as prod_3,\n",
                "count(distinct case when product_id=3 then order_item_refunds.order_item_refund_id else null end)\n",
                "/ count(distinct case when product_id=3 then order_items.order_id else null end)as r_prod_3,\n",
                "count(distinct case when product_id=4 then order_items.order_id else null end) as prod_4,\n",
                "count(distinct case when product_id=4 then order_item_refunds.order_item_refund_id else null end)\n",
                "/count(distinct case when product_id=4 then order_items.order_id else null end) as r_prod_4\n",
                "\n",
                "from order_items\n",
                "left join order_item_refunds\n",
                "on order_items.order_item_id = order_item_refunds.order_item_id\n",
                "where order_items.created_at < '2014-10-15'\n",
                "GROUP BY 1,2"
            ],
            "metadata": {
                "azdata_cell_guid": "3fffb60e-5fa1-4f09-bac2-b7ec2572e90c",
                "language": "sql"
            },
            "outputs": [
                {
                    "output_type": "display_data",
                    "data": {
                        "text/html": "(32 row(s) affected)"
                    },
                    "metadata": {}
                },
                {
                    "output_type": "display_data",
                    "data": {
                        "text/html": "Total execution time: 00:00:01.100"
                    },
                    "metadata": {}
                },
                {
                    "output_type": "execute_result",
                    "metadata": {},
                    "execution_count": 137,
                    "data": {
                        "application/vnd.dataresource+json": {
                            "schema": {
                                "fields": [
                                    {
                                        "name": "yo"
                                    },
                                    {
                                        "name": "mo"
                                    },
                                    {
                                        "name": "prod_1"
                                    },
                                    {
                                        "name": "r_prod_1"
                                    },
                                    {
                                        "name": "prod_2"
                                    },
                                    {
                                        "name": "r_prod_2"
                                    },
                                    {
                                        "name": "prod_3"
                                    },
                                    {
                                        "name": "r_prod_3"
                                    },
                                    {
                                        "name": "prod_4"
                                    },
                                    {
                                        "name": "r_prod_4"
                                    }
                                ]
                            },
                            "data": [
                                {
                                    "yo": "2012",
                                    "mo": "3",
                                    "prod_1": "60",
                                    "r_prod_1": "0.0167",
                                    "prod_2": "0",
                                    "r_prod_2": "NULL",
                                    "prod_3": "0",
                                    "r_prod_3": "NULL",
                                    "prod_4": "0",
                                    "r_prod_4": "NULL"
                                },
                                {
                                    "yo": "2012",
                                    "mo": "4",
                                    "prod_1": "99",
                                    "r_prod_1": "0.0505",
                                    "prod_2": "0",
                                    "r_prod_2": "NULL",
                                    "prod_3": "0",
                                    "r_prod_3": "NULL",
                                    "prod_4": "0",
                                    "r_prod_4": "NULL"
                                },
                                {
                                    "yo": "2012",
                                    "mo": "5",
                                    "prod_1": "108",
                                    "r_prod_1": "0.0370",
                                    "prod_2": "0",
                                    "r_prod_2": "NULL",
                                    "prod_3": "0",
                                    "r_prod_3": "NULL",
                                    "prod_4": "0",
                                    "r_prod_4": "NULL"
                                },
                                {
                                    "yo": "2012",
                                    "mo": "6",
                                    "prod_1": "140",
                                    "r_prod_1": "0.0571",
                                    "prod_2": "0",
                                    "r_prod_2": "NULL",
                                    "prod_3": "0",
                                    "r_prod_3": "NULL",
                                    "prod_4": "0",
                                    "r_prod_4": "NULL"
                                },
                                {
                                    "yo": "2012",
                                    "mo": "7",
                                    "prod_1": "169",
                                    "r_prod_1": "0.0828",
                                    "prod_2": "0",
                                    "r_prod_2": "NULL",
                                    "prod_3": "0",
                                    "r_prod_3": "NULL",
                                    "prod_4": "0",
                                    "r_prod_4": "NULL"
                                },
                                {
                                    "yo": "2012",
                                    "mo": "8",
                                    "prod_1": "228",
                                    "r_prod_1": "0.0746",
                                    "prod_2": "0",
                                    "r_prod_2": "NULL",
                                    "prod_3": "0",
                                    "r_prod_3": "NULL",
                                    "prod_4": "0",
                                    "r_prod_4": "NULL"
                                },
                                {
                                    "yo": "2012",
                                    "mo": "9",
                                    "prod_1": "287",
                                    "r_prod_1": "0.0906",
                                    "prod_2": "0",
                                    "r_prod_2": "NULL",
                                    "prod_3": "0",
                                    "r_prod_3": "NULL",
                                    "prod_4": "0",
                                    "r_prod_4": "NULL"
                                },
                                {
                                    "yo": "2012",
                                    "mo": "10",
                                    "prod_1": "371",
                                    "r_prod_1": "0.0728",
                                    "prod_2": "0",
                                    "r_prod_2": "NULL",
                                    "prod_3": "0",
                                    "r_prod_3": "NULL",
                                    "prod_4": "0",
                                    "r_prod_4": "NULL"
                                },
                                {
                                    "yo": "2012",
                                    "mo": "11",
                                    "prod_1": "618",
                                    "r_prod_1": "0.0744",
                                    "prod_2": "0",
                                    "r_prod_2": "NULL",
                                    "prod_3": "0",
                                    "r_prod_3": "NULL",
                                    "prod_4": "0",
                                    "r_prod_4": "NULL"
                                },
                                {
                                    "yo": "2012",
                                    "mo": "12",
                                    "prod_1": "506",
                                    "r_prod_1": "0.0593",
                                    "prod_2": "0",
                                    "r_prod_2": "NULL",
                                    "prod_3": "0",
                                    "r_prod_3": "NULL",
                                    "prod_4": "0",
                                    "r_prod_4": "NULL"
                                },
                                {
                                    "yo": "2013",
                                    "mo": "1",
                                    "prod_1": "343",
                                    "r_prod_1": "0.0496",
                                    "prod_2": "47",
                                    "r_prod_2": "0.0213",
                                    "prod_3": "0",
                                    "r_prod_3": "NULL",
                                    "prod_4": "0",
                                    "r_prod_4": "NULL"
                                },
                                {
                                    "yo": "2013",
                                    "mo": "2",
                                    "prod_1": "336",
                                    "r_prod_1": "0.0714",
                                    "prod_2": "162",
                                    "r_prod_2": "0.0123",
                                    "prod_3": "0",
                                    "r_prod_3": "NULL",
                                    "prod_4": "0",
                                    "r_prod_4": "NULL"
                                },
                                {
                                    "yo": "2013",
                                    "mo": "3",
                                    "prod_1": "320",
                                    "r_prod_1": "0.0563",
                                    "prod_2": "65",
                                    "r_prod_2": "0.0462",
                                    "prod_3": "0",
                                    "r_prod_3": "NULL",
                                    "prod_4": "0",
                                    "r_prod_4": "NULL"
                                },
                                {
                                    "yo": "2013",
                                    "mo": "4",
                                    "prod_1": "459",
                                    "r_prod_1": "0.0414",
                                    "prod_2": "94",
                                    "r_prod_2": "0.0106",
                                    "prod_3": "0",
                                    "r_prod_3": "NULL",
                                    "prod_4": "0",
                                    "r_prod_4": "NULL"
                                },
                                {
                                    "yo": "2013",
                                    "mo": "5",
                                    "prod_1": "489",
                                    "r_prod_1": "0.0634",
                                    "prod_2": "82",
                                    "r_prod_2": "0.0244",
                                    "prod_3": "0",
                                    "r_prod_3": "NULL",
                                    "prod_4": "0",
                                    "r_prod_4": "NULL"
                                },
                                {
                                    "yo": "2013",
                                    "mo": "6",
                                    "prod_1": "503",
                                    "r_prod_1": "0.0775",
                                    "prod_2": "90",
                                    "r_prod_2": "0.0556",
                                    "prod_3": "0",
                                    "r_prod_3": "NULL",
                                    "prod_4": "0",
                                    "r_prod_4": "NULL"
                                },
                                {
                                    "yo": "2013",
                                    "mo": "7",
                                    "prod_1": "509",
                                    "r_prod_1": "0.0727",
                                    "prod_2": "95",
                                    "r_prod_2": "0.0316",
                                    "prod_3": "0",
                                    "r_prod_3": "NULL",
                                    "prod_4": "0",
                                    "r_prod_4": "NULL"
                                },
                                {
                                    "yo": "2013",
                                    "mo": "8",
                                    "prod_1": "510",
                                    "r_prod_1": "0.0549",
                                    "prod_2": "98",
                                    "r_prod_2": "0.0102",
                                    "prod_3": "0",
                                    "r_prod_3": "NULL",
                                    "prod_4": "0",
                                    "r_prod_4": "NULL"
                                },
                                {
                                    "yo": "2013",
                                    "mo": "9",
                                    "prod_1": "537",
                                    "r_prod_1": "0.0428",
                                    "prod_2": "98",
                                    "r_prod_2": "0.0102",
                                    "prod_3": "0",
                                    "r_prod_3": "NULL",
                                    "prod_4": "0",
                                    "r_prod_4": "NULL"
                                },
                                {
                                    "yo": "2013",
                                    "mo": "10",
                                    "prod_1": "603",
                                    "r_prod_1": "0.0282",
                                    "prod_2": "135",
                                    "r_prod_2": "0.0148",
                                    "prod_3": "0",
                                    "r_prod_3": "NULL",
                                    "prod_4": "0",
                                    "r_prod_4": "NULL"
                                },
                                {
                                    "yo": "2013",
                                    "mo": "11",
                                    "prod_1": "724",
                                    "r_prod_1": "0.0345",
                                    "prod_2": "174",
                                    "r_prod_2": "0.0230",
                                    "prod_3": "0",
                                    "r_prod_3": "NULL",
                                    "prod_4": "0",
                                    "r_prod_4": "NULL"
                                },
                                {
                                    "yo": "2013",
                                    "mo": "12",
                                    "prod_1": "818",
                                    "r_prod_1": "0.0232",
                                    "prod_2": "183",
                                    "r_prod_2": "0.0219",
                                    "prod_3": "139",
                                    "r_prod_3": "0.0719",
                                    "prod_4": "0",
                                    "r_prod_4": "NULL"
                                },
                                {
                                    "yo": "2014",
                                    "mo": "1",
                                    "prod_1": "728",
                                    "r_prod_1": "0.0426",
                                    "prod_2": "183",
                                    "r_prod_2": "0.0219",
                                    "prod_3": "200",
                                    "r_prod_3": "0.0650",
                                    "prod_4": "0",
                                    "r_prod_4": "NULL"
                                },
                                {
                                    "yo": "2014",
                                    "mo": "2",
                                    "prod_1": "584",
                                    "r_prod_1": "0.0394",
                                    "prod_2": "351",
                                    "r_prod_2": "0.0171",
                                    "prod_3": "211",
                                    "r_prod_3": "0.0664",
                                    "prod_4": "202",
                                    "r_prod_4": "0.0099"
                                },
                                {
                                    "yo": "2014",
                                    "mo": "3",
                                    "prod_1": "785",
                                    "r_prod_1": "0.0306",
                                    "prod_2": "193",
                                    "r_prod_2": "0.0155",
                                    "prod_3": "244",
                                    "r_prod_3": "0.0697",
                                    "prod_4": "205",
                                    "r_prod_4": "0.0049"
                                },
                                {
                                    "yo": "2014",
                                    "mo": "4",
                                    "prod_1": "917",
                                    "r_prod_1": "0.0349",
                                    "prod_2": "214",
                                    "r_prod_2": "0.0187",
                                    "prod_3": "267",
                                    "r_prod_3": "0.0674",
                                    "prod_4": "259",
                                    "r_prod_4": "0.0154"
                                },
                                {
                                    "yo": "2014",
                                    "mo": "5",
                                    "prod_1": "1030",
                                    "r_prod_1": "0.0291",
                                    "prod_2": "246",
                                    "r_prod_2": "0.0163",
                                    "prod_3": "299",
                                    "r_prod_3": "0.0569",
                                    "prod_4": "298",
                                    "r_prod_4": "0.0067"
                                },
                                {
                                    "yo": "2014",
                                    "mo": "6",
                                    "prod_1": "893",
                                    "r_prod_1": "0.0571",
                                    "prod_2": "245",
                                    "r_prod_2": "0.0367",
                                    "prod_3": "288",
                                    "r_prod_3": "0.0556",
                                    "prod_4": "249",
                                    "r_prod_4": "0.0241"
                                },
                                {
                                    "yo": "2014",
                                    "mo": "7",
                                    "prod_1": "961",
                                    "r_prod_1": "0.0437",
                                    "prod_2": "244",
                                    "r_prod_2": "0.0369",
                                    "prod_3": "276",
                                    "r_prod_3": "0.0399",
                                    "prod_4": "264",
                                    "r_prod_4": "0.0152"
                                },
                                {
                                    "yo": "2014",
                                    "mo": "8",
                                    "prod_1": "958",
                                    "r_prod_1": "0.1378",
                                    "prod_2": "237",
                                    "r_prod_2": "0.0169",
                                    "prod_3": "294",
                                    "r_prod_3": "0.0680",
                                    "prod_4": "303",
                                    "r_prod_4": "0.0066"
                                },
                                {
                                    "yo": "2014",
                                    "mo": "9",
                                    "prod_1": "1056",
                                    "r_prod_1": "0.1326",
                                    "prod_2": "251",
                                    "r_prod_2": "0.0319",
                                    "prod_3": "317",
                                    "r_prod_3": "0.0662",
                                    "prod_4": "327",
                                    "r_prod_4": "0.0122"
                                },
                                {
                                    "yo": "2014",
                                    "mo": "10",
                                    "prod_1": "513",
                                    "r_prod_1": "0.0273",
                                    "prod_2": "135",
                                    "r_prod_2": "0.0074",
                                    "prod_3": "165",
                                    "r_prod_3": "0.0485",
                                    "prod_4": "155",
                                    "r_prod_4": "0.0323"
                                }
                            ]
                        },
                        "text/html": [
                            "<table>",
                            "<tr><th>yo</th><th>mo</th><th>prod_1</th><th>r_prod_1</th><th>prod_2</th><th>r_prod_2</th><th>prod_3</th><th>r_prod_3</th><th>prod_4</th><th>r_prod_4</th></tr>",
                            "<tr><td>2012</td><td>3</td><td>60</td><td>0.0167</td><td>0</td><td>NULL</td><td>0</td><td>NULL</td><td>0</td><td>NULL</td></tr>",
                            "<tr><td>2012</td><td>4</td><td>99</td><td>0.0505</td><td>0</td><td>NULL</td><td>0</td><td>NULL</td><td>0</td><td>NULL</td></tr>",
                            "<tr><td>2012</td><td>5</td><td>108</td><td>0.0370</td><td>0</td><td>NULL</td><td>0</td><td>NULL</td><td>0</td><td>NULL</td></tr>",
                            "<tr><td>2012</td><td>6</td><td>140</td><td>0.0571</td><td>0</td><td>NULL</td><td>0</td><td>NULL</td><td>0</td><td>NULL</td></tr>",
                            "<tr><td>2012</td><td>7</td><td>169</td><td>0.0828</td><td>0</td><td>NULL</td><td>0</td><td>NULL</td><td>0</td><td>NULL</td></tr>",
                            "<tr><td>2012</td><td>8</td><td>228</td><td>0.0746</td><td>0</td><td>NULL</td><td>0</td><td>NULL</td><td>0</td><td>NULL</td></tr>",
                            "<tr><td>2012</td><td>9</td><td>287</td><td>0.0906</td><td>0</td><td>NULL</td><td>0</td><td>NULL</td><td>0</td><td>NULL</td></tr>",
                            "<tr><td>2012</td><td>10</td><td>371</td><td>0.0728</td><td>0</td><td>NULL</td><td>0</td><td>NULL</td><td>0</td><td>NULL</td></tr>",
                            "<tr><td>2012</td><td>11</td><td>618</td><td>0.0744</td><td>0</td><td>NULL</td><td>0</td><td>NULL</td><td>0</td><td>NULL</td></tr>",
                            "<tr><td>2012</td><td>12</td><td>506</td><td>0.0593</td><td>0</td><td>NULL</td><td>0</td><td>NULL</td><td>0</td><td>NULL</td></tr>",
                            "<tr><td>2013</td><td>1</td><td>343</td><td>0.0496</td><td>47</td><td>0.0213</td><td>0</td><td>NULL</td><td>0</td><td>NULL</td></tr>",
                            "<tr><td>2013</td><td>2</td><td>336</td><td>0.0714</td><td>162</td><td>0.0123</td><td>0</td><td>NULL</td><td>0</td><td>NULL</td></tr>",
                            "<tr><td>2013</td><td>3</td><td>320</td><td>0.0563</td><td>65</td><td>0.0462</td><td>0</td><td>NULL</td><td>0</td><td>NULL</td></tr>",
                            "<tr><td>2013</td><td>4</td><td>459</td><td>0.0414</td><td>94</td><td>0.0106</td><td>0</td><td>NULL</td><td>0</td><td>NULL</td></tr>",
                            "<tr><td>2013</td><td>5</td><td>489</td><td>0.0634</td><td>82</td><td>0.0244</td><td>0</td><td>NULL</td><td>0</td><td>NULL</td></tr>",
                            "<tr><td>2013</td><td>6</td><td>503</td><td>0.0775</td><td>90</td><td>0.0556</td><td>0</td><td>NULL</td><td>0</td><td>NULL</td></tr>",
                            "<tr><td>2013</td><td>7</td><td>509</td><td>0.0727</td><td>95</td><td>0.0316</td><td>0</td><td>NULL</td><td>0</td><td>NULL</td></tr>",
                            "<tr><td>2013</td><td>8</td><td>510</td><td>0.0549</td><td>98</td><td>0.0102</td><td>0</td><td>NULL</td><td>0</td><td>NULL</td></tr>",
                            "<tr><td>2013</td><td>9</td><td>537</td><td>0.0428</td><td>98</td><td>0.0102</td><td>0</td><td>NULL</td><td>0</td><td>NULL</td></tr>",
                            "<tr><td>2013</td><td>10</td><td>603</td><td>0.0282</td><td>135</td><td>0.0148</td><td>0</td><td>NULL</td><td>0</td><td>NULL</td></tr>",
                            "<tr><td>2013</td><td>11</td><td>724</td><td>0.0345</td><td>174</td><td>0.0230</td><td>0</td><td>NULL</td><td>0</td><td>NULL</td></tr>",
                            "<tr><td>2013</td><td>12</td><td>818</td><td>0.0232</td><td>183</td><td>0.0219</td><td>139</td><td>0.0719</td><td>0</td><td>NULL</td></tr>",
                            "<tr><td>2014</td><td>1</td><td>728</td><td>0.0426</td><td>183</td><td>0.0219</td><td>200</td><td>0.0650</td><td>0</td><td>NULL</td></tr>",
                            "<tr><td>2014</td><td>2</td><td>584</td><td>0.0394</td><td>351</td><td>0.0171</td><td>211</td><td>0.0664</td><td>202</td><td>0.0099</td></tr>",
                            "<tr><td>2014</td><td>3</td><td>785</td><td>0.0306</td><td>193</td><td>0.0155</td><td>244</td><td>0.0697</td><td>205</td><td>0.0049</td></tr>",
                            "<tr><td>2014</td><td>4</td><td>917</td><td>0.0349</td><td>214</td><td>0.0187</td><td>267</td><td>0.0674</td><td>259</td><td>0.0154</td></tr>",
                            "<tr><td>2014</td><td>5</td><td>1030</td><td>0.0291</td><td>246</td><td>0.0163</td><td>299</td><td>0.0569</td><td>298</td><td>0.0067</td></tr>",
                            "<tr><td>2014</td><td>6</td><td>893</td><td>0.0571</td><td>245</td><td>0.0367</td><td>288</td><td>0.0556</td><td>249</td><td>0.0241</td></tr>",
                            "<tr><td>2014</td><td>7</td><td>961</td><td>0.0437</td><td>244</td><td>0.0369</td><td>276</td><td>0.0399</td><td>264</td><td>0.0152</td></tr>",
                            "<tr><td>2014</td><td>8</td><td>958</td><td>0.1378</td><td>237</td><td>0.0169</td><td>294</td><td>0.0680</td><td>303</td><td>0.0066</td></tr>",
                            "<tr><td>2014</td><td>9</td><td>1056</td><td>0.1326</td><td>251</td><td>0.0319</td><td>317</td><td>0.0662</td><td>327</td><td>0.0122</td></tr>",
                            "<tr><td>2014</td><td>10</td><td>513</td><td>0.0273</td><td>135</td><td>0.0074</td><td>165</td><td>0.0485</td><td>155</td><td>0.0323</td></tr>",
                            "</table>"
                        ]
                    }
                }
            ],
            "execution_count": 137
        }
    ]
}