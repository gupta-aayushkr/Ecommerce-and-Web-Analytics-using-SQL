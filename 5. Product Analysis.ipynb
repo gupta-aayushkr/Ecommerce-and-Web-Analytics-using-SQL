{
    "metadata": {
        "kernelspec": {
            "name": "SQL",
            "display_name": "SQL",
            "language": "sql"
        },
        "language_info": {
            "name": "sql",
            "version": ""
        }
    },
    "nbformat_minor": 2,
    "nbformat": 4,
    "cells": [
        {
            "cell_type": "code",
            "source": [
                "use mavenfuzzyfactory"
            ],
            "metadata": {
                "azdata_cell_guid": "045ed71a-7117-4a84-8db2-38f54d85c77c",
                "language": "sql"
            },
            "outputs": [
                {
                    "output_type": "display_data",
                    "data": {
                        "text/html": "Commands completed successfully"
                    },
                    "metadata": {}
                },
                {
                    "output_type": "display_data",
                    "data": {
                        "text/html": "Total execution time: 00:00:00"
                    },
                    "metadata": {}
                }
            ],
            "execution_count": 1
        },
        {
            "cell_type": "markdown",
            "source": [
                "**Subiect: Sales Trends**\n",
                "\n",
                "<span style=\"font-family: -apple-system, BlinkMacSystemFont, sans-serif; color: var(--vscode-foreground);\">We're about to launch a new product, and I'd like to do a&nbsp;</span> <span style=\"font-family: -apple-system, BlinkMacSystemFont, sans-serif; color: var(--vscode-foreground);\">deep dive on our current flagship product.&nbsp;</span> <span style=\"font-family: -apple-system, BlinkMacSystemFont, sans-serif; color: var(--vscode-foreground);\">Can you please pull monthly trends to date for number of&nbsp;</span> <span style=\"font-family: -apple-system, BlinkMacSystemFont, sans-serif; color: var(--vscode-foreground);\">sales, total revenue, and total margin generated for the&nbsp;</span> <span style=\"font-family: -apple-system, BlinkMacSystemFont, sans-serif; color: var(--vscode-foreground);\">business?</span>"
            ],
            "metadata": {
                "language": "sql",
                "azdata_cell_guid": "9f65e48d-9120-4d77-860c-df1d7fa0ebae"
            },
            "attachments": {}
        },
        {
            "cell_type": "code",
            "source": [
                "show tables"
            ],
            "metadata": {
                "azdata_cell_guid": "bb6ee489-84c7-4bd7-b44a-02259ab4d801",
                "language": "sql"
            },
            "outputs": [
                {
                    "output_type": "display_data",
                    "data": {
                        "text/html": "(6 row(s) affected)"
                    },
                    "metadata": {}
                },
                {
                    "output_type": "display_data",
                    "data": {
                        "text/html": "Total execution time: 00:00:01.010"
                    },
                    "metadata": {}
                },
                {
                    "output_type": "execute_result",
                    "metadata": {},
                    "execution_count": 2,
                    "data": {
                        "application/vnd.dataresource+json": {
                            "schema": {
                                "fields": [
                                    {
                                        "name": "Tables_in_mavenfuzzyfactory"
                                    }
                                ]
                            },
                            "data": [
                                {
                                    "Tables_in_mavenfuzzyfactory": "order_item_refunds"
                                },
                                {
                                    "Tables_in_mavenfuzzyfactory": "order_items"
                                },
                                {
                                    "Tables_in_mavenfuzzyfactory": "orders"
                                },
                                {
                                    "Tables_in_mavenfuzzyfactory": "products"
                                },
                                {
                                    "Tables_in_mavenfuzzyfactory": "website_pageviews"
                                },
                                {
                                    "Tables_in_mavenfuzzyfactory": "website_sessions"
                                }
                            ]
                        },
                        "text/html": [
                            "<table>",
                            "<tr><th>Tables_in_mavenfuzzyfactory</th></tr>",
                            "<tr><td>order_item_refunds</td></tr>",
                            "<tr><td>order_items</td></tr>",
                            "<tr><td>orders</td></tr>",
                            "<tr><td>products</td></tr>",
                            "<tr><td>website_pageviews</td></tr>",
                            "<tr><td>website_sessions</td></tr>",
                            "</table>"
                        ]
                    }
                }
            ],
            "execution_count": 2
        },
        {
            "cell_type": "code",
            "source": [
                "select * from orders limit 3"
            ],
            "metadata": {
                "azdata_cell_guid": "907112e4-fa45-4beb-8ffb-e7423ce904af",
                "language": "sql"
            },
            "outputs": [
                {
                    "output_type": "display_data",
                    "data": {
                        "text/html": "(3 row(s) affected)"
                    },
                    "metadata": {}
                },
                {
                    "output_type": "display_data",
                    "data": {
                        "text/html": "Total execution time: 00:00:01.012"
                    },
                    "metadata": {}
                },
                {
                    "output_type": "execute_result",
                    "metadata": {},
                    "execution_count": 3,
                    "data": {
                        "application/vnd.dataresource+json": {
                            "schema": {
                                "fields": [
                                    {
                                        "name": "order_id"
                                    },
                                    {
                                        "name": "created_at"
                                    },
                                    {
                                        "name": "website_session_id"
                                    },
                                    {
                                        "name": "user_id"
                                    },
                                    {
                                        "name": "primary_product_id"
                                    },
                                    {
                                        "name": "items_purchased"
                                    },
                                    {
                                        "name": "price_usd"
                                    },
                                    {
                                        "name": "cogs_usd"
                                    }
                                ]
                            },
                            "data": [
                                {
                                    "order_id": "1",
                                    "created_at": "2012-03-19 10:42:46",
                                    "website_session_id": "20",
                                    "user_id": "20",
                                    "primary_product_id": "1",
                                    "items_purchased": "1",
                                    "price_usd": "49.99",
                                    "cogs_usd": "19.49"
                                },
                                {
                                    "order_id": "2",
                                    "created_at": "2012-03-19 19:27:37",
                                    "website_session_id": "104",
                                    "user_id": "104",
                                    "primary_product_id": "1",
                                    "items_purchased": "1",
                                    "price_usd": "49.99",
                                    "cogs_usd": "19.49"
                                },
                                {
                                    "order_id": "3",
                                    "created_at": "2012-03-20 06:44:45",
                                    "website_session_id": "147",
                                    "user_id": "147",
                                    "primary_product_id": "1",
                                    "items_purchased": "1",
                                    "price_usd": "49.99",
                                    "cogs_usd": "19.49"
                                }
                            ]
                        },
                        "text/html": [
                            "<table>",
                            "<tr><th>order_id</th><th>created_at</th><th>website_session_id</th><th>user_id</th><th>primary_product_id</th><th>items_purchased</th><th>price_usd</th><th>cogs_usd</th></tr>",
                            "<tr><td>1</td><td>2012-03-19 10:42:46</td><td>20</td><td>20</td><td>1</td><td>1</td><td>49.99</td><td>19.49</td></tr>",
                            "<tr><td>2</td><td>2012-03-19 19:27:37</td><td>104</td><td>104</td><td>1</td><td>1</td><td>49.99</td><td>19.49</td></tr>",
                            "<tr><td>3</td><td>2012-03-20 06:44:45</td><td>147</td><td>147</td><td>1</td><td>1</td><td>49.99</td><td>19.49</td></tr>",
                            "</table>"
                        ]
                    }
                }
            ],
            "execution_count": 3
        },
        {
            "cell_type": "code",
            "source": [
                "select YEAR(date(created_at)) as yr, MONTH(DATE(created_at)) as mo,\n",
                "count(order_id) as sales, sum(price_usd) as revenue, \n",
                "sum(price_usd - cogs_usd) as margin\n",
                "from orders\n",
                "where created_at < '2013-01-04'\n",
                "GROUP by 1,2"
            ],
            "metadata": {
                "azdata_cell_guid": "14d39f6b-e633-465d-a702-49cb0f9990bb",
                "language": "sql"
            },
            "outputs": [
{
    "output_type": "display_data",
    "data": {
        "text/html": "(11 row(s) affected)"
    },
    "metadata": {}
}, {
    "output_type": "display_data",
    "data": {
        "text/html": "Total execution time: 00:00:01.026"
    },
    "metadata": {}
}, {
    "output_type": "execute_result",
    "metadata": {},
    "execution_count": 6,
    "data": {
        "application/vnd.dataresource+json": {
            "schema": {
                "fields": [
                    {
                        "name": "yr"
                    },
                    {
                        "name": "mo"
                    },
                    {
                        "name": "sales"
                    },
                    {
                        "name": "revenue"
                    },
                    {
                        "name": "margin"
                    }
                ]
            },
            "data": [
                {
                    "yr": "2012",
                    "mo": "3",
                    "sales": "60",
                    "revenue": "2999.40",
                    "margin": "1830.00"
                },
                {
                    "yr": "2012",
                    "mo": "4",
                    "sales": "99",
                    "revenue": "4949.01",
                    "margin": "3019.50"
                },
                {
                    "yr": "2012",
                    "mo": "5",
                    "sales": "108",
                    "revenue": "5398.92",
                    "margin": "3294.00"
                },
                {
                    "yr": "2012",
                    "mo": "6",
                    "sales": "140",
                    "revenue": "6998.60",
                    "margin": "4270.00"
                },
                {
                    "yr": "2012",
                    "mo": "7",
                    "sales": "169",
                    "revenue": "8448.31",
                    "margin": "5154.50"
                },
                {
                    "yr": "2012",
                    "mo": "8",
                    "sales": "228",
                    "revenue": "11397.72",
                    "margin": "6954.00"
                },
                {
                    "yr": "2012",
                    "mo": "9",
                    "sales": "287",
                    "revenue": "14347.13",
                    "margin": "8753.50"
                },
                {
                    "yr": "2012",
                    "mo": "10",
                    "sales": "371",
                    "revenue": "18546.29",
                    "margin": "11315.50"
                },
                {
                    "yr": "2012",
                    "mo": "11",
                    "sales": "618",
                    "revenue": "30893.82",
                    "margin": "18849.00"
                },
                {
                    "yr": "2012",
                    "mo": "12",
                    "sales": "506",
                    "revenue": "25294.94",
                    "margin": "15433.00"
                },
                {
                    "yr": "2013",
                    "mo": "1",
                    "sales": "42",
                    "revenue": "2099.58",
                    "margin": "1281.00"
                }
            ]
        },
        "text/html": [
            "<table>",
            "<tr><th>yr</th><th>mo</th><th>sales</th><th>revenue</th><th>margin</th></tr>",
            "<tr><td>2012</td><td>3</td><td>60</td><td>2999.40</td><td>1830.00</td></tr>",
            "<tr><td>2012</td><td>4</td><td>99</td><td>4949.01</td><td>3019.50</td></tr>",
            "<tr><td>2012</td><td>5</td><td>108</td><td>5398.92</td><td>3294.00</td></tr>",
            "<tr><td>2012</td><td>6</td><td>140</td><td>6998.60</td><td>4270.00</td></tr>",
            "<tr><td>2012</td><td>7</td><td>169</td><td>8448.31</td><td>5154.50</td></tr>",
            "<tr><td>2012</td><td>8</td><td>228</td><td>11397.72</td><td>6954.00</td></tr>",
            "<tr><td>2012</td><td>9</td><td>287</td><td>14347.13</td><td>8753.50</td></tr>",
            "<tr><td>2012</td><td>10</td><td>371</td><td>18546.29</td><td>11315.50</td></tr>",
            "<tr><td>2012</td><td>11</td><td>618</td><td>30893.82</td><td>18849.00</td></tr>",
            "<tr><td>2012</td><td>12</td><td>506</td><td>25294.94</td><td>15433.00</td></tr>",
            "<tr><td>2013</td><td>1</td><td>42</td><td>2099.58</td><td>1281.00</td></tr>",
            "</table>"
        ]
    }
}
],
            "execution_count": 6
        }
    ]
}