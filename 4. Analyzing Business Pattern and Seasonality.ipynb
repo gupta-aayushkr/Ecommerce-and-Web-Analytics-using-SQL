{
    "metadata": {
        "kernelspec": {
            "name": "SQL",
            "display_name": "SQL",
            "language": "sql"
        },
        "language_info": {
            "name": "sql",
            "version": ""
        }
    },
    "nbformat_minor": 2,
    "nbformat": 4,
    "cells": [
        {
            "cell_type": "code",
            "source": [
                "use mavenfuzzyfactory"
            ],
            "metadata": {
                "azdata_cell_guid": "cd2f2c97-3e0e-4a38-82e6-ca9937046937",
                "language": "sql"
            },
            "outputs": [
                {
                    "output_type": "display_data",
                    "data": {
                        "text/html": "Commands completed successfully"
                    },
                    "metadata": {}
                },
                {
                    "output_type": "display_data",
                    "data": {
                        "text/html": "Total execution time: 00:00:00.006"
                    },
                    "metadata": {}
                }
            ],
            "execution_count": 1
        },
        {
            "cell_type": "markdown",
            "source": [
                "**Subject: Understanding Seasonality**\n",
                "\n",
                "<span style=\"font-family: -apple-system, BlinkMacSystemFont, sans-serif; color: var(--vscode-foreground);\">2012 was a great year for us. As we continue to grow, we&nbsp;</span> <span style=\"font-family: -apple-system, BlinkMacSystemFont, sans-serif; color: var(--vscode-foreground);\">should take a look at 2012's monthly and weekly volume&nbsp;</span> <span style=\"font-family: -apple-system, BlinkMacSystemFont, sans-serif; color: var(--vscode-foreground);\">patterns, to see if we can find any seasonal trends we&nbsp;</span> <span style=\"font-family: -apple-system, BlinkMacSystemFont, sans-serif; color: var(--vscode-foreground);\">should plan for in 2013.&nbsp;</span> <span style=\"font-family: -apple-system, BlinkMacSystemFont, sans-serif; color: var(--vscode-foreground);\">If you can pull session volume and order volume, that&nbsp;</span> <span style=\"font-family: -apple-system, BlinkMacSystemFont, sans-serif; color: var(--vscode-foreground);\">would be excellent</span>"
            ],
            "metadata": {
                "language": "sql",
                "azdata_cell_guid": "409eb1f7-3ec0-4a3c-8ff7-3d46a67c7f8d"
            },
            "attachments": {}
        },
        {
            "cell_type": "code",
            "source": [
                "select * from website_sessions limit 2"
            ],
            "metadata": {
                "azdata_cell_guid": "bf5039ac-ee2c-4afa-bcf4-d4af69efdbd7",
                "language": "sql"
            },
            "outputs": [
                {
                    "output_type": "display_data",
                    "data": {
                        "text/html": "(2 row(s) affected)"
                    },
                    "metadata": {}
                },
                {
                    "output_type": "display_data",
                    "data": {
                        "text/html": "Total execution time: 00:00:01.002"
                    },
                    "metadata": {}
                },
                {
                    "output_type": "execute_result",
                    "metadata": {},
                    "execution_count": 5,
                    "data": {
                        "application/vnd.dataresource+json": {
                            "schema": {
                                "fields": [
                                    {
                                        "name": "website_session_id"
                                    },
                                    {
                                        "name": "created_at"
                                    },
                                    {
                                        "name": "user_id"
                                    },
                                    {
                                        "name": "is_repeat_session"
                                    },
                                    {
                                        "name": "utm_source"
                                    },
                                    {
                                        "name": "utm_campaign"
                                    },
                                    {
                                        "name": "utm_content"
                                    },
                                    {
                                        "name": "device_type"
                                    },
                                    {
                                        "name": "http_referer"
                                    }
                                ]
                            },
                            "data": [
                                {
                                    "website_session_id": "1",
                                    "created_at": "2012-03-19 08:04:16",
                                    "user_id": "1",
                                    "is_repeat_session": "0",
                                    "utm_source": "gsearch",
                                    "utm_campaign": "nonbrand",
                                    "utm_content": "g_ad_1",
                                    "device_type": "mobile",
                                    "http_referer": "https://www.gsearch.com"
                                },
                                {
                                    "website_session_id": "2",
                                    "created_at": "2012-03-19 08:16:49",
                                    "user_id": "2",
                                    "is_repeat_session": "0",
                                    "utm_source": "gsearch",
                                    "utm_campaign": "nonbrand",
                                    "utm_content": "g_ad_1",
                                    "device_type": "desktop",
                                    "http_referer": "https://www.gsearch.com"
                                }
                            ]
                        },
                        "text/html": [
                            "<table>",
                            "<tr><th>website_session_id</th><th>created_at</th><th>user_id</th><th>is_repeat_session</th><th>utm_source</th><th>utm_campaign</th><th>utm_content</th><th>device_type</th><th>http_referer</th></tr>",
                            "<tr><td>1</td><td>2012-03-19 08:04:16</td><td>1</td><td>0</td><td>gsearch</td><td>nonbrand</td><td>g_ad_1</td><td>mobile</td><td>https://www.gsearch.com</td></tr>",
                            "<tr><td>2</td><td>2012-03-19 08:16:49</td><td>2</td><td>0</td><td>gsearch</td><td>nonbrand</td><td>g_ad_1</td><td>desktop</td><td>https://www.gsearch.com</td></tr>",
                            "</table>"
                        ]
                    }
                }
            ],
            "execution_count": 5
        },
        {
            "cell_type": "code",
            "source": [
                "select * from orders limit 2"
            ],
            "metadata": {
                "azdata_cell_guid": "c4b6a48f-2670-44eb-ab38-62d8980abf97",
                "language": "sql"
            },
            "outputs": [
                {
                    "output_type": "display_data",
                    "data": {
                        "text/html": "(2 row(s) affected)"
                    },
                    "metadata": {}
                },
                {
                    "output_type": "display_data",
                    "data": {
                        "text/html": "Total execution time: 00:00:01.034"
                    },
                    "metadata": {}
                },
                {
                    "output_type": "execute_result",
                    "metadata": {},
                    "execution_count": 6,
                    "data": {
                        "application/vnd.dataresource+json": {
                            "schema": {
                                "fields": [
                                    {
                                        "name": "order_id"
                                    },
                                    {
                                        "name": "created_at"
                                    },
                                    {
                                        "name": "website_session_id"
                                    },
                                    {
                                        "name": "user_id"
                                    },
                                    {
                                        "name": "primary_product_id"
                                    },
                                    {
                                        "name": "items_purchased"
                                    },
                                    {
                                        "name": "price_usd"
                                    },
                                    {
                                        "name": "cogs_usd"
                                    }
                                ]
                            },
                            "data": [
                                {
                                    "order_id": "1",
                                    "created_at": "2012-03-19 10:42:46",
                                    "website_session_id": "20",
                                    "user_id": "20",
                                    "primary_product_id": "1",
                                    "items_purchased": "1",
                                    "price_usd": "49.99",
                                    "cogs_usd": "19.49"
                                },
                                {
                                    "order_id": "2",
                                    "created_at": "2012-03-19 19:27:37",
                                    "website_session_id": "104",
                                    "user_id": "104",
                                    "primary_product_id": "1",
                                    "items_purchased": "1",
                                    "price_usd": "49.99",
                                    "cogs_usd": "19.49"
                                }
                            ]
                        },
                        "text/html": [
                            "<table>",
                            "<tr><th>order_id</th><th>created_at</th><th>website_session_id</th><th>user_id</th><th>primary_product_id</th><th>items_purchased</th><th>price_usd</th><th>cogs_usd</th></tr>",
                            "<tr><td>1</td><td>2012-03-19 10:42:46</td><td>20</td><td>20</td><td>1</td><td>1</td><td>49.99</td><td>19.49</td></tr>",
                            "<tr><td>2</td><td>2012-03-19 19:27:37</td><td>104</td><td>104</td><td>1</td><td>1</td><td>49.99</td><td>19.49</td></tr>",
                            "</table>"
                        ]
                    }
                }
            ],
            "execution_count": 6
        },
        {
            "cell_type": "code",
            "source": [
                "select\n",
                "min(date(website_sessions.created_at)) as week_start_date,\n",
                "count(DISTINCT website_sessions.website_session_id) as sessions,\n",
                "count(DISTINCT orders.order_id) as orders\n",
                "from website_sessions\n",
                "left join orders\n",
                "on website_sessions.website_session_id = orders.website_session_id\n",
                "where website_sessions.created_at < '2013-01-01'\n",
                "GROUP by YEARWEEK(date(website_sessions.created_at))"
            ],
            "metadata": {
                "azdata_cell_guid": "cbe25dbb-bdf6-4765-95c1-63e8f3c4e5da",
                "language": "sql"
            },
            "outputs": [
                {
                    "output_type": "display_data",
                    "data": {
                        "text/html": "(42 row(s) affected)"
                    },
                    "metadata": {}
                },
                {
                    "output_type": "display_data",
                    "data": {
                        "text/html": "Total execution time: 00:00:01.215"
                    },
                    "metadata": {}
                },
                {
                    "output_type": "execute_result",
                    "metadata": {},
                    "execution_count": 30,
                    "data": {
                        "application/vnd.dataresource+json": {
                            "schema": {
                                "fields": [
                                    {
                                        "name": "week_start_date"
                                    },
                                    {
                                        "name": "sessions"
                                    },
                                    {
                                        "name": "orders"
                                    }
                                ]
                            },
                            "data": [
                                {
                                    "week_start_date": "2012-03-19",
                                    "sessions": "896",
                                    "orders": "25"
                                },
                                {
                                    "week_start_date": "2012-03-25",
                                    "sessions": "983",
                                    "orders": "35"
                                },
                                {
                                    "week_start_date": "2012-04-01",
                                    "sessions": "1193",
                                    "orders": "29"
                                },
                                {
                                    "week_start_date": "2012-04-08",
                                    "sessions": "1029",
                                    "orders": "28"
                                },
                                {
                                    "week_start_date": "2012-04-15",
                                    "sessions": "679",
                                    "orders": "22"
                                },
                                {
                                    "week_start_date": "2012-04-22",
                                    "sessions": "655",
                                    "orders": "18"
                                },
                                {
                                    "week_start_date": "2012-04-29",
                                    "sessions": "770",
                                    "orders": "19"
                                },
                                {
                                    "week_start_date": "2012-05-06",
                                    "sessions": "798",
                                    "orders": "17"
                                },
                                {
                                    "week_start_date": "2012-05-13",
                                    "sessions": "706",
                                    "orders": "23"
                                },
                                {
                                    "week_start_date": "2012-05-20",
                                    "sessions": "965",
                                    "orders": "28"
                                },
                                {
                                    "week_start_date": "2012-05-27",
                                    "sessions": "875",
                                    "orders": "31"
                                },
                                {
                                    "week_start_date": "2012-06-03",
                                    "sessions": "920",
                                    "orders": "34"
                                },
                                {
                                    "week_start_date": "2012-06-10",
                                    "sessions": "994",
                                    "orders": "29"
                                },
                                {
                                    "week_start_date": "2012-06-17",
                                    "sessions": "966",
                                    "orders": "37"
                                },
                                {
                                    "week_start_date": "2012-06-24",
                                    "sessions": "883",
                                    "orders": "32"
                                },
                                {
                                    "week_start_date": "2012-07-01",
                                    "sessions": "892",
                                    "orders": "30"
                                },
                                {
                                    "week_start_date": "2012-07-08",
                                    "sessions": "925",
                                    "orders": "36"
                                },
                                {
                                    "week_start_date": "2012-07-15",
                                    "sessions": "987",
                                    "orders": "47"
                                },
                                {
                                    "week_start_date": "2012-07-22",
                                    "sessions": "954",
                                    "orders": "41"
                                },
                                {
                                    "week_start_date": "2012-07-29",
                                    "sessions": "1172",
                                    "orders": "55"
                                },
                                {
                                    "week_start_date": "2012-08-05",
                                    "sessions": "1235",
                                    "orders": "48"
                                },
                                {
                                    "week_start_date": "2012-08-12",
                                    "sessions": "1181",
                                    "orders": "39"
                                },
                                {
                                    "week_start_date": "2012-08-19",
                                    "sessions": "1522",
                                    "orders": "55"
                                },
                                {
                                    "week_start_date": "2012-08-26",
                                    "sessions": "1593",
                                    "orders": "52"
                                },
                                {
                                    "week_start_date": "2012-09-02",
                                    "sessions": "1418",
                                    "orders": "56"
                                },
                                {
                                    "week_start_date": "2012-09-09",
                                    "sessions": "1488",
                                    "orders": "72"
                                },
                                {
                                    "week_start_date": "2012-09-16",
                                    "sessions": "1776",
                                    "orders": "76"
                                },
                                {
                                    "week_start_date": "2012-09-23",
                                    "sessions": "1624",
                                    "orders": "70"
                                },
                                {
                                    "week_start_date": "2012-09-30",
                                    "sessions": "1553",
                                    "orders": "67"
                                },
                                {
                                    "week_start_date": "2012-10-07",
                                    "sessions": "1632",
                                    "orders": "73"
                                },
                                {
                                    "week_start_date": "2012-10-14",
                                    "sessions": "1955",
                                    "orders": "93"
                                },
                                {
                                    "week_start_date": "2012-10-21",
                                    "sessions": "2042",
                                    "orders": "95"
                                },
                                {
                                    "week_start_date": "2012-10-28",
                                    "sessions": "1923",
                                    "orders": "82"
                                },
                                {
                                    "week_start_date": "2012-11-04",
                                    "sessions": "2086",
                                    "orders": "91"
                                },
                                {
                                    "week_start_date": "2012-11-11",
                                    "sessions": "1973",
                                    "orders": "101"
                                },
                                {
                                    "week_start_date": "2012-11-18",
                                    "sessions": "5130",
                                    "orders": "223"
                                },
                                {
                                    "week_start_date": "2012-11-25",
                                    "sessions": "4172",
                                    "orders": "179"
                                },
                                {
                                    "week_start_date": "2012-12-02",
                                    "sessions": "2727",
                                    "orders": "145"
                                },
                                {
                                    "week_start_date": "2012-12-09",
                                    "sessions": "2489",
                                    "orders": "123"
                                },
                                {
                                    "week_start_date": "2012-12-16",
                                    "sessions": "2718",
                                    "orders": "135"
                                },
                                {
                                    "week_start_date": "2012-12-23",
                                    "sessions": "1682",
                                    "orders": "74"
                                },
                                {
                                    "week_start_date": "2012-12-30",
                                    "sessions": "309",
                                    "orders": "21"
                                }
                            ]
                        },
                        "text/html": [
                            "<table>",
                            "<tr><th>week_start_date</th><th>sessions</th><th>orders</th></tr>",
                            "<tr><td>2012-03-19</td><td>896</td><td>25</td></tr>",
                            "<tr><td>2012-03-25</td><td>983</td><td>35</td></tr>",
                            "<tr><td>2012-04-01</td><td>1193</td><td>29</td></tr>",
                            "<tr><td>2012-04-08</td><td>1029</td><td>28</td></tr>",
                            "<tr><td>2012-04-15</td><td>679</td><td>22</td></tr>",
                            "<tr><td>2012-04-22</td><td>655</td><td>18</td></tr>",
                            "<tr><td>2012-04-29</td><td>770</td><td>19</td></tr>",
                            "<tr><td>2012-05-06</td><td>798</td><td>17</td></tr>",
                            "<tr><td>2012-05-13</td><td>706</td><td>23</td></tr>",
                            "<tr><td>2012-05-20</td><td>965</td><td>28</td></tr>",
                            "<tr><td>2012-05-27</td><td>875</td><td>31</td></tr>",
                            "<tr><td>2012-06-03</td><td>920</td><td>34</td></tr>",
                            "<tr><td>2012-06-10</td><td>994</td><td>29</td></tr>",
                            "<tr><td>2012-06-17</td><td>966</td><td>37</td></tr>",
                            "<tr><td>2012-06-24</td><td>883</td><td>32</td></tr>",
                            "<tr><td>2012-07-01</td><td>892</td><td>30</td></tr>",
                            "<tr><td>2012-07-08</td><td>925</td><td>36</td></tr>",
                            "<tr><td>2012-07-15</td><td>987</td><td>47</td></tr>",
                            "<tr><td>2012-07-22</td><td>954</td><td>41</td></tr>",
                            "<tr><td>2012-07-29</td><td>1172</td><td>55</td></tr>",
                            "<tr><td>2012-08-05</td><td>1235</td><td>48</td></tr>",
                            "<tr><td>2012-08-12</td><td>1181</td><td>39</td></tr>",
                            "<tr><td>2012-08-19</td><td>1522</td><td>55</td></tr>",
                            "<tr><td>2012-08-26</td><td>1593</td><td>52</td></tr>",
                            "<tr><td>2012-09-02</td><td>1418</td><td>56</td></tr>",
                            "<tr><td>2012-09-09</td><td>1488</td><td>72</td></tr>",
                            "<tr><td>2012-09-16</td><td>1776</td><td>76</td></tr>",
                            "<tr><td>2012-09-23</td><td>1624</td><td>70</td></tr>",
                            "<tr><td>2012-09-30</td><td>1553</td><td>67</td></tr>",
                            "<tr><td>2012-10-07</td><td>1632</td><td>73</td></tr>",
                            "<tr><td>2012-10-14</td><td>1955</td><td>93</td></tr>",
                            "<tr><td>2012-10-21</td><td>2042</td><td>95</td></tr>",
                            "<tr><td>2012-10-28</td><td>1923</td><td>82</td></tr>",
                            "<tr><td>2012-11-04</td><td>2086</td><td>91</td></tr>",
                            "<tr><td>2012-11-11</td><td>1973</td><td>101</td></tr>",
                            "<tr><td>2012-11-18</td><td>5130</td><td>223</td></tr>",
                            "<tr><td>2012-11-25</td><td>4172</td><td>179</td></tr>",
                            "<tr><td>2012-12-02</td><td>2727</td><td>145</td></tr>",
                            "<tr><td>2012-12-09</td><td>2489</td><td>123</td></tr>",
                            "<tr><td>2012-12-16</td><td>2718</td><td>135</td></tr>",
                            "<tr><td>2012-12-23</td><td>1682</td><td>74</td></tr>",
                            "<tr><td>2012-12-30</td><td>309</td><td>21</td></tr>",
                            "</table>"
                        ]
                    }
                }
            ],
            "execution_count": 30
        },
        {
            "cell_type": "markdown",
            "source": [
                "**Subject: Data for Customer Service**\n",
                "\n",
                "<span style=\"font-family: -apple-system, BlinkMacSystemFont, sans-serif; color: var(--vscode-foreground);\">We're considering adding live chat support to the website&nbsp;</span>    <span style=\"font-family: -apple-system, BlinkMacSystemFont, sans-serif; color: var(--vscode-foreground);\">to improve our customer experience. Could you analyze&nbsp;</span>    <span style=\"font-family: -apple-system, BlinkMacSystemFont, sans-serif; color: var(--vscode-foreground);\">the average website session volume, by hour of day and&nbsp;</span>    <span style=\"font-family: -apple-system, BlinkMacSystemFont, sans-serif; color: var(--vscode-foreground);\">by day week, so that we can staff appropriately?&nbsp;</span>    <span style=\"font-family: -apple-system, BlinkMacSystemFont, sans-serif; color: var(--vscode-foreground);\">Let's avoid the holiday time period and use a date range of&nbsp;</span>   Sep 15 - Nov 15, 2012.\n",
                "\n",
                "**Important: To Extract Date we use date() function which is not required in other function such as hour, week, quater and other function**"
            ],
            "metadata": {
                "language": "sql",
                "azdata_cell_guid": "a3a1e913-57f5-4ddc-8360-51cc443c8ffd"
            },
            "attachments": {}
        },
        {
            "cell_type": "code",
            "source": [
                "SELECT hour(created_at) as hrs, \n",
                "count(DISTINCT case when weekday(created_at) = 'Monday' then website_session_id else null end) as mon,\n",
                "count(DISTINCT case when weekday(created_at) = 'Tuesday' then website_session_id else null end) as tue,\n",
                "count(DISTINCT case when weekday(created_at) = 'Wednesday' then website_session_id else null end) as wed,\n",
                "count(DISTINCT case when weekday(created_at) = 'Thurday' then website_session_id else null end) as thur,\n",
                "count(DISTINCT case when weekday(created_at) = 'Friday' then website_session_id else null end) as fri,\n",
                "count(DISTINCT case when weekday(created_at) = 'Saturday' then website_session_id else null end) as sat,\n",
                "count(DISTINCT case when weekday(created_at) = 'Sunday' then website_session_id else null end) as sun\n",
                "FROM website_sessions\n",
                "group by hrs\n",
                "order by hrs "
            ],
            "metadata": {
                "azdata_cell_guid": "694dd558-f498-492d-894b-8927526c89d4",
                "language": "sql"
            },
            "outputs": [
{
    "output_type": "display_data",
    "data": {
        "text/html": "(24 row(s) affected)"
    },
    "metadata": {}
}, {
    "output_type": "display_data",
    "data": {
        "text/html": "Total execution time: 00:00:01.572"
    },
    "metadata": {}
}, {
    "output_type": "execute_result",
    "metadata": {},
    "execution_count": 38,
    "data": {
        "application/vnd.dataresource+json": {
            "schema": {
                "fields": [
                    {
                        "name": "hrs"
                    },
                    {
                        "name": "mon"
                    },
                    {
                        "name": "tue"
                    },
                    {
                        "name": "wed"
                    },
                    {
                        "name": "thur"
                    },
                    {
                        "name": "fri"
                    },
                    {
                        "name": "sat"
                    },
                    {
                        "name": "sun"
                    }
                ]
            },
            "data": [
                {
                    "hrs": "0",
                    "mon": "2133",
                    "tue": "2133",
                    "wed": "2133",
                    "thur": "2133",
                    "fri": "2133",
                    "sat": "2133",
                    "sun": "2133"
                },
                {
                    "hrs": "1",
                    "mon": "1896",
                    "tue": "1896",
                    "wed": "1896",
                    "thur": "1896",
                    "fri": "1896",
                    "sat": "1896",
                    "sun": "1896"
                },
                {
                    "hrs": "2",
                    "mon": "1565",
                    "tue": "1565",
                    "wed": "1565",
                    "thur": "1565",
                    "fri": "1565",
                    "sat": "1565",
                    "sun": "1565"
                },
                {
                    "hrs": "3",
                    "mon": "1480",
                    "tue": "1480",
                    "wed": "1480",
                    "thur": "1480",
                    "fri": "1480",
                    "sat": "1480",
                    "sun": "1480"
                },
                {
                    "hrs": "4",
                    "mon": "1282",
                    "tue": "1282",
                    "wed": "1282",
                    "thur": "1282",
                    "fri": "1282",
                    "sat": "1282",
                    "sun": "1282"
                },
                {
                    "hrs": "5",
                    "mon": "1643",
                    "tue": "1643",
                    "wed": "1643",
                    "thur": "1643",
                    "fri": "1643",
                    "sat": "1643",
                    "sun": "1643"
                },
                {
                    "hrs": "6",
                    "mon": "1543",
                    "tue": "1543",
                    "wed": "1543",
                    "thur": "1543",
                    "fri": "1543",
                    "sat": "1543",
                    "sun": "1543"
                },
                {
                    "hrs": "7",
                    "mon": "2184",
                    "tue": "2184",
                    "wed": "2184",
                    "thur": "2184",
                    "fri": "2184",
                    "sat": "2184",
                    "sun": "2184"
                },
                {
                    "hrs": "8",
                    "mon": "3236",
                    "tue": "3236",
                    "wed": "3236",
                    "thur": "3236",
                    "fri": "3236",
                    "sat": "3236",
                    "sun": "3236"
                },
                {
                    "hrs": "9",
                    "mon": "4534",
                    "tue": "4534",
                    "wed": "4534",
                    "thur": "4534",
                    "fri": "4534",
                    "sat": "4534",
                    "sun": "4534"
                },
                {
                    "hrs": "10",
                    "mon": "5446",
                    "tue": "5446",
                    "wed": "5446",
                    "thur": "5446",
                    "fri": "5446",
                    "sat": "5446",
                    "sun": "5446"
                },
                {
                    "hrs": "11",
                    "mon": "5431",
                    "tue": "5431",
                    "wed": "5431",
                    "thur": "5431",
                    "fri": "5431",
                    "sat": "5431",
                    "sun": "5431"
                },
                {
                    "hrs": "12",
                    "mon": "5787",
                    "tue": "5787",
                    "wed": "5787",
                    "thur": "5787",
                    "fri": "5787",
                    "sat": "5787",
                    "sun": "5787"
                },
                {
                    "hrs": "13",
                    "mon": "5464",
                    "tue": "5464",
                    "wed": "5464",
                    "thur": "5464",
                    "fri": "5464",
                    "sat": "5464",
                    "sun": "5464"
                },
                {
                    "hrs": "14",
                    "mon": "5290",
                    "tue": "5290",
                    "wed": "5290",
                    "thur": "5290",
                    "fri": "5290",
                    "sat": "5290",
                    "sun": "5290"
                },
                {
                    "hrs": "15",
                    "mon": "5429",
                    "tue": "5429",
                    "wed": "5429",
                    "thur": "5429",
                    "fri": "5429",
                    "sat": "5429",
                    "sun": "5429"
                },
                {
                    "hrs": "16",
                    "mon": "5188",
                    "tue": "5188",
                    "wed": "5188",
                    "thur": "5188",
                    "fri": "5188",
                    "sat": "5188",
                    "sun": "5188"
                },
                {
                    "hrs": "17",
                    "mon": "5295",
                    "tue": "5295",
                    "wed": "5295",
                    "thur": "5295",
                    "fri": "5295",
                    "sat": "5295",
                    "sun": "5295"
                },
                {
                    "hrs": "18",
                    "mon": "3960",
                    "tue": "3960",
                    "wed": "3960",
                    "thur": "3960",
                    "fri": "3960",
                    "sat": "3960",
                    "sun": "3960"
                },
                {
                    "hrs": "19",
                    "mon": "3519",
                    "tue": "3519",
                    "wed": "3519",
                    "thur": "3519",
                    "fri": "3519",
                    "sat": "3519",
                    "sun": "3519"
                },
                {
                    "hrs": "20",
                    "mon": "2980",
                    "tue": "2980",
                    "wed": "2980",
                    "thur": "2980",
                    "fri": "2980",
                    "sat": "2980",
                    "sun": "2980"
                },
                {
                    "hrs": "21",
                    "mon": "3087",
                    "tue": "3087",
                    "wed": "3087",
                    "thur": "3087",
                    "fri": "3087",
                    "sat": "3087",
                    "sun": "3087"
                },
                {
                    "hrs": "22",
                    "mon": "2683",
                    "tue": "2683",
                    "wed": "2683",
                    "thur": "2683",
                    "fri": "2683",
                    "sat": "2683",
                    "sun": "2683"
                },
                {
                    "hrs": "23",
                    "mon": "2252",
                    "tue": "2252",
                    "wed": "2252",
                    "thur": "2252",
                    "fri": "2252",
                    "sat": "2252",
                    "sun": "2252"
                }
            ]
        },
        "text/html": [
            "<table>",
            "<tr><th>hrs</th><th>mon</th><th>tue</th><th>wed</th><th>thur</th><th>fri</th><th>sat</th><th>sun</th></tr>",
            "<tr><td>0</td><td>2133</td><td>2133</td><td>2133</td><td>2133</td><td>2133</td><td>2133</td><td>2133</td></tr>",
            "<tr><td>1</td><td>1896</td><td>1896</td><td>1896</td><td>1896</td><td>1896</td><td>1896</td><td>1896</td></tr>",
            "<tr><td>2</td><td>1565</td><td>1565</td><td>1565</td><td>1565</td><td>1565</td><td>1565</td><td>1565</td></tr>",
            "<tr><td>3</td><td>1480</td><td>1480</td><td>1480</td><td>1480</td><td>1480</td><td>1480</td><td>1480</td></tr>",
            "<tr><td>4</td><td>1282</td><td>1282</td><td>1282</td><td>1282</td><td>1282</td><td>1282</td><td>1282</td></tr>",
            "<tr><td>5</td><td>1643</td><td>1643</td><td>1643</td><td>1643</td><td>1643</td><td>1643</td><td>1643</td></tr>",
            "<tr><td>6</td><td>1543</td><td>1543</td><td>1543</td><td>1543</td><td>1543</td><td>1543</td><td>1543</td></tr>",
            "<tr><td>7</td><td>2184</td><td>2184</td><td>2184</td><td>2184</td><td>2184</td><td>2184</td><td>2184</td></tr>",
            "<tr><td>8</td><td>3236</td><td>3236</td><td>3236</td><td>3236</td><td>3236</td><td>3236</td><td>3236</td></tr>",
            "<tr><td>9</td><td>4534</td><td>4534</td><td>4534</td><td>4534</td><td>4534</td><td>4534</td><td>4534</td></tr>",
            "<tr><td>10</td><td>5446</td><td>5446</td><td>5446</td><td>5446</td><td>5446</td><td>5446</td><td>5446</td></tr>",
            "<tr><td>11</td><td>5431</td><td>5431</td><td>5431</td><td>5431</td><td>5431</td><td>5431</td><td>5431</td></tr>",
            "<tr><td>12</td><td>5787</td><td>5787</td><td>5787</td><td>5787</td><td>5787</td><td>5787</td><td>5787</td></tr>",
            "<tr><td>13</td><td>5464</td><td>5464</td><td>5464</td><td>5464</td><td>5464</td><td>5464</td><td>5464</td></tr>",
            "<tr><td>14</td><td>5290</td><td>5290</td><td>5290</td><td>5290</td><td>5290</td><td>5290</td><td>5290</td></tr>",
            "<tr><td>15</td><td>5429</td><td>5429</td><td>5429</td><td>5429</td><td>5429</td><td>5429</td><td>5429</td></tr>",
            "<tr><td>16</td><td>5188</td><td>5188</td><td>5188</td><td>5188</td><td>5188</td><td>5188</td><td>5188</td></tr>",
            "<tr><td>17</td><td>5295</td><td>5295</td><td>5295</td><td>5295</td><td>5295</td><td>5295</td><td>5295</td></tr>",
            "<tr><td>18</td><td>3960</td><td>3960</td><td>3960</td><td>3960</td><td>3960</td><td>3960</td><td>3960</td></tr>",
            "<tr><td>19</td><td>3519</td><td>3519</td><td>3519</td><td>3519</td><td>3519</td><td>3519</td><td>3519</td></tr>",
            "<tr><td>20</td><td>2980</td><td>2980</td><td>2980</td><td>2980</td><td>2980</td><td>2980</td><td>2980</td></tr>",
            "<tr><td>21</td><td>3087</td><td>3087</td><td>3087</td><td>3087</td><td>3087</td><td>3087</td><td>3087</td></tr>",
            "<tr><td>22</td><td>2683</td><td>2683</td><td>2683</td><td>2683</td><td>2683</td><td>2683</td><td>2683</td></tr>",
            "<tr><td>23</td><td>2252</td><td>2252</td><td>2252</td><td>2252</td><td>2252</td><td>2252</td><td>2252</td></tr>",
            "</table>"
        ]
    }
}
],
            "execution_count": 38
        }
    ]
}