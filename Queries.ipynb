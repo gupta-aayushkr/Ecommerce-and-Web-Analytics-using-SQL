{
    "metadata": {
        "kernelspec": {
            "name": "SQL",
            "display_name": "SQL",
            "language": "sql"
        },
        "language_info": {
            "name": "sql",
            "version": ""
        }
    },
    "nbformat_minor": 2,
    "nbformat": 4,
    "cells": [
        {
            "cell_type": "code",
            "source": [
                "use mavenfuzzyfactory;"
            ],
            "metadata": {
                "azdata_cell_guid": "0a4f06ad-023f-4cb4-95f5-3ba9602ae0e3",
                "language": "sql"
            },
            "outputs": [
                {
                    "output_type": "display_data",
                    "data": {
                        "text/html": "Commands completed successfully"
                    },
                    "metadata": {}
                },
                {
                    "output_type": "display_data",
                    "data": {
                        "text/html": "Total execution time: 00:00:00.007"
                    },
                    "metadata": {}
                }
            ],
            "execution_count": 3
        },
        {
            "cell_type": "code",
            "source": [
                "show TABLEs"
            ],
            "metadata": {
                "azdata_cell_guid": "eb596815-79c1-48bf-8748-0ecafbdde0c7",
                "language": "sql"
            },
            "outputs": [
                {
                    "output_type": "display_data",
                    "data": {
                        "text/html": "(6 row(s) affected)"
                    },
                    "metadata": {}
                },
                {
                    "output_type": "display_data",
                    "data": {
                        "text/html": "Total execution time: 00:00:01.038"
                    },
                    "metadata": {}
                },
                {
                    "output_type": "execute_result",
                    "execution_count": 6,
                    "data": {
                        "application/vnd.dataresource+json": {
                            "schema": {
                                "fields": [
                                    {
                                        "name": "Tables_in_mavenfuzzyfactory"
                                    }
                                ]
                            },
                            "data": [
                                {
                                    "Tables_in_mavenfuzzyfactory": "order_item_refunds"
                                },
                                {
                                    "Tables_in_mavenfuzzyfactory": "order_items"
                                },
                                {
                                    "Tables_in_mavenfuzzyfactory": "orders"
                                },
                                {
                                    "Tables_in_mavenfuzzyfactory": "products"
                                },
                                {
                                    "Tables_in_mavenfuzzyfactory": "website_pageviews"
                                },
                                {
                                    "Tables_in_mavenfuzzyfactory": "website_sessions"
                                }
                            ]
                        },
                        "text/html": "<table><tr><th>Tables_in_mavenfuzzyfactory</th></tr><tr><td>order_item_refunds</td></tr><tr><td>order_items</td></tr><tr><td>orders</td></tr><tr><td>products</td></tr><tr><td>website_pageviews</td></tr><tr><td>website_sessions</td></tr></table>"
                    },
                    "metadata": {}
                }
            ],
            "execution_count": 6
        },
        {
            "cell_type": "code",
            "source": [
                "select * from website_sessions limit 10"
            ],
            "metadata": {
                "azdata_cell_guid": "7fc03cf4-b424-403d-89fa-48fb239630ae",
                "language": "sql"
            },
            "outputs": [
{
    "output_type": "display_data",
    "data": {
        "text/html": "(10 row(s) affected)"
    },
    "metadata": {}
}, {
    "output_type": "display_data",
    "data": {
        "text/html": "Total execution time: 00:00:01.020"
    },
    "metadata": {}
}, {
    "output_type": "execute_result",
    "metadata": {},
    "execution_count": 20,
    "data": {
        "application/vnd.dataresource+json": {
            "schema": {
                "fields": [
                    {
                        "name": "website_session_id"
                    },
                    {
                        "name": "created_at"
                    },
                    {
                        "name": "user_id"
                    },
                    {
                        "name": "is_repeat_session"
                    },
                    {
                        "name": "utm_source"
                    },
                    {
                        "name": "utm_campaign"
                    },
                    {
                        "name": "utm_content"
                    },
                    {
                        "name": "device_type"
                    },
                    {
                        "name": "http_referer"
                    }
                ]
            },
            "data": [
                {
                    "website_session_id": "1",
                    "created_at": "2012-03-19 08:04:16",
                    "user_id": "1",
                    "is_repeat_session": "0",
                    "utm_source": "gsearch",
                    "utm_campaign": "nonbrand",
                    "utm_content": "g_ad_1",
                    "device_type": "mobile",
                    "http_referer": "https://www.gsearch.com"
                },
                {
                    "website_session_id": "2",
                    "created_at": "2012-03-19 08:16:49",
                    "user_id": "2",
                    "is_repeat_session": "0",
                    "utm_source": "gsearch",
                    "utm_campaign": "nonbrand",
                    "utm_content": "g_ad_1",
                    "device_type": "desktop",
                    "http_referer": "https://www.gsearch.com"
                },
                {
                    "website_session_id": "3",
                    "created_at": "2012-03-19 08:26:55",
                    "user_id": "3",
                    "is_repeat_session": "0",
                    "utm_source": "gsearch",
                    "utm_campaign": "nonbrand",
                    "utm_content": "g_ad_1",
                    "device_type": "desktop",
                    "http_referer": "https://www.gsearch.com"
                },
                {
                    "website_session_id": "4",
                    "created_at": "2012-03-19 08:37:33",
                    "user_id": "4",
                    "is_repeat_session": "0",
                    "utm_source": "gsearch",
                    "utm_campaign": "nonbrand",
                    "utm_content": "g_ad_1",
                    "device_type": "desktop",
                    "http_referer": "https://www.gsearch.com"
                },
                {
                    "website_session_id": "5",
                    "created_at": "2012-03-19 09:00:55",
                    "user_id": "5",
                    "is_repeat_session": "0",
                    "utm_source": "gsearch",
                    "utm_campaign": "nonbrand",
                    "utm_content": "g_ad_1",
                    "device_type": "mobile",
                    "http_referer": "https://www.gsearch.com"
                },
                {
                    "website_session_id": "6",
                    "created_at": "2012-03-19 09:05:46",
                    "user_id": "6",
                    "is_repeat_session": "0",
                    "utm_source": "gsearch",
                    "utm_campaign": "nonbrand",
                    "utm_content": "g_ad_1",
                    "device_type": "desktop",
                    "http_referer": "https://www.gsearch.com"
                },
                {
                    "website_session_id": "7",
                    "created_at": "2012-03-19 09:06:27",
                    "user_id": "7",
                    "is_repeat_session": "0",
                    "utm_source": "gsearch",
                    "utm_campaign": "nonbrand",
                    "utm_content": "g_ad_1",
                    "device_type": "mobile",
                    "http_referer": "https://www.gsearch.com"
                },
                {
                    "website_session_id": "8",
                    "created_at": "2012-03-19 09:17:17",
                    "user_id": "8",
                    "is_repeat_session": "0",
                    "utm_source": "gsearch",
                    "utm_campaign": "nonbrand",
                    "utm_content": "g_ad_1",
                    "device_type": "mobile",
                    "http_referer": "https://www.gsearch.com"
                },
                {
                    "website_session_id": "9",
                    "created_at": "2012-03-19 09:27:56",
                    "user_id": "9",
                    "is_repeat_session": "0",
                    "utm_source": "gsearch",
                    "utm_campaign": "nonbrand",
                    "utm_content": "g_ad_1",
                    "device_type": "mobile",
                    "http_referer": "https://www.gsearch.com"
                },
                {
                    "website_session_id": "10",
                    "created_at": "2012-03-19 09:35:37",
                    "user_id": "10",
                    "is_repeat_session": "0",
                    "utm_source": "gsearch",
                    "utm_campaign": "nonbrand",
                    "utm_content": "g_ad_1",
                    "device_type": "mobile",
                    "http_referer": "https://www.gsearch.com"
                }
            ]
        },
        "text/html": [
            "<table>",
            "<tr><th>website_session_id</th><th>created_at</th><th>user_id</th><th>is_repeat_session</th><th>utm_source</th><th>utm_campaign</th><th>utm_content</th><th>device_type</th><th>http_referer</th></tr>",
            "<tr><td>1</td><td>2012-03-19 08:04:16</td><td>1</td><td>0</td><td>gsearch</td><td>nonbrand</td><td>g_ad_1</td><td>mobile</td><td>https://www.gsearch.com</td></tr>",
            "<tr><td>2</td><td>2012-03-19 08:16:49</td><td>2</td><td>0</td><td>gsearch</td><td>nonbrand</td><td>g_ad_1</td><td>desktop</td><td>https://www.gsearch.com</td></tr>",
            "<tr><td>3</td><td>2012-03-19 08:26:55</td><td>3</td><td>0</td><td>gsearch</td><td>nonbrand</td><td>g_ad_1</td><td>desktop</td><td>https://www.gsearch.com</td></tr>",
            "<tr><td>4</td><td>2012-03-19 08:37:33</td><td>4</td><td>0</td><td>gsearch</td><td>nonbrand</td><td>g_ad_1</td><td>desktop</td><td>https://www.gsearch.com</td></tr>",
            "<tr><td>5</td><td>2012-03-19 09:00:55</td><td>5</td><td>0</td><td>gsearch</td><td>nonbrand</td><td>g_ad_1</td><td>mobile</td><td>https://www.gsearch.com</td></tr>",
            "<tr><td>6</td><td>2012-03-19 09:05:46</td><td>6</td><td>0</td><td>gsearch</td><td>nonbrand</td><td>g_ad_1</td><td>desktop</td><td>https://www.gsearch.com</td></tr>",
            "<tr><td>7</td><td>2012-03-19 09:06:27</td><td>7</td><td>0</td><td>gsearch</td><td>nonbrand</td><td>g_ad_1</td><td>mobile</td><td>https://www.gsearch.com</td></tr>",
            "<tr><td>8</td><td>2012-03-19 09:17:17</td><td>8</td><td>0</td><td>gsearch</td><td>nonbrand</td><td>g_ad_1</td><td>mobile</td><td>https://www.gsearch.com</td></tr>",
            "<tr><td>9</td><td>2012-03-19 09:27:56</td><td>9</td><td>0</td><td>gsearch</td><td>nonbrand</td><td>g_ad_1</td><td>mobile</td><td>https://www.gsearch.com</td></tr>",
            "<tr><td>10</td><td>2012-03-19 09:35:37</td><td>10</td><td>0</td><td>gsearch</td><td>nonbrand</td><td>g_ad_1</td><td>mobile</td><td>https://www.gsearch.com</td></tr>",
            "</table>"
        ]
    }
}
],
            "execution_count": 20
        },
        {
            "cell_type": "markdown",
            "source": [
                "**TASK:** We've been live for almost a month now and we're <span style=\"font-family: -apple-system, BlinkMacSystemFont, sans-serif; color: var(--vscode-foreground);\">starting to generate sales.&nbsp;</span>      \n",
                "<span style=\"font-family: -apple-system, BlinkMacSystemFont, sans-serif; color: var(--vscode-foreground);\">Can you help me understand&nbsp;</span>  <span style=\"font-family: -apple-system, BlinkMacSystemFont, sans-serif; color: var(--vscode-foreground);\">where the bulk of our website sessions are coming f</span><span style=\"font-family: -apple-system, BlinkMacSystemFont, sans-serif; color: var(--vscode-foreground);\">rom, through yesterday?&nbsp;</span>       \n",
                "<span style=\"font-family: -apple-system, BlinkMacSystemFont, sans-serif; color: var(--vscode-foreground);\">I'd like to see a breakdown by UTM source, campaign&nbsp;</span>  <span style=\"color: var(--vscode-foreground); font-family: -apple-system, BlinkMacSystemFont, sans-serif;\">and referring domain if possible. Thanks!</span>"
            ],
            "metadata": {
                "language": "sql",
                "azdata_cell_guid": "5ff1fb52-085f-4056-bf99-2cde66269f92"
            },
            "attachments": {}
        },
        {
            "cell_type": "code",
            "source": [
                "select utm_source, utm_campaign, http_referer, count(DISTINCT website_session_id) as no_sessions\n",
                "from website_sessions WHERE created_at < '2012-04-12' \n",
                "GROUP by utm_source, utm_campaign, http_referer\n",
                "ORDER by no_sessions desc"
            ],
            "metadata": {
                "azdata_cell_guid": "b04b9827-e359-443b-a133-bb5ac90cad2f",
                "language": "sql"
            },
            "outputs": [
                {
                    "output_type": "display_data",
                    "data": {
                        "text/html": "(6 row(s) affected)"
                    },
                    "metadata": {}
                },
                {
                    "output_type": "display_data",
                    "data": {
                        "text/html": "Total execution time: 00:00:01.235"
                    },
                    "metadata": {}
                },
                {
                    "output_type": "execute_result",
                    "metadata": {},
                    "execution_count": 19,
                    "data": {
                        "application/vnd.dataresource+json": {
                            "schema": {
                                "fields": [
                                    {
                                        "name": "utm_source"
                                    },
                                    {
                                        "name": "utm_campaign"
                                    },
                                    {
                                        "name": "http_referer"
                                    },
                                    {
                                        "name": "no_sessions"
                                    }
                                ]
                            },
                            "data": [
                                {
                                    "utm_source": "gsearch",
                                    "utm_campaign": "nonbrand",
                                    "http_referer": "https://www.gsearch.com",
                                    "no_sessions": "3613"
                                },
                                {
                                    "utm_source": "NULL",
                                    "utm_campaign": "NULL",
                                    "http_referer": "NULL",
                                    "no_sessions": "28"
                                },
                                {
                                    "utm_source": "NULL",
                                    "utm_campaign": "NULL",
                                    "http_referer": "https://www.gsearch.com",
                                    "no_sessions": "27"
                                },
                                {
                                    "utm_source": "gsearch",
                                    "utm_campaign": "brand",
                                    "http_referer": "https://www.gsearch.com",
                                    "no_sessions": "26"
                                },
                                {
                                    "utm_source": "NULL",
                                    "utm_campaign": "NULL",
                                    "http_referer": "https://www.bsearch.com",
                                    "no_sessions": "7"
                                },
                                {
                                    "utm_source": "bsearch",
                                    "utm_campaign": "brand",
                                    "http_referer": "https://www.bsearch.com",
                                    "no_sessions": "7"
                                }
                            ]
                        },
                        "text/html": [
                            "<table>",
                            "<tr><th>utm_source</th><th>utm_campaign</th><th>http_referer</th><th>no_sessions</th></tr>",
                            "<tr><td>gsearch</td><td>nonbrand</td><td>https://www.gsearch.com</td><td>3613</td></tr>",
                            "<tr><td>NULL</td><td>NULL</td><td>NULL</td><td>28</td></tr>",
                            "<tr><td>NULL</td><td>NULL</td><td>https://www.gsearch.com</td><td>27</td></tr>",
                            "<tr><td>gsearch</td><td>brand</td><td>https://www.gsearch.com</td><td>26</td></tr>",
                            "<tr><td>NULL</td><td>NULL</td><td>https://www.bsearch.com</td><td>7</td></tr>",
                            "<tr><td>bsearch</td><td>brand</td><td>https://www.bsearch.com</td><td>7</td></tr>",
                            "</table>"
                        ]
                    }
                }
            ],
            "execution_count": 19
        }
    ]
}