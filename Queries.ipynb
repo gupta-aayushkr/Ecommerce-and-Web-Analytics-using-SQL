{
    "metadata": {
        "kernelspec": {
            "name": "SQL",
            "display_name": "SQL",
            "language": "sql"
        },
        "language_info": {
            "name": "sql",
            "version": ""
        }
    },
    "nbformat_minor": 2,
    "nbformat": 4,
    "cells": [
        {
            "cell_type": "code",
            "source": [
                "use mavenfuzzyfactory;"
            ],
            "metadata": {
                "azdata_cell_guid": "0a4f06ad-023f-4cb4-95f5-3ba9602ae0e3",
                "language": "sql"
            },
            "outputs": [
                {
                    "output_type": "display_data",
                    "data": {
                        "text/html": "Commands completed successfully"
                    },
                    "metadata": {}
                },
                {
                    "output_type": "display_data",
                    "data": {
                        "text/html": "Total execution time: 00:00:00.007"
                    },
                    "metadata": {}
                }
            ],
            "execution_count": 3
        },
        {
            "cell_type": "code",
            "source": [
                "show TABLES"
            ],
            "metadata": {
                "azdata_cell_guid": "eb596815-79c1-48bf-8748-0ecafbdde0c7",
                "language": "sql"
            },
            "outputs": [
                {
                    "output_type": "display_data",
                    "data": {
                        "text/html": "(6 row(s) affected)"
                    },
                    "metadata": {}
                },
                {
                    "output_type": "display_data",
                    "data": {
                        "text/html": "Total execution time: 00:00:01.038"
                    },
                    "metadata": {}
                },
                {
                    "output_type": "execute_result",
                    "execution_count": 6,
                    "data": {
                        "application/vnd.dataresource+json": {
                            "schema": {
                                "fields": [
                                    {
                                        "name": "Tables_in_mavenfuzzyfactory"
                                    }
                                ]
                            },
                            "data": [
                                {
                                    "Tables_in_mavenfuzzyfactory": "order_item_refunds"
                                },
                                {
                                    "Tables_in_mavenfuzzyfactory": "order_items"
                                },
                                {
                                    "Tables_in_mavenfuzzyfactory": "orders"
                                },
                                {
                                    "Tables_in_mavenfuzzyfactory": "products"
                                },
                                {
                                    "Tables_in_mavenfuzzyfactory": "website_pageviews"
                                },
                                {
                                    "Tables_in_mavenfuzzyfactory": "website_sessions"
                                }
                            ]
                        },
                        "text/html": "<table><tr><th>Tables_in_mavenfuzzyfactory</th></tr><tr><td>order_item_refunds</td></tr><tr><td>order_items</td></tr><tr><td>orders</td></tr><tr><td>products</td></tr><tr><td>website_pageviews</td></tr><tr><td>website_sessions</td></tr></table>"
                    },
                    "metadata": {}
                }
            ],
            "execution_count": 6
        },
        {
            "cell_type": "code",
            "source": [
                "select * from website_sessions limit 5"
            ],
            "metadata": {
                "azdata_cell_guid": "7fc03cf4-b424-403d-89fa-48fb239630ae",
                "language": "sql"
            },
            "outputs": [
                {
                    "output_type": "display_data",
                    "data": {
                        "text/html": "(5 row(s) affected)"
                    },
                    "metadata": {}
                },
                {
                    "output_type": "display_data",
                    "data": {
                        "text/html": "Total execution time: 00:00:01.006"
                    },
                    "metadata": {}
                },
                {
                    "output_type": "execute_result",
                    "metadata": {},
                    "execution_count": 23,
                    "data": {
                        "application/vnd.dataresource+json": {
                            "schema": {
                                "fields": [
                                    {
                                        "name": "website_session_id"
                                    },
                                    {
                                        "name": "created_at"
                                    },
                                    {
                                        "name": "user_id"
                                    },
                                    {
                                        "name": "is_repeat_session"
                                    },
                                    {
                                        "name": "utm_source"
                                    },
                                    {
                                        "name": "utm_campaign"
                                    },
                                    {
                                        "name": "utm_content"
                                    },
                                    {
                                        "name": "device_type"
                                    },
                                    {
                                        "name": "http_referer"
                                    }
                                ]
                            },
                            "data": [
                                {
                                    "website_session_id": "1",
                                    "created_at": "2012-03-19 08:04:16",
                                    "user_id": "1",
                                    "is_repeat_session": "0",
                                    "utm_source": "gsearch",
                                    "utm_campaign": "nonbrand",
                                    "utm_content": "g_ad_1",
                                    "device_type": "mobile",
                                    "http_referer": "https://www.gsearch.com"
                                },
                                {
                                    "website_session_id": "2",
                                    "created_at": "2012-03-19 08:16:49",
                                    "user_id": "2",
                                    "is_repeat_session": "0",
                                    "utm_source": "gsearch",
                                    "utm_campaign": "nonbrand",
                                    "utm_content": "g_ad_1",
                                    "device_type": "desktop",
                                    "http_referer": "https://www.gsearch.com"
                                },
                                {
                                    "website_session_id": "3",
                                    "created_at": "2012-03-19 08:26:55",
                                    "user_id": "3",
                                    "is_repeat_session": "0",
                                    "utm_source": "gsearch",
                                    "utm_campaign": "nonbrand",
                                    "utm_content": "g_ad_1",
                                    "device_type": "desktop",
                                    "http_referer": "https://www.gsearch.com"
                                },
                                {
                                    "website_session_id": "4",
                                    "created_at": "2012-03-19 08:37:33",
                                    "user_id": "4",
                                    "is_repeat_session": "0",
                                    "utm_source": "gsearch",
                                    "utm_campaign": "nonbrand",
                                    "utm_content": "g_ad_1",
                                    "device_type": "desktop",
                                    "http_referer": "https://www.gsearch.com"
                                },
                                {
                                    "website_session_id": "5",
                                    "created_at": "2012-03-19 09:00:55",
                                    "user_id": "5",
                                    "is_repeat_session": "0",
                                    "utm_source": "gsearch",
                                    "utm_campaign": "nonbrand",
                                    "utm_content": "g_ad_1",
                                    "device_type": "mobile",
                                    "http_referer": "https://www.gsearch.com"
                                }
                            ]
                        },
                        "text/html": [
                            "<table>",
                            "<tr><th>website_session_id</th><th>created_at</th><th>user_id</th><th>is_repeat_session</th><th>utm_source</th><th>utm_campaign</th><th>utm_content</th><th>device_type</th><th>http_referer</th></tr>",
                            "<tr><td>1</td><td>2012-03-19 08:04:16</td><td>1</td><td>0</td><td>gsearch</td><td>nonbrand</td><td>g_ad_1</td><td>mobile</td><td>https://www.gsearch.com</td></tr>",
                            "<tr><td>2</td><td>2012-03-19 08:16:49</td><td>2</td><td>0</td><td>gsearch</td><td>nonbrand</td><td>g_ad_1</td><td>desktop</td><td>https://www.gsearch.com</td></tr>",
                            "<tr><td>3</td><td>2012-03-19 08:26:55</td><td>3</td><td>0</td><td>gsearch</td><td>nonbrand</td><td>g_ad_1</td><td>desktop</td><td>https://www.gsearch.com</td></tr>",
                            "<tr><td>4</td><td>2012-03-19 08:37:33</td><td>4</td><td>0</td><td>gsearch</td><td>nonbrand</td><td>g_ad_1</td><td>desktop</td><td>https://www.gsearch.com</td></tr>",
                            "<tr><td>5</td><td>2012-03-19 09:00:55</td><td>5</td><td>0</td><td>gsearch</td><td>nonbrand</td><td>g_ad_1</td><td>mobile</td><td>https://www.gsearch.com</td></tr>",
                            "</table>"
                        ]
                    }
                }
            ],
            "execution_count": 23
        },
        {
            "cell_type": "code",
            "source": [
                "select * from website_pageviews limit 5"
            ],
            "metadata": {
                "language": "sql",
                "azdata_cell_guid": "21c370e4-2aaa-4398-9146-ff894b5adedd"
            },
            "outputs": [
                {
                    "output_type": "display_data",
                    "data": {
                        "text/html": "(5 row(s) affected)"
                    },
                    "metadata": {}
                },
                {
                    "output_type": "display_data",
                    "data": {
                        "text/html": "Total execution time: 00:00:01.005"
                    },
                    "metadata": {}
                },
                {
                    "output_type": "execute_result",
                    "metadata": {},
                    "execution_count": 29,
                    "data": {
                        "application/vnd.dataresource+json": {
                            "schema": {
                                "fields": [
                                    {
                                        "name": "website_pageview_id"
                                    },
                                    {
                                        "name": "created_at"
                                    },
                                    {
                                        "name": "website_session_id"
                                    },
                                    {
                                        "name": "pageview_url"
                                    }
                                ]
                            },
                            "data": [
                                {
                                    "website_pageview_id": "1",
                                    "created_at": "2012-03-19 08:04:16",
                                    "website_session_id": "1",
                                    "pageview_url": "/home"
                                },
                                {
                                    "website_pageview_id": "2",
                                    "created_at": "2012-03-19 08:16:49",
                                    "website_session_id": "2",
                                    "pageview_url": "/home"
                                },
                                {
                                    "website_pageview_id": "3",
                                    "created_at": "2012-03-19 08:26:55",
                                    "website_session_id": "3",
                                    "pageview_url": "/home"
                                },
                                {
                                    "website_pageview_id": "4",
                                    "created_at": "2012-03-19 08:37:33",
                                    "website_session_id": "4",
                                    "pageview_url": "/home"
                                },
                                {
                                    "website_pageview_id": "5",
                                    "created_at": "2012-03-19 09:00:55",
                                    "website_session_id": "5",
                                    "pageview_url": "/home"
                                }
                            ]
                        },
                        "text/html": [
                            "<table>",
                            "<tr><th>website_pageview_id</th><th>created_at</th><th>website_session_id</th><th>pageview_url</th></tr>",
                            "<tr><td>1</td><td>2012-03-19 08:04:16</td><td>1</td><td>/home</td></tr>",
                            "<tr><td>2</td><td>2012-03-19 08:16:49</td><td>2</td><td>/home</td></tr>",
                            "<tr><td>3</td><td>2012-03-19 08:26:55</td><td>3</td><td>/home</td></tr>",
                            "<tr><td>4</td><td>2012-03-19 08:37:33</td><td>4</td><td>/home</td></tr>",
                            "<tr><td>5</td><td>2012-03-19 09:00:55</td><td>5</td><td>/home</td></tr>",
                            "</table>"
                        ]
                    }
                }
            ],
            "execution_count": 29
        },
        {
            "cell_type": "code",
            "source": [
                "select * from orders limit 5"
            ],
            "metadata": {
                "language": "sql",
                "azdata_cell_guid": "63234ad6-f8dd-4a31-91a2-d35ce75797c6"
            },
            "outputs": [
                {
                    "output_type": "display_data",
                    "data": {
                        "text/html": "(5 row(s) affected)"
                    },
                    "metadata": {}
                },
                {
                    "output_type": "display_data",
                    "data": {
                        "text/html": "Total execution time: 00:00:01.001"
                    },
                    "metadata": {}
                },
                {
                    "output_type": "execute_result",
                    "metadata": {},
                    "execution_count": 25,
                    "data": {
                        "application/vnd.dataresource+json": {
                            "schema": {
                                "fields": [
                                    {
                                        "name": "order_id"
                                    },
                                    {
                                        "name": "created_at"
                                    },
                                    {
                                        "name": "website_session_id"
                                    },
                                    {
                                        "name": "user_id"
                                    },
                                    {
                                        "name": "primary_product_id"
                                    },
                                    {
                                        "name": "items_purchased"
                                    },
                                    {
                                        "name": "price_usd"
                                    },
                                    {
                                        "name": "cogs_usd"
                                    }
                                ]
                            },
                            "data": [
                                {
                                    "order_id": "1",
                                    "created_at": "2012-03-19 10:42:46",
                                    "website_session_id": "20",
                                    "user_id": "20",
                                    "primary_product_id": "1",
                                    "items_purchased": "1",
                                    "price_usd": "49.99",
                                    "cogs_usd": "19.49"
                                },
                                {
                                    "order_id": "2",
                                    "created_at": "2012-03-19 19:27:37",
                                    "website_session_id": "104",
                                    "user_id": "104",
                                    "primary_product_id": "1",
                                    "items_purchased": "1",
                                    "price_usd": "49.99",
                                    "cogs_usd": "19.49"
                                },
                                {
                                    "order_id": "3",
                                    "created_at": "2012-03-20 06:44:45",
                                    "website_session_id": "147",
                                    "user_id": "147",
                                    "primary_product_id": "1",
                                    "items_purchased": "1",
                                    "price_usd": "49.99",
                                    "cogs_usd": "19.49"
                                },
                                {
                                    "order_id": "4",
                                    "created_at": "2012-03-20 09:41:45",
                                    "website_session_id": "160",
                                    "user_id": "160",
                                    "primary_product_id": "1",
                                    "items_purchased": "1",
                                    "price_usd": "49.99",
                                    "cogs_usd": "19.49"
                                },
                                {
                                    "order_id": "5",
                                    "created_at": "2012-03-20 11:28:15",
                                    "website_session_id": "177",
                                    "user_id": "177",
                                    "primary_product_id": "1",
                                    "items_purchased": "1",
                                    "price_usd": "49.99",
                                    "cogs_usd": "19.49"
                                }
                            ]
                        },
                        "text/html": [
                            "<table>",
                            "<tr><th>order_id</th><th>created_at</th><th>website_session_id</th><th>user_id</th><th>primary_product_id</th><th>items_purchased</th><th>price_usd</th><th>cogs_usd</th></tr>",
                            "<tr><td>1</td><td>2012-03-19 10:42:46</td><td>20</td><td>20</td><td>1</td><td>1</td><td>49.99</td><td>19.49</td></tr>",
                            "<tr><td>2</td><td>2012-03-19 19:27:37</td><td>104</td><td>104</td><td>1</td><td>1</td><td>49.99</td><td>19.49</td></tr>",
                            "<tr><td>3</td><td>2012-03-20 06:44:45</td><td>147</td><td>147</td><td>1</td><td>1</td><td>49.99</td><td>19.49</td></tr>",
                            "<tr><td>4</td><td>2012-03-20 09:41:45</td><td>160</td><td>160</td><td>1</td><td>1</td><td>49.99</td><td>19.49</td></tr>",
                            "<tr><td>5</td><td>2012-03-20 11:28:15</td><td>177</td><td>177</td><td>1</td><td>1</td><td>49.99</td><td>19.49</td></tr>",
                            "</table>"
                        ]
                    }
                }
            ],
            "execution_count": 25
        },
        {
            "cell_type": "code",
            "source": [
                "select * from order_items limit 5"
            ],
            "metadata": {
                "language": "sql",
                "azdata_cell_guid": "d2aaa21f-1feb-44ba-9ade-4d5262ae38f1"
            },
            "outputs": [
                {
                    "output_type": "display_data",
                    "data": {
                        "text/html": "(5 row(s) affected)"
                    },
                    "metadata": {}
                },
                {
                    "output_type": "display_data",
                    "data": {
                        "text/html": "Total execution time: 00:00:01.009"
                    },
                    "metadata": {}
                },
                {
                    "output_type": "execute_result",
                    "metadata": {},
                    "execution_count": 27,
                    "data": {
                        "application/vnd.dataresource+json": {
                            "schema": {
                                "fields": [
                                    {
                                        "name": "order_item_id"
                                    },
                                    {
                                        "name": "created_at"
                                    },
                                    {
                                        "name": "order_id"
                                    },
                                    {
                                        "name": "product_id"
                                    },
                                    {
                                        "name": "is_primary_item"
                                    },
                                    {
                                        "name": "price_usd"
                                    },
                                    {
                                        "name": "cogs_usd"
                                    }
                                ]
                            },
                            "data": [
                                {
                                    "order_item_id": "1",
                                    "created_at": "2012-03-19 10:42:46",
                                    "order_id": "1",
                                    "product_id": "1",
                                    "is_primary_item": "1",
                                    "price_usd": "49.99",
                                    "cogs_usd": "19.49"
                                },
                                {
                                    "order_item_id": "2",
                                    "created_at": "2012-03-19 19:27:37",
                                    "order_id": "2",
                                    "product_id": "1",
                                    "is_primary_item": "1",
                                    "price_usd": "49.99",
                                    "cogs_usd": "19.49"
                                },
                                {
                                    "order_item_id": "3",
                                    "created_at": "2012-03-20 06:44:45",
                                    "order_id": "3",
                                    "product_id": "1",
                                    "is_primary_item": "1",
                                    "price_usd": "49.99",
                                    "cogs_usd": "19.49"
                                },
                                {
                                    "order_item_id": "4",
                                    "created_at": "2012-03-20 09:41:45",
                                    "order_id": "4",
                                    "product_id": "1",
                                    "is_primary_item": "1",
                                    "price_usd": "49.99",
                                    "cogs_usd": "19.49"
                                },
                                {
                                    "order_item_id": "5",
                                    "created_at": "2012-03-20 11:28:15",
                                    "order_id": "5",
                                    "product_id": "1",
                                    "is_primary_item": "1",
                                    "price_usd": "49.99",
                                    "cogs_usd": "19.49"
                                }
                            ]
                        },
                        "text/html": [
                            "<table>",
                            "<tr><th>order_item_id</th><th>created_at</th><th>order_id</th><th>product_id</th><th>is_primary_item</th><th>price_usd</th><th>cogs_usd</th></tr>",
                            "<tr><td>1</td><td>2012-03-19 10:42:46</td><td>1</td><td>1</td><td>1</td><td>49.99</td><td>19.49</td></tr>",
                            "<tr><td>2</td><td>2012-03-19 19:27:37</td><td>2</td><td>1</td><td>1</td><td>49.99</td><td>19.49</td></tr>",
                            "<tr><td>3</td><td>2012-03-20 06:44:45</td><td>3</td><td>1</td><td>1</td><td>49.99</td><td>19.49</td></tr>",
                            "<tr><td>4</td><td>2012-03-20 09:41:45</td><td>4</td><td>1</td><td>1</td><td>49.99</td><td>19.49</td></tr>",
                            "<tr><td>5</td><td>2012-03-20 11:28:15</td><td>5</td><td>1</td><td>1</td><td>49.99</td><td>19.49</td></tr>",
                            "</table>"
                        ]
                    }
                }
            ],
            "execution_count": 27
        },
        {
            "cell_type": "markdown",
            "source": [
                "**TASK:** We've been live for almost a month now and we're <span style=\"font-family: -apple-system, BlinkMacSystemFont, sans-serif; color: var(--vscode-foreground);\">starting to generate sales.&nbsp;</span> <span style=\"font-family: -apple-system, BlinkMacSystemFont, sans-serif; color: var(--vscode-foreground);\">Where the bulk of our website sessions are coming f</span><span style=\"font-family: -apple-system, BlinkMacSystemFont, sans-serif; color: var(--vscode-foreground);\">rom, through yesterday?&nbsp;</span>  <span style=\"font-family: -apple-system, BlinkMacSystemFont, sans-serif; color: var(--vscode-foreground);\">I'd like to see a breakdown by UTM source, campaign&nbsp;</span> <span style=\"font-family: -apple-system, BlinkMacSystemFont, sans-serif; color: var(--vscode-foreground);\">and referring domain if possible.&nbsp;</span>"
            ],
            "metadata": {
                "language": "sql",
                "azdata_cell_guid": "5ff1fb52-085f-4056-bf99-2cde66269f92"
            },
            "attachments": {}
        },
        {
            "cell_type": "code",
            "source": [
                "select utm_source, utm_campaign, http_referer, count(DISTINCT website_session_id) as no_sessions\n",
                "from website_sessions WHERE created_at < '2012-04-12' \n",
                "GROUP by utm_source, utm_campaign, http_referer\n",
                "ORDER by no_sessions desc"
            ],
            "metadata": {
                "azdata_cell_guid": "b04b9827-e359-443b-a133-bb5ac90cad2f",
                "language": "sql"
            },
            "outputs": [
                {
                    "output_type": "display_data",
                    "data": {
                        "text/html": "(6 row(s) affected)"
                    },
                    "metadata": {}
                },
                {
                    "output_type": "display_data",
                    "data": {
                        "text/html": "Total execution time: 00:00:01.235"
                    },
                    "metadata": {}
                },
                {
                    "output_type": "execute_result",
                    "metadata": {},
                    "execution_count": 19,
                    "data": {
                        "application/vnd.dataresource+json": {
                            "schema": {
                                "fields": [
                                    {
                                        "name": "utm_source"
                                    },
                                    {
                                        "name": "utm_campaign"
                                    },
                                    {
                                        "name": "http_referer"
                                    },
                                    {
                                        "name": "no_sessions"
                                    }
                                ]
                            },
                            "data": [
                                {
                                    "utm_source": "gsearch",
                                    "utm_campaign": "nonbrand",
                                    "http_referer": "https://www.gsearch.com",
                                    "no_sessions": "3613"
                                },
                                {
                                    "utm_source": "NULL",
                                    "utm_campaign": "NULL",
                                    "http_referer": "NULL",
                                    "no_sessions": "28"
                                },
                                {
                                    "utm_source": "NULL",
                                    "utm_campaign": "NULL",
                                    "http_referer": "https://www.gsearch.com",
                                    "no_sessions": "27"
                                },
                                {
                                    "utm_source": "gsearch",
                                    "utm_campaign": "brand",
                                    "http_referer": "https://www.gsearch.com",
                                    "no_sessions": "26"
                                },
                                {
                                    "utm_source": "NULL",
                                    "utm_campaign": "NULL",
                                    "http_referer": "https://www.bsearch.com",
                                    "no_sessions": "7"
                                },
                                {
                                    "utm_source": "bsearch",
                                    "utm_campaign": "brand",
                                    "http_referer": "https://www.bsearch.com",
                                    "no_sessions": "7"
                                }
                            ]
                        },
                        "text/html": [
                            "<table>",
                            "<tr><th>utm_source</th><th>utm_campaign</th><th>http_referer</th><th>no_sessions</th></tr>",
                            "<tr><td>gsearch</td><td>nonbrand</td><td>https://www.gsearch.com</td><td>3613</td></tr>",
                            "<tr><td>NULL</td><td>NULL</td><td>NULL</td><td>28</td></tr>",
                            "<tr><td>NULL</td><td>NULL</td><td>https://www.gsearch.com</td><td>27</td></tr>",
                            "<tr><td>gsearch</td><td>brand</td><td>https://www.gsearch.com</td><td>26</td></tr>",
                            "<tr><td>NULL</td><td>NULL</td><td>https://www.bsearch.com</td><td>7</td></tr>",
                            "<tr><td>bsearch</td><td>brand</td><td>https://www.bsearch.com</td><td>7</td></tr>",
                            "</table>"
                        ]
                    }
                }
            ],
            "execution_count": 19
        },
        {
            "cell_type": "markdown",
            "source": [
                "**Answer:** <span style=\"font-family: -apple-system, BlinkMacSystemFont, sans-serif; color: var(--vscode-foreground);\"> Most Traffic on website was from GSearch from non branded keywords.</span>"
            ],
            "metadata": {
                "language": "sql",
                "azdata_cell_guid": "ab8be735-0368-412c-8d31-883c6baab032"
            },
            "attachments": {}
        },
        {
            "cell_type": "markdown",
            "source": [
                "**TASK:** Sounds like search nonbrand is our major traffic source, but <span style=\"font-family: -apple-system, BlinkMacSystemFont, sans-serif; color: var(--vscode-foreground);\">we need to understand if those sessions are driving sales.&nbsp;</span> Calculate the conversion rate (VR) from <span style=\"font-family: -apple-system, BlinkMacSystemFont, sans-serif; color: var(--vscode-foreground);\">session to order? Based on what we're paying for clicks,&nbsp;</span> <span style=\"font-family: -apple-system, BlinkMacSystemFont, sans-serif; color: var(--vscode-foreground);\">we'll need a CVR of at least 4% to make the numbers work.&nbsp;</span> <span style=\"font-family: -apple-system, BlinkMacSystemFont, sans-serif; color: var(--vscode-foreground);\">If we're much lower, we'll need to reduce bids. If we're&nbsp;</span> <span style=\"font-family: -apple-system, BlinkMacSystemFont, sans-serif; color: var(--vscode-foreground);\">higher, we can increase bids to drive more volume.</span>"
            ],
            "metadata": {
                "language": "sql",
                "azdata_cell_guid": "e6a7627f-9978-4800-8cd5-819847d2ecd4"
            },
            "attachments": {}
        },
        {
            "cell_type": "code",
            "source": [
                "select * FROM orders limit 2"
            ],
            "metadata": {
                "language": "sql",
                "azdata_cell_guid": "4918a416-a248-4619-97a9-e508a62c0678"
            },
            "outputs": [
                {
                    "output_type": "display_data",
                    "data": {
                        "text/html": "(2 row(s) affected)"
                    },
                    "metadata": {}
                },
                {
                    "output_type": "display_data",
                    "data": {
                        "text/html": "Total execution time: 00:00:01.008"
                    },
                    "metadata": {}
                },
                {
                    "output_type": "execute_result",
                    "metadata": {},
                    "execution_count": 37,
                    "data": {
                        "application/vnd.dataresource+json": {
                            "schema": {
                                "fields": [
                                    {
                                        "name": "order_id"
                                    },
                                    {
                                        "name": "created_at"
                                    },
                                    {
                                        "name": "website_session_id"
                                    },
                                    {
                                        "name": "user_id"
                                    },
                                    {
                                        "name": "primary_product_id"
                                    },
                                    {
                                        "name": "items_purchased"
                                    },
                                    {
                                        "name": "price_usd"
                                    },
                                    {
                                        "name": "cogs_usd"
                                    }
                                ]
                            },
                            "data": [
                                {
                                    "order_id": "1",
                                    "created_at": "2012-03-19 10:42:46",
                                    "website_session_id": "20",
                                    "user_id": "20",
                                    "primary_product_id": "1",
                                    "items_purchased": "1",
                                    "price_usd": "49.99",
                                    "cogs_usd": "19.49"
                                },
                                {
                                    "order_id": "2",
                                    "created_at": "2012-03-19 19:27:37",
                                    "website_session_id": "104",
                                    "user_id": "104",
                                    "primary_product_id": "1",
                                    "items_purchased": "1",
                                    "price_usd": "49.99",
                                    "cogs_usd": "19.49"
                                }
                            ]
                        },
                        "text/html": [
                            "<table>",
                            "<tr><th>order_id</th><th>created_at</th><th>website_session_id</th><th>user_id</th><th>primary_product_id</th><th>items_purchased</th><th>price_usd</th><th>cogs_usd</th></tr>",
                            "<tr><td>1</td><td>2012-03-19 10:42:46</td><td>20</td><td>20</td><td>1</td><td>1</td><td>49.99</td><td>19.49</td></tr>",
                            "<tr><td>2</td><td>2012-03-19 19:27:37</td><td>104</td><td>104</td><td>1</td><td>1</td><td>49.99</td><td>19.49</td></tr>",
                            "</table>"
                        ]
                    }
                }
            ],
            "execution_count": 37
        },
        {
            "cell_type": "code",
            "source": [
                "select * from website_sessions limit 2"
            ],
            "metadata": {
                "azdata_cell_guid": "2d1e490c-2b92-4fa5-8159-447c851e3d26",
                "language": "sql"
            },
            "outputs": [
                {
                    "output_type": "display_data",
                    "data": {
                        "text/html": "(2 row(s) affected)"
                    },
                    "metadata": {}
                },
                {
                    "output_type": "display_data",
                    "data": {
                        "text/html": "Total execution time: 00:00:01.009"
                    },
                    "metadata": {}
                },
                {
                    "output_type": "execute_result",
                    "metadata": {},
                    "execution_count": 36,
                    "data": {
                        "application/vnd.dataresource+json": {
                            "schema": {
                                "fields": [
                                    {
                                        "name": "website_session_id"
                                    },
                                    {
                                        "name": "created_at"
                                    },
                                    {
                                        "name": "user_id"
                                    },
                                    {
                                        "name": "is_repeat_session"
                                    },
                                    {
                                        "name": "utm_source"
                                    },
                                    {
                                        "name": "utm_campaign"
                                    },
                                    {
                                        "name": "utm_content"
                                    },
                                    {
                                        "name": "device_type"
                                    },
                                    {
                                        "name": "http_referer"
                                    }
                                ]
                            },
                            "data": [
                                {
                                    "website_session_id": "1",
                                    "created_at": "2012-03-19 08:04:16",
                                    "user_id": "1",
                                    "is_repeat_session": "0",
                                    "utm_source": "gsearch",
                                    "utm_campaign": "nonbrand",
                                    "utm_content": "g_ad_1",
                                    "device_type": "mobile",
                                    "http_referer": "https://www.gsearch.com"
                                },
                                {
                                    "website_session_id": "2",
                                    "created_at": "2012-03-19 08:16:49",
                                    "user_id": "2",
                                    "is_repeat_session": "0",
                                    "utm_source": "gsearch",
                                    "utm_campaign": "nonbrand",
                                    "utm_content": "g_ad_1",
                                    "device_type": "desktop",
                                    "http_referer": "https://www.gsearch.com"
                                }
                            ]
                        },
                        "text/html": [
                            "<table>",
                            "<tr><th>website_session_id</th><th>created_at</th><th>user_id</th><th>is_repeat_session</th><th>utm_source</th><th>utm_campaign</th><th>utm_content</th><th>device_type</th><th>http_referer</th></tr>",
                            "<tr><td>1</td><td>2012-03-19 08:04:16</td><td>1</td><td>0</td><td>gsearch</td><td>nonbrand</td><td>g_ad_1</td><td>mobile</td><td>https://www.gsearch.com</td></tr>",
                            "<tr><td>2</td><td>2012-03-19 08:16:49</td><td>2</td><td>0</td><td>gsearch</td><td>nonbrand</td><td>g_ad_1</td><td>desktop</td><td>https://www.gsearch.com</td></tr>",
                            "</table>"
                        ]
                    }
                }
            ],
            "execution_count": 36
        },
        {
            "cell_type": "code",
            "source": [
                "select count(DISTINCT website_sessions.website_session_id) as sessions, count(DISTINCT orders.order_id) as orders, \n",
                "count(DISTINCT orders.order_id)/count(DISTINCT website_sessions.website_session_id) as session_to_order_conv_rt\n",
                "FROM website_sessions\n",
                "LEFT JOIN orders\n",
                "ON website_sessions.website_session_id = orders.website_session_id\n",
                "WHERE website_sessions.created_at < '2012-04-14'\n",
                "AND website_sessions.utm_source = 'gsearch' \n",
                "AND website_sessions.utm_campaign = 'nonbrand'"
            ],
            "metadata": {
                "azdata_cell_guid": "fcedaa9b-9abf-40a8-8d6b-c5b019b09c8d",
                "language": "sql"
            },
            "outputs": [
{
    "output_type": "display_data",
    "data": {
        "text/html": "(1 row(s) affected)"
    },
    "metadata": {}
}, {
    "output_type": "display_data",
    "data": {
        "text/html": "Total execution time: 00:00:01.270"
    },
    "metadata": {}
}, {
    "output_type": "execute_result",
    "metadata": {},
    "execution_count": 49,
    "data": {
        "application/vnd.dataresource+json": {
            "schema": {
                "fields": [
                    {
                        "name": "sessions"
                    },
                    {
                        "name": "orders"
                    },
                    {
                        "name": "session_to_order_conv_rt"
                    }
                ]
            },
            "data": [
                {
                    "sessions": "3895",
                    "orders": "112",
                    "session_to_order_conv_rt": "0.0288"
                }
            ]
        },
        "text/html": [
            "<table>",
            "<tr><th>sessions</th><th>orders</th><th>session_to_order_conv_rt</th></tr>",
            "<tr><td>3895</td><td>112</td><td>0.0288</td></tr>",
            "</table>"
        ]
    }
}
],
            "execution_count": 49
        }
    ]
}