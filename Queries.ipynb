{
    "metadata": {
        "kernelspec": {
            "name": "SQL",
            "display_name": "SQL",
            "language": "sql"
        },
        "language_info": {
            "name": "sql",
            "version": ""
        }
    },
    "nbformat_minor": 2,
    "nbformat": 4,
    "cells": [
        {
            "cell_type": "code",
            "source": [
                "use mavenfuzzyfactory"
            ],
            "metadata": {
                "azdata_cell_guid": "0a4f06ad-023f-4cb4-95f5-3ba9602ae0e3",
                "language": "sql"
            },
            "outputs": [
                {
                    "output_type": "display_data",
                    "data": {
                        "text/html": "Commands completed successfully"
                    },
                    "metadata": {}
                },
                {
                    "output_type": "display_data",
                    "data": {
                        "text/html": "Total execution time: 00:00:00.007"
                    },
                    "metadata": {}
                }
            ],
            "execution_count": 3
        },
        {
            "cell_type": "code",
            "source": [
                "\n",
                ""
            ],
            "metadata": {
                "language": "sql",
                "azdata_cell_guid": "0018c793-1892-4b95-8f03-c4adfba09fef"
            },
            "outputs": [],
            "execution_count": null
        },
        {
            "cell_type": "code",
            "source": [
                "select * from mavenfuzzyfactory"
            ],
            "metadata": {
                "azdata_cell_guid": "733d3bc9-00c5-421b-b4c4-dfb616f03982",
                "language": "sql"
            },
            "outputs": [
                {
                    "output_type": "display_data",
                    "data": {
                        "text/html": "Total execution time: 00:00:00.019"
                    },
                    "metadata": {}
                },
                {
                    "output_type": "error",
                    "evalue": "1146 (42S02): Table 'mavenfuzzyfactory.mavenfuzzyfactory' doesn't exist",
                    "ename": "",
                    "traceback": []
                }
            ],
            "execution_count": 4
        },
        {
            "cell_type": "code",
            "source": [
                "show TABLEs"
            ],
            "metadata": {
                "azdata_cell_guid": "eb596815-79c1-48bf-8748-0ecafbdde0c7",
                "language": "sql"
            },
            "outputs": [
{
    "output_type": "display_data",
    "data": {
        "text/html": "(6 row(s) affected)"
    },
    "metadata": {}
}, {
    "output_type": "display_data",
    "data": {
        "text/html": "Total execution time: 00:00:01.038"
    },
    "metadata": {}
}, {
    "output_type": "execute_result",
    "metadata": {},
    "execution_count": 6,
    "data": {
        "application/vnd.dataresource+json": {
            "schema": {
                "fields": [
                    {
                        "name": "Tables_in_mavenfuzzyfactory"
                    }
                ]
            },
            "data": [
                {
                    "Tables_in_mavenfuzzyfactory": "order_item_refunds"
                },
                {
                    "Tables_in_mavenfuzzyfactory": "order_items"
                },
                {
                    "Tables_in_mavenfuzzyfactory": "orders"
                },
                {
                    "Tables_in_mavenfuzzyfactory": "products"
                },
                {
                    "Tables_in_mavenfuzzyfactory": "website_pageviews"
                },
                {
                    "Tables_in_mavenfuzzyfactory": "website_sessions"
                }
            ]
        },
        "text/html": [
            "<table>",
            "<tr><th>Tables_in_mavenfuzzyfactory</th></tr>",
            "<tr><td>order_item_refunds</td></tr>",
            "<tr><td>order_items</td></tr>",
            "<tr><td>orders</td></tr>",
            "<tr><td>products</td></tr>",
            "<tr><td>website_pageviews</td></tr>",
            "<tr><td>website_sessions</td></tr>",
            "</table>"
        ]
    }
}
],
            "execution_count": 6
        }
    ]
}